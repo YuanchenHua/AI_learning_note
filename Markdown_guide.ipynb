{
 "cells": [
  {
   "cell_type": "markdown",
   "metadata": {},
   "source": [
    "# 1.head"
   ]
  },
  {
   "cell_type": "markdown",
   "metadata": {},
   "source": [
    "# This is an <h1> tag"
   ]
  },
  {
   "cell_type": "markdown",
   "metadata": {},
   "source": [
    "## This is an <h2> tag\n"
   ]
  },
  {
   "cell_type": "markdown",
   "metadata": {},
   "source": [
    "###### This is an <h6> tag"
   ]
  },
  {
   "cell_type": "markdown",
   "metadata": {},
   "source": []
  },
  {
   "cell_type": "markdown",
   "metadata": {},
   "source": [
    "# 2.Emphasis 双星加粗，单星斜体，可组合\n",
    "\n",
    "\n",
    "*This text will be italic*\n",
    "_This will also be italic_\n",
    "\n",
    "**This text will be bold**\n",
    "__This will also be bold__\n",
    "\n",
    "_You **can** combine them_"
   ]
  },
  {
   "cell_type": "markdown",
   "metadata": {},
   "source": [
    "# 3.Lists\n",
    "## 3.1 Unordered 单星空格\n",
    "* Item 1\n",
    "* Item 2\n",
    "  * Item 2a\n",
    "  * Item 2b\n",
    "## 3.2 Ordered 数字点空格\n",
    "1. Item 1\n",
    "1. Item 2\n",
    "1. Item 3\n",
    "   1. Item 3a\n",
    "   1. Item 3b"
   ]
  },
  {
   "cell_type": "markdown",
   "metadata": {},
   "source": [
    "# 4.Image 感叹号$[$图片名$]$$($地址$)$\n",
    "![me](https://pandas.pydata.org/_static/pandas_logo.png)\n",
    "![图片名](https://pandas.pydata.org/_static/pandas_logo.png)\n",
    "![](https://pandas.pydata.org/_static/pandas_logo.png)"
   ]
  },
  {
   "cell_type": "markdown",
   "metadata": {},
   "source": [
    "# 4.Links $[$名称$]$$($地址$)$ 或者直接贴\n",
    "http://www.google.com - automatic!\n",
    "\n",
    "\n",
    "[GitHub](http://github.com)"
   ]
  },
  {
   "cell_type": "markdown",
   "metadata": {},
   "source": [
    "# 5.Blockquotes\n",
    "As Kanye West said:\n",
    "\n",
    "> We're living the future so\n",
    "> the present is our past."
   ]
  },
  {
   "cell_type": "markdown",
   "metadata": {},
   "source": [
    "# 6.Inline code `<addr>`\n",
    "I think you should use an\n",
    "`<addr>` element here instead. "
   ]
  },
  {
   "cell_type": "markdown",
   "metadata": {},
   "source": [
    "# 7.Code\n",
    "```javascript\n",
    "function fancyAlert(arg) {\n",
    "  if(arg) {\n",
    "    $.facebox({div:'#foo'})\n",
    "  }\n",
    "}\n",
    "```\n",
    "\n",
    "\n",
    "```python\n",
    "def foo():\n",
    "    if not bar:\n",
    "        return True\n",
    "```"
   ]
  },
  {
   "cell_type": "markdown",
   "metadata": {},
   "source": [
    "# 8.Tables\n",
    "First Header | Second Header\n",
    "------------ | -------------\n",
    "Content from cell 1 | Content from cell 2\n",
    "Content in the first column | Content in the second column\n",
    "Content in the first column | Content in the second column"
   ]
  },
  {
   "cell_type": "markdown",
   "metadata": {},
   "source": [
    "# 9.font\n",
    "<font face=\"黑体\">我是黑体字</font>  \n",
    "<font face=\"微软雅黑\">我是微软雅黑</font>  \n",
    "<font face=\"STCAIYUN\">我是华文彩云</font>  \n",
    "<font color=red>我是红色</font>  \n",
    "<font color=#008000>我是绿色</font>  \n",
    "<font color=Blue>我是蓝色</font>  \n",
    "<font size=5>我是尺寸</font>  \n",
    "<font face=\"黑体\" color=green size=5>我是黑体，绿色，尺寸为5</font>  \n",
    "<table><tr><td bgcolor=yellow>背景色yellow</td></tr></table>"
   ]
  },
  {
   "cell_type": "markdown",
   "metadata": {},
   "source": [
    "# 数学公式一览\n",
    "# **very usefull tool [online transform](http://latex.codecogs.com/eqneditor/editor.php)**\n",
    "## 行内与独行\n",
    "行内公式：将公式插入到本行内，符号：$公式内容$，如：$xyz$  \n",
    "独行公式：将公式插入到新的一行内，并且居中，符号 如：$$xyz$$\n",
    "## 上标、下标与组合\n",
    "上标符号，符号：^，如：$x^4$  \n",
    "下标符号，符号：_，如：$x_1$  \n",
    "组合符号，符号：{}，如：${16}_{8}O{2+}_{2}$  "
   ]
  },
  {
   "cell_type": "markdown",
   "metadata": {},
   "source": [
    "## 汉字、字体与格式\n",
    "汉字形式，符号：\\mbox{}，如：$V_{\\mbox{初始}}$  \n",
    "字体控制，符号：\\displaystyle，如：$\\displaystyle \\frac{x+y}{y+z}$  \n",
    "下划线符号，符号：\\underline，如：$\\underline{x+y}$  \n",
    "标签，符号\\tag{数字}，如：$\\tag{11}$  \n",
    "上大括号，符号：\\overbrace{算式}，如：$\\overbrace{a+b+c+d}^{2.0}$  \n",
    "下大括号，符号：\\underbrace{算式}，如：$a+\\underbrace{b+c}_{1.0}+d$  \n",
    "上位符号，符号：\\stacrel{上位符号}{基位符号}，如：$\\vec{x}\\stackrel{\\mathrm{def}}{=}{x_1,\\dots,x_n}$  \n",
    "## 占位符\n",
    "两个quad空格，符号：\\qquad，如：$x \\qquad y$  \n",
    "quad空格，符号：\\quad，如：$x \\quad y$  \n",
    "大空格，符号\\，如：$x \\ y$  \n",
    "中空格，符号\\:，如：$x : y$  \n",
    "小空格，符号\\,，如：$x , y$  \n",
    "没有空格，符号``，如：$xy$  \n",
    "紧贴，符号\\!，如：$x ! y$  \n",
    "\n"
   ]
  },
  {
   "cell_type": "markdown",
   "metadata": {},
   "source": [
    "##  定界符与组合\n",
    "括号，符号：（）\\big(\\big) \\Big(\\Big) \\bigg(\\bigg) \\Bigg(\\Bigg)，如：$（）\\big(\\big) \\Big(\\Big) \\bigg(\\bigg) \\Bigg(\\Bigg)$  \n",
    "中括号，符号：[]，如：$[x+y]$  \n",
    "大括号，符号：\\{ \\}，如：${x+y}$  \n",
    "自适应括号，符号：\\left \\right，如：$\\left(x\\right)$，$\\left(x{yz}\\right)$  \n",
    "组合公式，符号：{上位公式 \\choose 下位公式}，如：${n+1 \\choose k}={n \\choose k}+{n \\choose k-1}$  \n",
    "组合公式，符号：{上位公式 \\atop 下位公式}，如：$\\sum_{k_0,k_1,\\ldots>0 \\atop k_0+k_1+\\cdots=n}A_{k_0}A_{k_1}\\cdots$  \n",
    "## 四则运算\n",
    "加法运算，符号：+，如：$x+y=z$  \n",
    "减法运算，符号：-，如：$x-y=z$  \n",
    "加减运算，符号：\\pm，如：$x \\pm y=z$  \n",
    "减甲运算，符号：\\mp，如：$x \\mp y=z$  \n",
    "乘法运算，符号：\\times，如：$x \\times y=z$  \n",
    "点乘运算，符号：\\cdot，如：$x \\cdot y=z$  \n",
    "星乘运算，符号：\\ast，如：$x \\ast y=z$  \n",
    "除法运算，符号：\\div，如：$x \\div y=z$  \n",
    "斜法运算，符号：/，如：$x/y=z$  \n",
    "分式表示，符号：\\frac{分子}{分母}，如：$\\frac{x+y}{y+z}$  \n",
    "分式表示，符号：{分子} \\voer {分母}，如：${x+y} \\over {y+z}$  \n",
    "绝对值表示，符号：||，如：$|x+y|$  \n"
   ]
  },
  {
   "cell_type": "markdown",
   "metadata": {},
   "source": [
    "## 高级运算\n",
    "平均数运算，符号：\\overline{算式}，如：$\\overline{xyz}$  \n",
    "开二次方运算，符号：\\sqrt，如：$\\sqrt x$  \n",
    "开方运算，符号：\\sqrt[开方数]{被开方数}，如：$\\sqrt[3]{x+y}$  \n",
    "对数运算，符号：\\log，如：$\\log(x)$  \n",
    "极限运算，符号：\\lim，如：$\\lim^{x \\to \\infty}_{y \\to 0}{\\frac{x}{y}}$  \n",
    "极限运算，符号：\\displaystyle \\lim，如：$\\displaystyle \\lim^{x \\to \\infty}_{y \\to 0}{\\frac{x}{y}}$  \n",
    "求和运算，符号：\\sum，如：$\\sum^{x \\to \\infty}_{y \\to 0}{\\frac{x}{y}}$  \n",
    "求和运算，符号：\\displaystyle \\sum，如：$\\displaystyle \\sum^{x \\to \\infty}_{y \\to 0}{\\frac{x}{y}}$  \n",
    "积分运算，符号：\\int，如：$\\int^{\\infty}_{0}{xdx}$  \n",
    "积分运算，符号：\\displaystyle \\int，如：$\\displaystyle \\int^{\\infty}_{0}{xdx}$  \n",
    "微分运算，符号：\\partial，如：$\\frac{\\partial x}{\\partial y}$  \n",
    "矩阵表示，符号：\\begin{matrix} \\end{matrix}，如：$\\left[ \\begin{matrix} 1 &2 &\\cdots &4\\5 &6 &\\cdots &8\\\\vdots &\\vdots &\\ddots &\\vdots\\13 &14 &\\cdots &16\\end{matrix} \\right]$  \n"
   ]
  },
  {
   "cell_type": "markdown",
   "metadata": {},
   "source": [
    "## 逻辑运算\n",
    "等于运算，符号：=，如：$x+y=z$  \n",
    "大于运算，符号：>，如：$x+y>z$  \n",
    "小于运算，符号：<，如：$x+y<z$  \n",
    "大于等于运算，符号：\\geq，如：$x+y \\geq z$  \n",
    "小于等于运算，符号：\\leq，如：$x+y \\leq z$  \n",
    "不等于运算，符号：\\neq，如：$x+y \\neq z$  \n",
    "不大于等于运算，符号：\\ngeq，如：$x+y \\ngeq z$  \n",
    "不大于等于运算，符号：\\not\\geq，如：$x+y \\not\\geq z$  \n",
    "不小于等于运算，符号：\\nleq，如：$x+y \\nleq z$  \n",
    "不小于等于运算，符号：\\not\\leq，如：$x+y \\not\\leq z$  \n",
    "约等于运算，符号：\\approx，如：$x+y \\approx z$  \n",
    "恒定等于运算，符号：\\equiv，如：$x+y \\equiv z$  \n"
   ]
  },
  {
   "cell_type": "markdown",
   "metadata": {},
   "source": [
    "## 集合运算\n",
    "属于运算，符号：\\in，如：$x \\in y$  \n",
    "不属于运算，符号：\\notin，如：$x \\notin y$  \n",
    "不属于运算，符号：\\not\\in，如：$x \\not\\in y$  \n",
    "子集运算，符号：\\subset，如：$x \\subset y$  \n",
    "子集运算，符号：\\supset，如：$x \\supset y$  \n",
    "真子集运算，符号：\\subseteq，如：$x \\subseteq y$  \n",
    "非真子集运算，符号：\\subsetneq，如：$x \\subsetneq y$  \n",
    "真子集运算，符号：\\supseteq，如：$x \\supseteq y$  \n",
    "非真子集运算，符号：\\supsetneq，如：$x \\supsetneq y$  \n",
    "非子集运算，符号：\\not\\subset，如：$x \\not\\subset y$  \n",
    "非子集运算，符号：\\not\\supset，如：$x \\not\\supset y$  \n",
    "并集运算，符号：\\cup，如：$x \\cup y$  \n",
    "交集运算，符号：\\cap，如：$x \\cap y$  \n",
    "差集运算，符号：\\setminus，如：$x \\setminus y$  \n",
    "同或运算，符号：\\bigodot，如：$x \\bigodot y$  \n",
    "同与运算，符号：\\bigotimes，如：$x \\bigotimes y$  \n",
    "实数集合，符号：\\mathbb{R}，如：\\mathbb{R}  \n",
    "自然数集合，符号：\\mathbb{Z}，如：\\mathbb{Z}  \n",
    "空集，符号：\\emptyset，如：$\\emptyset$  \n"
   ]
  },
  {
   "cell_type": "markdown",
   "metadata": {},
   "source": [
    "## 数学符号\n",
    "无穷，符号：\\infty，如：$\\infty$  \n",
    "虚数，符号：\\imath，如：$\\imath$  \n",
    "虚数，符号：\\jmath，如：$\\jmath$  \n",
    "数学符号，符号\\hat{a}，如：$\\hat{a}$  \n",
    "数学符号，符号\\check{a}，如：$\\check{a}$  \n",
    "数学符号，符号\\breve{a}，如：$\\breve{a}$  \n",
    "数学符号，符号\\tilde{a}，如：$\\tilde{a}$  \n",
    "数学符号，符号\\bar{a}，如：$\\bar{a}$  \n",
    "矢量符号，符号\\vec{a}，如：$\\vec{a}$  \n",
    "数学符号，符号\\acute{a}，如：$\\acute{a}$  \n",
    "数学符号，符号\\grave{a}，如：$\\grave{a}$  \n",
    "数学符号，符号\\mathring{a}，如：$\\mathring{a}$  \n",
    "一阶导数符号，符号\\dot{a}，如：$\\dot{a}$  \n",
    "二阶导数符号，符号\\ddot{a}，如：$\\ddot{a}$  \n",
    "上箭头，符号：\\uparrow，如：$\\uparrow$  \n",
    "上箭头，符号：\\Uparrow，如：$\\Uparrow$  \n",
    "下箭头，符号：\\downarrow，如：$\\downarrow$  \n",
    "下箭头，符号：\\Downarrow，如：$\\Downarrow$  \n",
    "左箭头，符号：\\leftarrow，如：$\\leftarrow$  \n",
    "左箭头，符号：\\Leftarrow，如：$\\Leftarrow$  \n",
    "右箭头，符号：\\rightarrow，如：$\\rightarrow$  \n",
    "右箭头，符号：\\Rightarrow，如：$\\Rightarrow$  \n",
    "底端对齐的省略号，符号：\\ldots，如：$1,2,\\ldots,n$  \n",
    "中线对齐的省略号，符号：\\cdots，如：$x_1^2 + x_2^2 + \\cdots + x_n^2$  \n",
    "竖直对齐的省略号，符号：\\vdots，如：$\\vdots$  \n",
    "斜对齐的省略号，符号：\\ddots，如：$\\ddots$  \n"
   ]
  },
  {
   "cell_type": "markdown",
   "metadata": {},
   "source": [
    "## 希腊字母\n",
    " 字母|实现|字母|实现\n",
    " ----| ---- |------ |-----\n",
    "A|\tA\t|α\t|\\alhpa\n",
    "B|\tB\t|β\t|\\beta\n",
    "Γ|\t\\Gamma\t|γ\t|\\gamma\n",
    "Δ|\t\\Delta\t|δ\t|\\delta\n",
    "E|\tE   |ϵ\t|\\epsilon\n",
    "Z|\tZ\t|ζ\t|\\zeta\n",
    "H|\tH\t|η\t|\\eta\n",
    " Θ|\t\\Theta|\tθ|\t\\theta\n",
    "I|\tI\t|ι\t|\\iota\n",
    "K|\tK\t|κ\t|\\kappa\n",
    "Λ|\t\\Lambda\t|λ|\t\\lambda\n",
    "M|\tM\t|μ\t|\\mu\n",
    "N|\tN\t|ν\t|\\nu\n",
    "Ξ|\t\\Xi\t|ξ\t|\\xi\n",
    "O|\tO\t|ο\t|\\omicron\n",
    "Π|\t\\Pi\t|π\t|\\pi\n",
    "P|\tP\t|ρ\t|\\rho\n",
    "Σ|\t\\Sigma|\tσ\t|\\sigma\n",
    "T|\tT\t|τ\t|\\tau\n",
    "Υ|\t\\Upsilon|\tυ|\t\\upsilon\n",
    "Φ|\t\\Phi|\tϕ\t|\\phi\n",
    "X|\tX\t|χ\t|\\chi\n",
    "Ψ|\t\\Psi|\tψ\t|\\psi\n",
    "Ω|\t\\v\t|ω\t|\\omega"
   ]
  },
  {
   "cell_type": "code",
   "execution_count": null,
   "metadata": {},
   "outputs": [],
   "source": []
  }
 ],
 "metadata": {
  "kernelspec": {
   "display_name": "Python 3",
   "language": "python",
   "name": "python3"
  },
  "language_info": {
   "codemirror_mode": {
    "name": "ipython",
    "version": 3
   },
   "file_extension": ".py",
   "mimetype": "text/x-python",
   "name": "python",
   "nbconvert_exporter": "python",
   "pygments_lexer": "ipython3",
   "version": "3.7.4"
  }
 },
 "nbformat": 4,
 "nbformat_minor": 2
}
