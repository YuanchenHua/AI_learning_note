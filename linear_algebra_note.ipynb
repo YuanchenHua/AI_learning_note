{
 "cells": [
  {
   "cell_type": "markdown",
   "metadata": {},
   "source": [
    "# linear algebra\n",
    "## inverse\n",
    "### 矩阵可逆证明\n",
    "能找到非0向量 $x$ 使得 $Ax = 0 $的矩阵A不可逆\n",
    "\n",
    "证明：两边同乘以 $A^{-1}$ 得到 $A^{-1}Ax = A^{-1} \\cdot 0$\n",
    "\n",
    "得到 $Ix = 0$，因为$Ix = x$ 得到 $x = 0$  因为$x$非0向量，证明\n",
    "\n",
    "### 高斯消元求逆矩阵证明\n",
    "$E[A|I] = [I|Z]$ why Z is inverse of $A$:\n",
    "\n",
    "\n",
    "lefthandside: $E\\cdot A = I$ ,so $E = A^{-1}$\n",
    "\n",
    "\n",
    "rigththandside $E\\cdot I = E = Z $, we knew $E =A^{-1} $ so $Z = A^{-1}$ proved"
   ]
  },
  {
   "cell_type": "markdown",
   "metadata": {},
   "source": []
  },
  {
   "cell_type": "code",
   "execution_count": null,
   "metadata": {},
   "outputs": [],
   "source": []
  }
 ],
 "metadata": {
  "kernelspec": {
   "display_name": "Python 3",
   "language": "python",
   "name": "python3"
  },
  "language_info": {
   "codemirror_mode": {
    "name": "ipython",
    "version": 3
   },
   "file_extension": ".py",
   "mimetype": "text/x-python",
   "name": "python",
   "nbconvert_exporter": "python",
   "pygments_lexer": "ipython3",
   "version": "3.7.4"
  }
 },
 "nbformat": 4,
 "nbformat_minor": 2
}
