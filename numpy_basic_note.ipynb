{
 "cells": [
  {
   "cell_type": "code",
   "execution_count": 1,
   "metadata": {},
   "outputs": [],
   "source": [
    "import numpy as np\n",
    "import numpy.matlib \n",
    "def printline():\n",
    "    print(\"-------------------------------------\")"
   ]
  },
  {
   "cell_type": "markdown",
   "metadata": {
    "heading_collapsed": true
   },
   "source": [
    "# 对位各种运算符算，有一维一样就能广播\n",
    "# 很多统计方法，没指定维数就是展开全部，指定了就按指定的算"
   ]
  },
  {
   "cell_type": "markdown",
   "metadata": {
    "heading_collapsed": true
   },
   "source": [
    "# 1.数据类型"
   ]
  },
  {
   "cell_type": "markdown",
   "metadata": {
    "hidden": true
   },
   "source": [
    "### `np.dtype()`\n",
    "[自定义dtype](https://numpy.org/devdocs/reference/generated/numpy.dtype.html?highlight=dtype#numpy.dtype)"
   ]
  },
  {
   "cell_type": "code",
   "execution_count": 5,
   "metadata": {
    "hidden": true
   },
   "outputs": [
    {
     "name": "stdout",
     "output_type": "stream",
     "text": [
      "[['Mary' '20']\n",
      " ['Tom' '22']]\n",
      "(2, 2)\n"
     ]
    }
   ],
   "source": [
    "student = np.dtype([('name','S10'),('age','i1')])\n",
    "\n",
    "d_student = np.array([('Mary',20),('Tom',22)])\n",
    "print(d_student)\n",
    "print(d_student.shape)"
   ]
  },
  {
   "cell_type": "code",
   "execution_count": 6,
   "metadata": {
    "hidden": true,
    "scrolled": true
   },
   "outputs": [
    {
     "name": "stdout",
     "output_type": "stream",
     "text": [
      "[(b'Mary', 20) (b'Tom', 22)]\n",
      "(2,)\n"
     ]
    }
   ],
   "source": [
    "d_student = np.array([('Mary',20),('Tom',22)],dtype = student)\n",
    "print(d_student)\n",
    "print(d_student.shape)"
   ]
  },
  {
   "cell_type": "markdown",
   "metadata": {
    "heading_collapsed": true
   },
   "source": [
    "# 2.数组属性\n"
   ]
  },
  {
   "cell_type": "markdown",
   "metadata": {
    "heading_collapsed": true,
    "hidden": true
   },
   "source": [
    "### `a.ndim`"
   ]
  },
  {
   "cell_type": "code",
   "execution_count": 15,
   "metadata": {
    "hidden": true
   },
   "outputs": [
    {
     "name": "stdout",
     "output_type": "stream",
     "text": [
      "1\n"
     ]
    }
   ],
   "source": [
    "print(d_student.ndim)"
   ]
  },
  {
   "cell_type": "markdown",
   "metadata": {
    "heading_collapsed": true,
    "hidden": true
   },
   "source": [
    "### `a.shape`"
   ]
  },
  {
   "cell_type": "code",
   "execution_count": 16,
   "metadata": {
    "hidden": true
   },
   "outputs": [
    {
     "name": "stdout",
     "output_type": "stream",
     "text": [
      "(2, 3)\n"
     ]
    }
   ],
   "source": [
    "a = np.array([[1,2,3],[4,5,6]])  \n",
    "print (a.shape)"
   ]
  },
  {
   "cell_type": "markdown",
   "metadata": {
    "hidden": true
   },
   "source": [
    "每列对不上的话，不显示另外的一个"
   ]
  },
  {
   "cell_type": "code",
   "execution_count": 17,
   "metadata": {
    "hidden": true
   },
   "outputs": [
    {
     "name": "stdout",
     "output_type": "stream",
     "text": [
      "(2, 3)\n",
      "(2,)\n"
     ]
    }
   ],
   "source": [
    "a = np.array([[1,2,3],[4,5,6]])  \n",
    "print (a.shape)\n",
    "a = np.array([[1,2,3,6,9],[4,5,6]])  \n",
    "print (a.shape)\n"
   ]
  },
  {
   "cell_type": "markdown",
   "metadata": {
    "heading_collapsed": true,
    "hidden": true
   },
   "source": [
    "### `a.itemsize`"
   ]
  },
  {
   "cell_type": "code",
   "execution_count": 37,
   "metadata": {
    "hidden": true,
    "scrolled": true
   },
   "outputs": [
    {
     "name": "stdout",
     "output_type": "stream",
     "text": [
      "1\n",
      "8\n"
     ]
    }
   ],
   "source": [
    "# 数组的 dtype 为 int8（一个字节）  \n",
    "x = np.array([1,2,3,4,5], dtype = np.int8)  \n",
    "print (x.itemsize)\n",
    "# 数组的 dtype 现在为 float64（八个字节） \n",
    "y = np.array([1,2,3,4,5], dtype = np.float64)  \n",
    "print (y.itemsize)"
   ]
  },
  {
   "cell_type": "markdown",
   "metadata": {
    "heading_collapsed": true
   },
   "source": [
    "# 3.创建数组"
   ]
  },
  {
   "cell_type": "markdown",
   "metadata": {
    "heading_collapsed": true,
    "hidden": true
   },
   "source": [
    "### `numpy.empty(shape, dtype = float, order = 'C')` 创建随机组"
   ]
  },
  {
   "cell_type": "code",
   "execution_count": 22,
   "metadata": {
    "hidden": true
   },
   "outputs": [
    {
     "data": {
      "text/plain": [
       "array([[0, 0],\n",
       "       [0, 0],\n",
       "       [0, 0]])"
      ]
     },
     "execution_count": 22,
     "metadata": {},
     "output_type": "execute_result"
    }
   ],
   "source": [
    "y = np.empty([3,2], dtype = int) \n",
    "# 数组元素为随机值，因为它们未初始化。\n",
    "y"
   ]
  },
  {
   "cell_type": "markdown",
   "metadata": {
    "heading_collapsed": true,
    "hidden": true
   },
   "source": [
    "### `numpy.zeros(shape, dtype = float, order = 'C')` 创建全0数组"
   ]
  },
  {
   "cell_type": "code",
   "execution_count": 23,
   "metadata": {
    "hidden": true
   },
   "outputs": [
    {
     "name": "stdout",
     "output_type": "stream",
     "text": [
      "[0. 0. 0. 0. 0.]\n"
     ]
    }
   ],
   "source": [
    "x = np.zeros(5)\n",
    "print(x)"
   ]
  },
  {
   "cell_type": "code",
   "execution_count": 24,
   "metadata": {
    "hidden": true
   },
   "outputs": [
    {
     "name": "stdout",
     "output_type": "stream",
     "text": [
      "[[0 0]\n",
      " [0 0]]\n"
     ]
    }
   ],
   "source": [
    "x = np.zeros((2,2),dtype = int)\n",
    "print(x)"
   ]
  },
  {
   "cell_type": "code",
   "execution_count": 25,
   "metadata": {
    "hidden": true
   },
   "outputs": [
    {
     "name": "stdout",
     "output_type": "stream",
     "text": [
      "[[(0, 0) (0, 0) (0, 0)]\n",
      " [(0, 0) (0, 0) (0, 0)]\n",
      " [(0, 0) (0, 0) (0, 0)]]\n"
     ]
    }
   ],
   "source": [
    "x = np.zeros((3,3),dtype = [('x',int),('y',int)])\n",
    "print(x)"
   ]
  },
  {
   "cell_type": "markdown",
   "metadata": {
    "hidden": true
   },
   "source": [
    "### `numpy.ones(shape, dtype = None, order = 'C')` 创建全1数组"
   ]
  },
  {
   "cell_type": "markdown",
   "metadata": {
    "heading_collapsed": true,
    "hidden": true
   },
   "source": [
    "### `numpy.arange(start, stop, step, dtype)` 创建序列reshape为数组"
   ]
  },
  {
   "cell_type": "markdown",
   "metadata": {
    "hidden": true
   },
   "source": [
    "start\t起始值，默认为0  \n",
    "stop\t终止值（不包含）  \n",
    "step\t步长，默认为1  \n",
    "dtype\t返回ndarray的数据类型，如果没有提供，则会使用输入数据的类型。  "
   ]
  },
  {
   "cell_type": "code",
   "execution_count": 34,
   "metadata": {
    "hidden": true
   },
   "outputs": [
    {
     "name": "stdout",
     "output_type": "stream",
     "text": [
      "[ 5  7  9 11 13 15 17 19]\n"
     ]
    }
   ],
   "source": [
    "a = np.arange(5,20,2,int)\n",
    "print(a)"
   ]
  },
  {
   "cell_type": "code",
   "execution_count": 35,
   "metadata": {
    "hidden": true,
    "scrolled": true
   },
   "outputs": [
    {
     "name": "stdout",
     "output_type": "stream",
     "text": [
      "[[ 5  7  9 11]\n",
      " [13 15 17 19]]\n"
     ]
    }
   ],
   "source": [
    "print(a.reshape(2,4))"
   ]
  },
  {
   "cell_type": "markdown",
   "metadata": {
    "heading_collapsed": true,
    "hidden": true
   },
   "source": [
    "### `np.linspace(start, stop, num=50, endpoint=True, retstep=False, dtype=None)` 等分直线为数组"
   ]
  },
  {
   "cell_type": "markdown",
   "metadata": {
    "hidden": true
   },
   "source": [
    "Parameters | intro\n",
    "----------|-----------\n",
    "start\t|序列的起始值\n",
    "stop\t|序列的终止值（默认包含），如果endpoint为true，该值包含于数列中\n",
    "num\t|要生成的等步长的样本数量，默认为50\n",
    "endpoint\t|该值为 ture 时，数列中中包含stop值，反之不包含，默认是True\n",
    "retstep|\t如果为 True 时，生成的数组中会显示间距，反之不显示\n",
    "dtype\t|ndarray 的数据类型"
   ]
  },
  {
   "cell_type": "code",
   "execution_count": 37,
   "metadata": {
    "hidden": true,
    "scrolled": false
   },
   "outputs": [
    {
     "name": "stdout",
     "output_type": "stream",
     "text": [
      "(array([ 1.,  2.,  3.,  4.,  5.,  6.,  7.,  8.,  9., 10.]), 1.0)\n"
     ]
    }
   ],
   "source": [
    "a =np.linspace(1,10,10,retstep= True)\n",
    "print(a)"
   ]
  },
  {
   "cell_type": "markdown",
   "metadata": {
    "heading_collapsed": true,
    "hidden": true
   },
   "source": [
    "### `np.random.randn([low,high],size)` 标准正态分布数组"
   ]
  },
  {
   "cell_type": "code",
   "execution_count": 42,
   "metadata": {
    "hidden": true
   },
   "outputs": [
    {
     "name": "stdout",
     "output_type": "stream",
     "text": [
      "[[-0.76782056 -0.15854065  0.24878549]\n",
      " [ 0.11263372  0.02942194  0.18430538]]\n",
      "-------------------------------------\n",
      "[[106 152 104]\n",
      " [151 147 170]\n",
      " [146 132 150]]\n"
     ]
    }
   ],
   "source": [
    "a=np.random.randn(2,3)\n",
    "print(a)\n",
    "printline()\n",
    "a=np.random.randint(100,200,(3,3))\n",
    "print(a)"
   ]
  },
  {
   "cell_type": "markdown",
   "metadata": {
    "heading_collapsed": true,
    "hidden": true
   },
   "source": [
    "### `numpy.asarray(a, dtype = None, order = None)` List变为数组"
   ]
  },
  {
   "cell_type": "code",
   "execution_count": 27,
   "metadata": {
    "hidden": true,
    "scrolled": true
   },
   "outputs": [
    {
     "name": "stdout",
     "output_type": "stream",
     "text": [
      "[1 2 3 4]\n"
     ]
    }
   ],
   "source": [
    "x = [1,2,3,4]\n",
    "a= np.asarray(x)\n",
    "print(a)"
   ]
  },
  {
   "cell_type": "code",
   "execution_count": 29,
   "metadata": {
    "hidden": true
   },
   "outputs": [
    {
     "name": "stdout",
     "output_type": "stream",
     "text": [
      "[[1. 2. 4.]\n",
      " [4. 5. 6.]]\n"
     ]
    }
   ],
   "source": [
    "x = [[1,2,4],[4,5,6]]\n",
    "a = np.asarray(x,dtype=float)\n",
    "print(a)"
   ]
  },
  {
   "cell_type": "markdown",
   "metadata": {
    "heading_collapsed": true,
    "hidden": true
   },
   "source": [
    "### `numpy.frombuffer(buffer, dtype = float, count = -1, offset = 0)` buffer变为数组"
   ]
  },
  {
   "cell_type": "markdown",
   "metadata": {
    "hidden": true
   },
   "source": [
    "注意：buffer 是字符串的时候，Python3 默认 str 是 Unicode 类型，所以要转成 bytestring 在原 str 前加上 b\n",
    "\n",
    "buffer\t可以是任意对象，会以流的形式读入。  \n",
    "dtype\t返回数组的数据类型，可选  \n",
    "count\t读取的数据数量，默认为-1，读取所有数据。  \n",
    "offset\t读取的起始位置，默认为0。  "
   ]
  },
  {
   "cell_type": "code",
   "execution_count": 67,
   "metadata": {
    "hidden": true
   },
   "outputs": [
    {
     "name": "stdout",
     "output_type": "stream",
     "text": [
      "[b'H' b'e' b'l' b'l' b'o' b' ' b'W' b'o' b'r' b'l' b'd']\n"
     ]
    }
   ],
   "source": [
    "s =  b'Hello World' \n",
    "a = np.frombuffer(s, dtype =  'S1')  \n",
    "print (a)"
   ]
  },
  {
   "cell_type": "markdown",
   "metadata": {
    "heading_collapsed": true,
    "hidden": true
   },
   "source": [
    "### `numpy.fromiter(iterable, dtype, count=-1)` 迭代器变为数组"
   ]
  },
  {
   "cell_type": "code",
   "execution_count": 30,
   "metadata": {
    "hidden": true
   },
   "outputs": [
    {
     "name": "stdout",
     "output_type": "stream",
     "text": [
      "[0. 1. 2. 3.]\n"
     ]
    }
   ],
   "source": [
    "list=range(4)\n",
    "it=iter(list)\n",
    "x=np.fromiter(it, dtype=float)\n",
    "print(x)"
   ]
  },
  {
   "cell_type": "code",
   "execution_count": 31,
   "metadata": {
    "hidden": true
   },
   "outputs": [
    {
     "name": "stdout",
     "output_type": "stream",
     "text": [
      "[[0. 1.]\n",
      " [2. 3.]]\n"
     ]
    }
   ],
   "source": [
    "a = x.reshape(2,2)\n",
    "print(a)"
   ]
  },
  {
   "cell_type": "markdown",
   "metadata": {
    "heading_collapsed": true,
    "hidden": true
   },
   "source": [
    "### `np.logspace(start, stop, num=50, endpoint=True, base=10.0, dtype=None)` 等分指数线为数组"
   ]
  },
  {
   "cell_type": "markdown",
   "metadata": {
    "hidden": true
   },
   "source": [
    "parameters| intro\n",
    "-----------|--------------\n",
    "start\t|序列的起始值为：base ** start\n",
    "stop\t|序列的终止值为：base ** stop。如果endpoint为true，该值包含于数列中\n",
    "num\t|要生成的等步长的样本数量，默认为50\n",
    "endpoint\t|该值为 ture 时，数列中中包含stop值，反之不包含，默认是True \n",
    "base\t|对数 log 的底数\n",
    "dtype\t|ndarray 的数据类型"
   ]
  },
  {
   "cell_type": "code",
   "execution_count": 39,
   "metadata": {
    "hidden": true
   },
   "outputs": [
    {
     "name": "stdout",
     "output_type": "stream",
     "text": [
      "[  2.           3.42897593   5.87893797  10.0793684   17.28095582\n",
      "  29.62799079  50.79683366  87.09056001 149.31571707 256.        ]\n"
     ]
    }
   ],
   "source": [
    "a = np.logspace(1,8,num = 10, base = 2, dtype = float)\n",
    "print(a)"
   ]
  },
  {
   "cell_type": "markdown",
   "metadata": {
    "heading_collapsed": true
   },
   "source": [
    "# 4.切片和索引"
   ]
  },
  {
   "cell_type": "markdown",
   "metadata": {
    "heading_collapsed": true,
    "hidden": true
   },
   "source": [
    "## 切片"
   ]
  },
  {
   "cell_type": "markdown",
   "metadata": {
    "heading_collapsed": true,
    "hidden": true
   },
   "source": [
    "###  `:` 使用"
   ]
  },
  {
   "cell_type": "code",
   "execution_count": 52,
   "metadata": {
    "hidden": true
   },
   "outputs": [
    {
     "name": "stdout",
     "output_type": "stream",
     "text": [
      "[0 1 2 3 4 5 6 7 8 9]\n",
      "[2 4 6]\n",
      "[2 4 6]\n"
     ]
    }
   ],
   "source": [
    "a = np.arange(10)\n",
    "print(a)\n",
    "s = slice(2,7,2)   # 从索引 2 开始到索引 7 停止，间隔为2\n",
    "print (a[s])\n",
    "b = a[2:7:2]   # 从索引 2 开始到索引 7 停止，间隔为 2\n",
    "print(b)"
   ]
  },
  {
   "cell_type": "markdown",
   "metadata": {
    "hidden": true
   },
   "source": [
    "冒号 : 的解释：如果只放置一个参数，如 [2]，将返回与该索引相对应的单个元素。如果为 [2:]，表示从该索引开始以后的所有项都将被提取。如果使用了两个参数，如 [2:7]，那么则提取两个索引(不包括停止索引)之间的项。"
   ]
  },
  {
   "cell_type": "code",
   "execution_count": 53,
   "metadata": {
    "hidden": true
   },
   "outputs": [
    {
     "name": "stdout",
     "output_type": "stream",
     "text": [
      "5\n",
      "[2 3 4 5 6 7 8 9]\n"
     ]
    }
   ],
   "source": [
    "a = np.arange(10)  # [0 1 2 3 4 5 6 7 8 9]\n",
    "b = a[5] \n",
    "print(b)\n",
    "print(a[2:])"
   ]
  },
  {
   "cell_type": "code",
   "execution_count": 54,
   "metadata": {
    "hidden": true
   },
   "outputs": [
    {
     "name": "stdout",
     "output_type": "stream",
     "text": [
      "[[1 2 3]\n",
      " [3 4 5]\n",
      " [4 5 6]]\n",
      "-------------------------------------\n",
      "[[3 4 5]\n",
      " [4 5 6]]\n"
     ]
    }
   ],
   "source": [
    "a = np.array([[1,2,3],[3,4,5],[4,5,6]])\n",
    "print(a)\n",
    "# 从某个索引处开始切割\n",
    "printline()\n",
    "print(a[1:])"
   ]
  },
  {
   "cell_type": "markdown",
   "metadata": {
    "heading_collapsed": true,
    "hidden": true
   },
   "source": [
    "### `...`使用"
   ]
  },
  {
   "cell_type": "markdown",
   "metadata": {
    "hidden": true
   },
   "source": [
    "切片还可以包括省略号 …，来使选择元组的长度与数组的维度相同。\n",
    "省略号表示：全部"
   ]
  },
  {
   "cell_type": "code",
   "execution_count": 55,
   "metadata": {
    "hidden": true
   },
   "outputs": [
    {
     "name": "stdout",
     "output_type": "stream",
     "text": [
      "[[1 2 3]\n",
      " [3 4 5]\n",
      " [4 5 6]]\n",
      "-------------------------------------\n",
      "[2 4 5]\n",
      "-------------------------------------\n",
      "[3 4 5]\n",
      "-------------------------------------\n",
      "[[2 3]\n",
      " [4 5]\n",
      " [5 6]]\n"
     ]
    }
   ],
   "source": [
    "a = np.array([[1,2,3],[3,4,5],[4,5,6]])  \n",
    "print(a)\n",
    "printline()\n",
    "print (a[...,1])   # 第2列元素，相当于：全部行的第2列\n",
    "printline()\n",
    "print (a[1,...])   # 第2行元素，相当于：第2行的全部列\n",
    "printline()\n",
    "print (a[...,1:])  # 第2列及剩下的所有元素"
   ]
  },
  {
   "cell_type": "markdown",
   "metadata": {
    "heading_collapsed": true,
    "hidden": true
   },
   "source": [
    "### `,` 使用 分割aixs"
   ]
  },
  {
   "cell_type": "code",
   "execution_count": 56,
   "metadata": {
    "hidden": true
   },
   "outputs": [
    {
     "name": "stdout",
     "output_type": "stream",
     "text": [
      "[[0 1 2]\n",
      " [3 4 5]\n",
      " [6 7 8]]\n",
      "-------------------------------------\n",
      "[[5]\n",
      " [8]]\n"
     ]
    }
   ],
   "source": [
    "a = np.arange(9)\n",
    "b = a.reshape(3,3)\n",
    "print(b)\n",
    "printline()\n",
    "print(b[1:,2:])"
   ]
  },
  {
   "cell_type": "markdown",
   "metadata": {
    "heading_collapsed": true,
    "hidden": true
   },
   "source": [
    "## 索引"
   ]
  },
  {
   "cell_type": "markdown",
   "metadata": {
    "heading_collapsed": true,
    "hidden": true
   },
   "source": [
    "### 整数数组索引"
   ]
  },
  {
   "cell_type": "code",
   "execution_count": 63,
   "metadata": {
    "hidden": true
   },
   "outputs": [
    {
     "name": "stdout",
     "output_type": "stream",
     "text": [
      "[[1 2]\n",
      " [3 4]\n",
      " [5 6]]\n",
      "-------------------------------------\n",
      "[1 4 5]\n"
     ]
    }
   ],
   "source": [
    "# 数组中(0,0)，(1,1)和(2,0)位置处的元素\n",
    "# ([0,1,2]) 代表 行数  [0,1,0] 代表列数\n",
    "x = np.array([[1,  2],  [3,  4],  [5,  6]]) \n",
    "print(x)\n",
    "printline()\n",
    "# 切片中 [a,b] a,b分别代表行，列 可以是 省略号，切片，指定的整数数组\n",
    "y = x[[0,1,2],  [0,1,0]]  \n",
    "print (y)"
   ]
  },
  {
   "cell_type": "markdown",
   "metadata": {
    "heading_collapsed": true,
    "hidden": true
   },
   "source": [
    "### 布尔索引"
   ]
  },
  {
   "cell_type": "code",
   "execution_count": 64,
   "metadata": {
    "hidden": true
   },
   "outputs": [
    {
     "name": "stdout",
     "output_type": "stream",
     "text": [
      "[[ 0  1  2]\n",
      " [ 3  4  5]\n",
      " [ 6  7  8]\n",
      " [ 9 10 11]]\n",
      "-------------------------------------\n",
      "[ 6  7  8  9 10 11]\n"
     ]
    }
   ],
   "source": [
    "x = np.array([[  0,  1,  2],[  3,  4,  5],[  6,  7,  8],[  9,  10,  11]])  \n",
    "print (x)\n",
    "printline()\n",
    "# 现在我们会打印出大于 5 的元素  \n",
    "print (x[x >  5])"
   ]
  },
  {
   "cell_type": "markdown",
   "metadata": {
    "heading_collapsed": true,
    "hidden": true
   },
   "source": [
    "### 花式索引"
   ]
  },
  {
   "cell_type": "markdown",
   "metadata": {
    "hidden": true
   },
   "source": [
    "`a[[],[]]` 其实和整数数组索引一样，最外层List表示索引开始，第一个元素为数组的 0维动作，第二个元素为 1 维动作，以此类推，每个纬度上，各自的内容可以为一个整数，也可以为一个数组。 逗号`,`分割axis"
   ]
  },
  {
   "cell_type": "code",
   "execution_count": 68,
   "metadata": {
    "hidden": true
   },
   "outputs": [
    {
     "name": "stdout",
     "output_type": "stream",
     "text": [
      "[[[ 0  1  2  3]\n",
      "  [ 4  5  6  7]]\n",
      "\n",
      " [[ 8  9 10 11]\n",
      "  [12 13 14 15]]\n",
      "\n",
      " [[16 17 18 19]\n",
      "  [20 21 22 23]]\n",
      "\n",
      " [[24 25 26 27]\n",
      "  [28 29 30 31]]]\n",
      "-------------------------------------\n",
      "[[[24 25 26 27]\n",
      "  [28 29 30 31]]\n",
      "\n",
      " [[16 17 18 19]\n",
      "  [20 21 22 23]]\n",
      "\n",
      " [[ 8  9 10 11]\n",
      "  [12 13 14 15]]]\n",
      "-------------------------------------\n",
      "[[28 29 30 31]\n",
      " [20 21 22 23]\n",
      " [12 13 14 15]]\n"
     ]
    }
   ],
   "source": [
    "x=np.arange(32).reshape((4,2,4))\n",
    "print(x)\n",
    "printline()\n",
    "# 这里的4，2，1，7就是行的标号\n",
    "print (x[[3,2,1]])\n",
    "printline()\n",
    "print (x[[3,2,1],[1]])"
   ]
  },
  {
   "cell_type": "markdown",
   "metadata": {
    "heading_collapsed": true
   },
   "source": [
    "# 5.广播(Broadcast)"
   ]
  },
  {
   "cell_type": "markdown",
   "metadata": {
    "hidden": true
   },
   "source": [
    "**数组shape向右对齐，从右往左，除了位置上是1的都要相等**"
   ]
  },
  {
   "cell_type": "code",
   "execution_count": 79,
   "metadata": {
    "hidden": true
   },
   "outputs": [
    {
     "name": "stdout",
     "output_type": "stream",
     "text": [
      "[[ 1  2  3]\n",
      " [11 12 13]\n",
      " [21 22 23]\n",
      " [31 32 33]]\n",
      "(4, 3)\n",
      "(3,)\n"
     ]
    }
   ],
   "source": [
    "a = np.array([[ 0, 0, 0],\n",
    "           [10,10,10],\n",
    "           [20,20,20],\n",
    "           [30,30,30]])\n",
    "b = np.array([1,2,3])\n",
    "print(a + b)\n",
    "print(a.shape)\n",
    "print(b.shape)"
   ]
  },
  {
   "cell_type": "code",
   "execution_count": 80,
   "metadata": {
    "hidden": true
   },
   "outputs": [
    {
     "data": {
      "text/plain": [
       "array([[[[            nan, 0.00000000e+000, 0.00000000e+000],\n",
       "         [0.00000000e+000, 0.00000000e+000,             nan],\n",
       "         [            nan, 0.00000000e+000, 0.00000000e+000],\n",
       "         [0.00000000e+000, 0.00000000e+000, 0.00000000e+000],\n",
       "         [0.00000000e+000,             nan, 0.00000000e+000]],\n",
       "\n",
       "        [[            nan, 0.00000000e+000, 1.61410533e+132],\n",
       "         [3.55727265e-322, 5.43472210e-323, 2.27159536e-314],\n",
       "         [6.94360047e-310, 2.47032823e-323, 4.94065646e-323],\n",
       "         [            nan, 0.00000000e+000, 9.89803212e+164],\n",
       "         [7.11454530e-322, 5.43472210e-323, 2.27159536e-314]],\n",
       "\n",
       "        [[1.38872009e-309, 5.90301698e-075, 2.56914136e-322],\n",
       "         [            nan, 0.00000000e+000, 5.90328085e-075],\n",
       "         [2.13436359e-321, 1.08694442e-322, 4.54319072e-314],\n",
       "         [1.38872009e-309,             nan, 2.56914136e-322],\n",
       "         [            nan, 0.00000000e+000, 2.70603272e-023]],\n",
       "\n",
       "        [[4.26872718e-321, 1.63041663e-322, 6.81478607e-314],\n",
       "         [2.08308014e-309, 0.00000000e+000, 2.96439388e-322],\n",
       "         [            nan, 6.82067372e-314, 6.35331745e+257],\n",
       "         [5.33590898e-321, 1.03753786e-322, 6.81478607e-314],\n",
       "         [2.08308014e-309, 0.00000000e+000, 3.85371204e-322]]],\n",
       "\n",
       "\n",
       "       [[[            nan, 0.00000000e+000, 0.00000000e+000],\n",
       "         [0.00000000e+000, 0.00000000e+000, 0.00000000e+000],\n",
       "         [0.00000000e+000, 0.00000000e+000, 0.00000000e+000],\n",
       "         [0.00000000e+000, 0.00000000e+000, 0.00000000e+000],\n",
       "         [0.00000000e+000, 0.00000000e+000, 0.00000000e+000]],\n",
       "\n",
       "        [[0.00000000e+000, 0.00000000e+000, 0.00000000e+000],\n",
       "         [0.00000000e+000, 0.00000000e+000, 0.00000000e+000],\n",
       "         [0.00000000e+000, 0.00000000e+000, 0.00000000e+000],\n",
       "         [0.00000000e+000, 0.00000000e+000, 0.00000000e+000],\n",
       "         [0.00000000e+000, 0.00000000e+000, 2.27159536e-314]],\n",
       "\n",
       "        [[0.00000000e+000, 4.26872718e-321, 1.97626258e-323],\n",
       "         [4.54319072e-314, 1.38872009e-309,             nan],\n",
       "         [2.56914136e-322,             nan, 4.54319072e-314],\n",
       "         [1.38871893e-309, 7.19359580e-321, 8.89318163e-323],\n",
       "         [4.54319072e-314, 1.38872009e-309, 2.22576276e+142]],\n",
       "\n",
       "        [[2.83786879e-075, 4.84231676e+132, 6.34276001e+257],\n",
       "         [5.09174748e+137, 4.05904981e-023, 2.74884416e-071],\n",
       "         [4.26413627e-076, 3.34250544e+218, 2.83786879e-075],\n",
       "         [4.84231676e+132, 4.26413628e-076, 3.01156631e+218],\n",
       "         [4.17044405e+136, 4.05904981e-023, 4.26413508e-076]]],\n",
       "\n",
       "\n",
       "       [[[0.00000000e+000, 0.00000000e+000, 0.00000000e+000],\n",
       "         [0.00000000e+000, 0.00000000e+000, 0.00000000e+000],\n",
       "         [0.00000000e+000, 0.00000000e+000, 0.00000000e+000],\n",
       "         [0.00000000e+000, 0.00000000e+000, 0.00000000e+000],\n",
       "         [0.00000000e+000, 0.00000000e+000, 0.00000000e+000]],\n",
       "\n",
       "        [[6.03106469e-154, 1.10951808e-047, 8.98698252e-096],\n",
       "         [5.94197713e-038, 1.08539815e-071, 6.01347176e-154],\n",
       "         [3.64460956e-086, 4.65849349e-033, 6.03106469e-154],\n",
       "         [1.39804329e-076, 7.71112048e+140, 6.01347002e-154],\n",
       "         [1.30354301e-076, 2.62395837e+179, 6.96320205e-077]],\n",
       "\n",
       "        [[2.79608657e-076, 2.10237463e-153, 2.79608657e-076],\n",
       "         [2.79607394e-076, 1.20269400e-153, 1.70902187e-071],\n",
       "         [8.17567559e+179, 5.98134510e-067, 9.52148627e-038],\n",
       "         [1.09378476e-094, 1.20269400e-153, 2.79473701e-076],\n",
       "         [2.42178858e-099, 6.48491353e-086, 2.79608657e-076]],\n",
       "\n",
       "        [[1.80931257e-153, 4.97240511e-076, 2.83599855e-095],\n",
       "         [1.80404101e-153, 4.71028353e-076, 1.56167149e-089],\n",
       "         [1.09338291e-085, 2.31225782e-042, 1.67847779e+142],\n",
       "         [1.47270198e+253, 1.16586436e+286, 8.73711370e+257],\n",
       "         [1.41388351e+258, 7.79771821e-306, 0.00000000e+000]]]])"
      ]
     },
     "execution_count": 80,
     "metadata": {},
     "output_type": "execute_result"
    }
   ],
   "source": [
    "a = np.empty([3,4,5,3])\n",
    "b = np.empty([4,1,1])\n",
    "a*b"
   ]
  },
  {
   "cell_type": "markdown",
   "metadata": {
    "heading_collapsed": true
   },
   "source": [
    "# 6.`np.nditer(a)`迭代数组"
   ]
  },
  {
   "cell_type": "markdown",
   "metadata": {
    "heading_collapsed": true,
    "hidden": true
   },
   "source": [
    "## `order` 迭代方向"
   ]
  },
  {
   "cell_type": "code",
   "execution_count": 92,
   "metadata": {
    "hidden": true
   },
   "outputs": [
    {
     "name": "stdout",
     "output_type": "stream",
     "text": [
      "[[0 1 2 3]\n",
      " [4 5 6 7]]\n",
      "-------------------------------------\n",
      "0 1 2 3 4 5 6 7 "
     ]
    }
   ],
   "source": [
    "a = np.arange(8).reshape(2,4)\n",
    "print(a)\n",
    "printline()\n",
    "for x in np.nditer(a):\n",
    "    print(x,end=\" \")\n",
    "    "
   ]
  },
  {
   "cell_type": "markdown",
   "metadata": {
    "hidden": true
   },
   "source": [
    "遍历默认是**内存布局顺序**，所以即使T一下也一样"
   ]
  },
  {
   "cell_type": "code",
   "execution_count": 93,
   "metadata": {
    "hidden": true
   },
   "outputs": [
    {
     "name": "stdout",
     "output_type": "stream",
     "text": [
      "[[0 4]\n",
      " [1 5]\n",
      " [2 6]\n",
      " [3 7]]\n",
      "0 1 2 3 4 5 6 7 "
     ]
    }
   ],
   "source": [
    "print(a.T)\n",
    "for x in np.nditer(a.T):\n",
    "    print(x,end=\" \")"
   ]
  },
  {
   "cell_type": "markdown",
   "metadata": {
    "hidden": true
   },
   "source": [
    "复制一下，新存一个就不一样了,内存状态为 04152637，复制的时候默认是按行访问 即order=‘C’"
   ]
  },
  {
   "cell_type": "code",
   "execution_count": 94,
   "metadata": {
    "hidden": true
   },
   "outputs": [
    {
     "name": "stdout",
     "output_type": "stream",
     "text": [
      "[[0 4]\n",
      " [1 5]\n",
      " [2 6]\n",
      " [3 7]]\n",
      "-------------------------------------\n",
      "0 4 1 5 2 6 3 7 "
     ]
    }
   ],
   "source": [
    "b = a.T.copy(order = 'C')\n",
    "print(b)\n",
    "printline()\n",
    "for x in np.nditer(b):\n",
    "    print(x,end=\" \")"
   ]
  },
  {
   "cell_type": "code",
   "execution_count": 95,
   "metadata": {
    "hidden": true
   },
   "outputs": [
    {
     "name": "stdout",
     "output_type": "stream",
     "text": [
      "[[0 4]\n",
      " [1 5]\n",
      " [2 6]\n",
      " [3 7]]\n",
      "-------------------------------------\n",
      "0 4 1 5 2 6 3 7 "
     ]
    }
   ],
   "source": [
    "b = a.T.copy()\n",
    "print(b)\n",
    "printline()\n",
    "for x in np.nditer(b):\n",
    "    print(x,end=\" \")"
   ]
  },
  {
   "cell_type": "code",
   "execution_count": 96,
   "metadata": {
    "hidden": true
   },
   "outputs": [
    {
     "name": "stdout",
     "output_type": "stream",
     "text": [
      "[[0 4]\n",
      " [1 5]\n",
      " [2 6]\n",
      " [3 7]]\n",
      "-------------------------------------\n",
      "0 1 2 3 4 5 6 7 "
     ]
    }
   ],
   "source": [
    "b = a.T.copy(order = 'F')\n",
    "print(b)\n",
    "printline()\n",
    "for x in np.nditer(b):\n",
    "    print(x,end=\" \")"
   ]
  },
  {
   "cell_type": "markdown",
   "metadata": {
    "hidden": true
   },
   "source": [
    "可以通过显式设置，来强制 nditer 对象使用某种顺序："
   ]
  },
  {
   "cell_type": "code",
   "execution_count": 97,
   "metadata": {
    "hidden": true
   },
   "outputs": [
    {
     "name": "stdout",
     "output_type": "stream",
     "text": [
      "原始数组是：\n",
      "[[ 0  5 10 15]\n",
      " [20 25 30 35]\n",
      " [40 45 50 55]]\n",
      "\n",
      "\n",
      "以 C 风格顺序排序：\n",
      "0, 5, 10, 15, 20, 25, 30, 35, 40, 45, 50, 55, \n",
      "\n",
      "以 F 风格顺序排序：\n",
      "0, 20, 40, 5, 25, 45, 10, 30, 50, 15, 35, 55, "
     ]
    }
   ],
   "source": [
    "a = np.arange(0,60,5) \n",
    "a = a.reshape(3,4)  \n",
    "print ('原始数组是：')\n",
    "print (a)\n",
    "print ('\\n')\n",
    "print ('以 C 风格顺序排序：')\n",
    "for x in np.nditer(a, order =  'C'):  \n",
    "    print (x, end=\", \" )\n",
    "print ('\\n')\n",
    "print ('以 F 风格顺序排序：')\n",
    "for x in np.nditer(a, order =  'F'):  \n",
    "    print (x, end=\", \" )"
   ]
  },
  {
   "cell_type": "markdown",
   "metadata": {
    "heading_collapsed": true,
    "hidden": true
   },
   "source": [
    "## `op_flags` 修改\n",
    "nditer 对象有另一个可选参数 op_flags。 默认情况下，nditer 将视待迭代遍历的数组为只读对象（read-only），为了在遍历数组的同时，实现对数组元素值得修改，必须指定 read-write 或者 write-only 的模式。"
   ]
  },
  {
   "cell_type": "code",
   "execution_count": 98,
   "metadata": {
    "hidden": true
   },
   "outputs": [
    {
     "name": "stdout",
     "output_type": "stream",
     "text": [
      "[[ 0  1  2  3  4]\n",
      " [ 5  6  7  8  9]\n",
      " [10 11 12 13 14]\n",
      " [15 16 17 18 19]]\n",
      "-------------------------------------\n",
      "[[ 0  2  4  6  8]\n",
      " [10 12 14 16 18]\n",
      " [20 22 24 26 28]\n",
      " [30 32 34 36 38]]\n"
     ]
    }
   ],
   "source": [
    "a = np.arange(20).reshape(4,5)\n",
    "print(a)\n",
    "printline()\n",
    "for x in np.nditer(a,op_flags = ['readwrite']):\n",
    "    x[...]=x*2\n",
    "print(a)"
   ]
  },
  {
   "cell_type": "markdown",
   "metadata": {
    "heading_collapsed": true,
    "hidden": true
   },
   "source": [
    "## `flags`    输出\n",
    "c_index\t可以跟踪 C 顺序的索引  \n",
    "f_index\t可以跟踪 F 顺序的索引  \n",
    "multi-index\t每次迭代可以跟踪一种索引类型  \n",
    "external_loop\t给出的值是具有多个值的一维数组，而不是零维数组  "
   ]
  },
  {
   "cell_type": "code",
   "execution_count": 99,
   "metadata": {
    "hidden": true
   },
   "outputs": [
    {
     "name": "stdout",
     "output_type": "stream",
     "text": [
      "原始数组是：\n",
      "[[ 0  5 10 15]\n",
      " [20 25 30 35]\n",
      " [40 45 50 55]]\n",
      "\n",
      "\n",
      "修改后的数组是：\n",
      "[ 0 20 40], [ 5 25 45], [10 30 50], [15 35 55], 修改后的数组是：\n",
      "0, 5, 10, 15, 20, 25, 30, 35, 40, 45, 50, 55, "
     ]
    }
   ],
   "source": [
    "a = np.arange(0,60,5) \n",
    "a = a.reshape(3,4)  \n",
    "print ('原始数组是：')\n",
    "print (a)\n",
    "print ('\\n')\n",
    "print ('修改后的数组是：')\n",
    "for x in np.nditer(a, flags =  ['external_loop'], order =  'F'):  \n",
    "   print (x, end=\", \" )\n",
    "print ('修改后的数组是：')\n",
    "for x in np.nditer(a, flags =  ['c_index']):  \n",
    "   print (x, end=\", \" )"
   ]
  },
  {
   "cell_type": "markdown",
   "metadata": {
    "heading_collapsed": true,
    "hidden": true
   },
   "source": [
    "## 广播迭代\n",
    "把a，b广播成一样形状，然后一起迭代。类似zip"
   ]
  },
  {
   "cell_type": "code",
   "execution_count": 100,
   "metadata": {
    "hidden": true
   },
   "outputs": [
    {
     "name": "stdout",
     "output_type": "stream",
     "text": [
      "第一个数组为：\n",
      "[[ 0  5 10 15]\n",
      " [20 25 30 35]\n",
      " [40 45 50 55]]\n",
      "\n",
      "\n",
      "第二个数组为：\n",
      "[1 2 3 4]\n",
      "\n",
      "\n",
      "修改后的数组为：\n",
      "0:1, 5:2, 10:3, 15:4, 20:1, 25:2, 30:3, 35:4, 40:1, 45:2, 50:3, 55:4, "
     ]
    }
   ],
   "source": [
    "a = np.arange(0,60,5) \n",
    "a = a.reshape(3,4)  \n",
    "print  ('第一个数组为：')\n",
    "print (a)\n",
    "print  ('\\n')\n",
    "print ('第二个数组为：')\n",
    "b = np.array([1,  2,  3,  4], dtype =  int)  \n",
    "print (b)\n",
    "print ('\\n')\n",
    "print ('修改后的数组为：')\n",
    "for x,y in np.nditer([a,b]):\n",
    "    print (\"%d:%d\"  %  (x,y), end=\", \" )"
   ]
  },
  {
   "cell_type": "markdown",
   "metadata": {},
   "source": [
    "# 7.数组操作"
   ]
  },
  {
   "cell_type": "markdown",
   "metadata": {
    "heading_collapsed": true
   },
   "source": [
    "## 修改数组形状\n",
    "函数|效果\n",
    "---------|-----------\n",
    "reshape()|不改变数据的条件下修改形状\n",
    "flat\t|数组元素迭代器，类似view\n",
    "flatten()\t|返回一份展平数组拷贝，对拷贝所做的修改不会影响原始数组\n",
    "ravel()\t|返回一份展平数组拷贝"
   ]
  },
  {
   "cell_type": "markdown",
   "metadata": {
    "heading_collapsed": true,
    "hidden": true
   },
   "source": [
    "### `numpy.reshape(arr, newshape, order='C')`"
   ]
  },
  {
   "cell_type": "markdown",
   "metadata": {
    "heading_collapsed": true,
    "hidden": true
   },
   "source": [
    "### `a.flat ` 展平为迭代器，是个view"
   ]
  },
  {
   "cell_type": "code",
   "execution_count": 102,
   "metadata": {
    "hidden": true
   },
   "outputs": [
    {
     "name": "stdout",
     "output_type": "stream",
     "text": [
      "[[0 1 2]\n",
      " [3 4 5]\n",
      " [6 7 8]]\n",
      "0\n",
      "1\n",
      "2\n",
      "3\n",
      "4\n",
      "5\n",
      "6\n",
      "7\n",
      "8\n"
     ]
    }
   ],
   "source": [
    "a = np.arange(9).reshape(3,3) \n",
    "print(a)\n",
    "for element in a.flat:\n",
    "    print (element)"
   ]
  },
  {
   "cell_type": "markdown",
   "metadata": {
    "hidden": true
   },
   "source": [
    "### `a.flatten()` 展平为 数组拷贝，深拷贝\n",
    "order：'C' -- 按行，'F' -- 按列，'A' -- 原顺序，'K' -- 元素在内存中的出现顺序"
   ]
  },
  {
   "cell_type": "code",
   "execution_count": 111,
   "metadata": {
    "hidden": true
   },
   "outputs": [
    {
     "name": "stdout",
     "output_type": "stream",
     "text": [
      "[[ 0  1  2  3  4]\n",
      " [ 5  6  7  8  9]\n",
      " [10 11 12 13 14]\n",
      " [15 16 17 18 19]]\n",
      "-------------------------------------\n",
      "[ 0  1  2  3  4  5  6  7  8  9 10 11 12 13 14 15 16 17 18 19]\n",
      "-------------------------------------\n",
      "[ 0  5 10 15  1  6 11 16  2  7 12 17  3  8 13 18  4  9 14 19]\n",
      "-------------------------------------\n",
      "[ 0  1  2  3  4  5  6  7  8  9 10 11 12 13 14 15 16 17 18 19]\n",
      "-------------------------------------\n",
      "4602340080\n",
      "4602341584\n",
      "0\n",
      "0\n"
     ]
    }
   ],
   "source": [
    "a = np.arange(20).reshape(4,5)\n",
    "print(a)\n",
    "printline()\n",
    "print(a.flatten(order =\"C\"))\n",
    "printline()\n",
    "print(a.flatten(order =\"F\"))\n",
    "printline()\n",
    "print(a.flatten(order =\"A\"))\n",
    "b = a.flatten(order =\"F\")\n",
    "printline()\n",
    "print(id(a[0,0]))\n",
    "print(id(b[0]))\n",
    "print(a[0,0])\n",
    "print(b[0])"
   ]
  },
  {
   "cell_type": "markdown",
   "metadata": {
    "heading_collapsed": true,
    "hidden": true
   },
   "source": [
    "### `a.ravel(order='C')`  展平为 数组拷贝，深拷贝\n",
    "### `numpy.ravel(a, order='C')`"
   ]
  },
  {
   "cell_type": "code",
   "execution_count": 119,
   "metadata": {
    "hidden": true
   },
   "outputs": [
    {
     "name": "stdout",
     "output_type": "stream",
     "text": [
      "[[ 0  1  2  3  4]\n",
      " [ 5  6  7  8  9]\n",
      " [10 11 12 13 14]\n",
      " [15 16 17 18 19]]\n",
      "-------------------------------------\n",
      "[ 0  1  2  3  4  5  6  7  8  9 10 11 12 13 14 15 16 17 18 19]\n",
      "[ 5  1  2  3  4  5  6  7  8  9 10 11 12 13 14 15 16 17 18 19]\n",
      "4598661488\n",
      "4598661968\n"
     ]
    }
   ],
   "source": [
    "a = np.arange(20).reshape(4,5)\n",
    "print(a)\n",
    "printline()\n",
    "print(a.ravel(order = \"C\"))\n",
    "b = a.ravel(order = \"C\")\n",
    "b[0] = 5\n",
    "print(b)\n",
    "print(id(b))\n",
    "print(id(a))"
   ]
  },
  {
   "cell_type": "code",
   "execution_count": 195,
   "metadata": {
    "hidden": true
   },
   "outputs": [
    {
     "data": {
      "text/plain": [
       "array([ 0,  5, 10, 15,  1,  6, 11, 16,  2,  7, 12, 17,  3,  8, 13, 18,  4,\n",
       "        9, 14, 19])"
      ]
     },
     "execution_count": 195,
     "metadata": {},
     "output_type": "execute_result"
    }
   ],
   "source": [
    "np.ravel(a,order = 'F')\n"
   ]
  },
  {
   "cell_type": "markdown",
   "metadata": {
    "heading_collapsed": true
   },
   "source": [
    "## 翻转数组\n",
    "  函数  |效果\n",
    "-----------|-----------\n",
    "transpose()\t|对换数组的维度 \n",
    "ndarray.T\t|和 self.transpose() 相同\n",
    "rollaxis()\t|向后滚动指定的轴\n",
    "swapaxes()\t|对换数组的两个轴  "
   ]
  },
  {
   "cell_type": "markdown",
   "metadata": {
    "heading_collapsed": true,
    "hidden": true
   },
   "source": [
    "### `a.transpose()` `a.T`"
   ]
  },
  {
   "cell_type": "code",
   "execution_count": 120,
   "metadata": {
    "hidden": true
   },
   "outputs": [
    {
     "name": "stdout",
     "output_type": "stream",
     "text": [
      "[[ 0  1  2  3]\n",
      " [ 4  5  6  7]\n",
      " [ 8  9 10 11]]\n",
      "-------------------------------------\n",
      "[[ 0  4  8]\n",
      " [ 1  5  9]\n",
      " [ 2  6 10]\n",
      " [ 3  7 11]]\n",
      "-------------------------------------\n",
      "[[ 0  4  8]\n",
      " [ 1  5  9]\n",
      " [ 2  6 10]\n",
      " [ 3  7 11]]\n"
     ]
    }
   ],
   "source": [
    "a = np.arange(12).reshape(3,4)\n",
    "print(a)\n",
    "printline()\n",
    "print(a.T)\n",
    "printline()\n",
    "print(a.transpose())"
   ]
  },
  {
   "cell_type": "markdown",
   "metadata": {
    "heading_collapsed": true,
    "hidden": true
   },
   "source": [
    "### `numpy.rollaxis(arr, axis, start) `\n",
    "numpy.rollaxis 函数向后滚动特定的轴到一个特定位置\n",
    "参数说明： \n",
    "arr：数组\n",
    "axis：要向后滚动的轴，其它轴的相对位置不会改变  \n",
    "start：要换到的轴的位置，后面的轴顺位后移。默认为零，表示换到轴0。 "
   ]
  },
  {
   "cell_type": "code",
   "execution_count": 126,
   "metadata": {
    "hidden": true
   },
   "outputs": [
    {
     "name": "stdout",
     "output_type": "stream",
     "text": [
      "[[[ 0  1  2  3]\n",
      "  [ 4  5  6  7]\n",
      "  [ 8  9 10 11]]\n",
      "\n",
      " [[12 13 14 15]\n",
      "  [16 17 18 19]\n",
      "  [20 21 22 23]]]\n",
      "(2, 3, 4)\n",
      "-------------------------------------\n",
      "[[[ 0  4  8]\n",
      "  [12 16 20]]\n",
      "\n",
      " [[ 1  5  9]\n",
      "  [13 17 21]]\n",
      "\n",
      " [[ 2  6 10]\n",
      "  [14 18 22]]\n",
      "\n",
      " [[ 3  7 11]\n",
      "  [15 19 23]]]\n",
      "(4, 2, 3)\n",
      "-------------------------------------\n",
      "[[[ 0  4  8]\n",
      "  [12 16 20]]\n",
      "\n",
      " [[ 1  5  9]\n",
      "  [13 17 21]]\n",
      "\n",
      " [[ 2  6 10]\n",
      "  [14 18 22]]\n",
      "\n",
      " [[ 3  7 11]\n",
      "  [15 19 23]]]\n",
      "(4, 2, 3)\n"
     ]
    }
   ],
   "source": [
    "a = np.arange(24).reshape(2,3,4)\n",
    "print (a)\n",
    "print(a.shape)\n",
    "printline()\n",
    "b = np.rollaxis(a,2)\n",
    "print (b)\n",
    "print(b.shape)\n",
    "printline()\n",
    "c = np.rollaxis(a,2,0)\n",
    "print (c)\n",
    "print(c.shape)"
   ]
  },
  {
   "cell_type": "markdown",
   "metadata": {
    "heading_collapsed": true,
    "hidden": true
   },
   "source": [
    "### `numpy.swapaxes(arr, axis1, axis2) `\n",
    "arr：输入的数组  \n",
    "axis1：对应第一个轴的整数  \n",
    "axis2：对应第二个轴的整数  "
   ]
  },
  {
   "cell_type": "code",
   "execution_count": 129,
   "metadata": {
    "hidden": true
   },
   "outputs": [
    {
     "name": "stdout",
     "output_type": "stream",
     "text": [
      "(2, 3, 4)\n",
      "-------------------------------------\n",
      "(4, 3, 2)\n"
     ]
    }
   ],
   "source": [
    "a = np.arange(24).reshape(2,3,4) \n",
    "print (a.shape)\n",
    "printline()\n",
    "print (np.swapaxes(a, 2, 0).shape)"
   ]
  },
  {
   "cell_type": "markdown",
   "metadata": {},
   "source": [
    "## 修改数组维度\n",
    "\n",
    "  函数  |效果\n",
    "-----------|----------\n",
    "broadcast()\t|产生模仿广播的对象\n",
    "broadcast_to()|\t将数组广播到新形状\n",
    "expand_dims()\t|扩展数组的形状\n",
    "newaxis | 扩展数组形状\n",
    "squeeze()\t|从数组的形状中删除一维条目"
   ]
  },
  {
   "cell_type": "markdown",
   "metadata": {
    "heading_collapsed": true
   },
   "source": [
    "### `np.broadcast(a,b) ` 返回numpy.broadcast，可迭代，同时拥有x，y 类似zip"
   ]
  },
  {
   "cell_type": "code",
   "execution_count": 136,
   "metadata": {
    "hidden": true
   },
   "outputs": [
    {
     "name": "stdout",
     "output_type": "stream",
     "text": [
      "<numpy.broadcast object at 0x7fd208114e70>\n",
      "(3, 3)\n",
      "1 4\n",
      "1 5\n",
      "-------------------------------------\n",
      "[[0. 0. 0.]\n",
      " [0. 0. 0.]\n",
      " [0. 0. 0.]]\n",
      "-------------------------------------\n",
      "(3, 3)\n",
      "[[5. 6. 7.]\n",
      " [6. 7. 8.]\n",
      " [7. 8. 9.]]\n"
     ]
    }
   ],
   "source": [
    "x = np.array([[1], [2], [3]])\n",
    "y = np.array([4, 5, 6]) \n",
    "b = np.broadcast(x,y) \n",
    "print(b)\n",
    "print (b.shape)\n",
    "r,c = b.iters\n",
    "print (next(r), next(c))\n",
    "print (next(r), next(c))\n",
    "printline()\n",
    "\n",
    "b = np.broadcast(x,y) \n",
    "c = np.zeros(b.shape)\n",
    "print(c)\n",
    "printline()\n",
    "print (c.shape)\n",
    "c.flat = [u + v for (u,v) in b]\n",
    "print (c)"
   ]
  },
  {
   "cell_type": "markdown",
   "metadata": {
    "heading_collapsed": true
   },
   "source": [
    "### `numpy.broadcast_to(array, shape, subok)` 广播成某个形状\n",
    "它在原始数组上返回只读视图。它通常不连续。"
   ]
  },
  {
   "cell_type": "code",
   "execution_count": 138,
   "metadata": {
    "hidden": true
   },
   "outputs": [
    {
     "name": "stdout",
     "output_type": "stream",
     "text": [
      "[[0 1 2 3]]\n",
      "-------------------------------------\n",
      "[[0 1 2 3]\n",
      " [0 1 2 3]\n",
      " [0 1 2 3]\n",
      " [0 1 2 3]]\n"
     ]
    }
   ],
   "source": [
    "a = np.arange(4).reshape(1,4)\n",
    "print (a)\n",
    "printline()\n",
    "print (np.broadcast_to(a,(4,4)))"
   ]
  },
  {
   "cell_type": "markdown",
   "metadata": {},
   "source": [
    "### `numpy.expand_dims(arr, axis) `往向0的方向插入轴\n",
    "函数通过在指定位置插入新的轴来扩展数组形状，\n",
    "arr：输入数组  \n",
    "axis：新轴插入的位置  "
   ]
  },
  {
   "cell_type": "code",
   "execution_count": 142,
   "metadata": {
    "scrolled": true
   },
   "outputs": [
    {
     "name": "stdout",
     "output_type": "stream",
     "text": [
      "(2, 2)\n",
      "(1, 2, 2)\n"
     ]
    }
   ],
   "source": [
    "x = np.array(([1,2],[3,4]))\n",
    "print(x.shape)\n",
    "y = np.expand_dims(x, axis = 0)\n",
    "print(y.shape)"
   ]
  },
  {
   "cell_type": "code",
   "execution_count": 143,
   "metadata": {},
   "outputs": [
    {
     "name": "stdout",
     "output_type": "stream",
     "text": [
      "(3, 4, 5)\n",
      "(3, 4, 1, 5)\n"
     ]
    }
   ],
   "source": [
    "x = np.ones((3,4,5))\n",
    "print(x.shape)\n",
    "y = np.expand_dims(x, axis = -2)\n",
    "print(y.shape)"
   ]
  },
  {
   "cell_type": "markdown",
   "metadata": {},
   "source": [
    "### `np.newaxis`"
   ]
  },
  {
   "cell_type": "code",
   "execution_count": 31,
   "metadata": {},
   "outputs": [
    {
     "name": "stdout",
     "output_type": "stream",
     "text": [
      "(3, 1, 4)\n",
      "(3, 4, 1)\n"
     ]
    }
   ],
   "source": [
    "a = np.ones((3,4))\n",
    "b = a[:,np.newaxis]\n",
    "print(b.shape)\n",
    "c = a[:,:,np.newaxis]\n",
    "print(c.shape)"
   ]
  },
  {
   "cell_type": "markdown",
   "metadata": {},
   "source": [
    "### `numpy.squeeze(arr, axis)`\n",
    "axis不给的话，把1的全部删了，要给也只能给是1的，因为只能删1的"
   ]
  },
  {
   "cell_type": "code",
   "execution_count": 150,
   "metadata": {},
   "outputs": [
    {
     "name": "stdout",
     "output_type": "stream",
     "text": [
      "(1, 3, 3, 1) (3, 3, 1)\n"
     ]
    }
   ],
   "source": [
    "x = np.arange(9).reshape(1,3,3,1)\n",
    "y = np.squeeze(x,0)\n",
    "# y = np.squeeze(x,2) 会报错\n",
    "print (x.shape, y.shape)"
   ]
  },
  {
   "cell_type": "markdown",
   "metadata": {
    "heading_collapsed": true
   },
   "source": [
    "## 连接数组\n",
    "函数|效果\n",
    "----------|------------\n",
    "concatenate()\t|连接沿现有轴的数组序列\n",
    "stack()\t|沿着新的轴加入一系列数组\n",
    "hstack()\t|水平堆叠序列中的数组（列方向）\n",
    "vstack()\t|竖直堆叠序列中的数组（行方向）"
   ]
  },
  {
   "cell_type": "markdown",
   "metadata": {
    "hidden": true
   },
   "source": [
    "### `numpy.concatenate((a1, a2, ...), axis)` \n",
    "a1, a2, ...：相同类型的数组  \n",
    "axis：沿着它连接数组的轴，默认为 0"
   ]
  },
  {
   "cell_type": "code",
   "execution_count": 151,
   "metadata": {
    "hidden": true
   },
   "outputs": [
    {
     "name": "stdout",
     "output_type": "stream",
     "text": [
      "[[1 2]\n",
      " [3 4]\n",
      " [5 6]\n",
      " [7 8]]\n",
      "-------------------------------------\n",
      "[[1 2 5 6]\n",
      " [3 4 7 8]]\n"
     ]
    }
   ],
   "source": [
    "a = np.array([[1,2],[3,4]])\n",
    "b = np.array([[5,6],[7,8]])\n",
    "print (np.concatenate((a,b)))\n",
    "printline()\n",
    "print (np.concatenate((a,b),axis = 1))"
   ]
  },
  {
   "cell_type": "markdown",
   "metadata": {
    "hidden": true
   },
   "source": [
    "### `numpy.stack(arrays, axis) `\n",
    "沿**新轴**连接数组序列  \n",
    "arrays相同形状的数组序列  \n",
    "axis：插入一个纬度，插入方式类似`expand_dims()`，在这个插入的纬度上stack "
   ]
  },
  {
   "cell_type": "code",
   "execution_count": 160,
   "metadata": {
    "hidden": true
   },
   "outputs": [
    {
     "name": "stdout",
     "output_type": "stream",
     "text": [
      "(2, 3, 4) (2, 3, 4)\n",
      "(2, 3, 5, 4)\n"
     ]
    }
   ],
   "source": [
    "a = np.ones((2,3,4))\n",
    "b = np.ones((2,3,4))\n",
    "print(a.shape,b.shape)\n",
    "c = np.stack((a,b,b,a,a),axis = 2)\n",
    "print(c.shape)"
   ]
  },
  {
   "cell_type": "markdown",
   "metadata": {
    "hidden": true
   },
   "source": [
    "### `numpy.hstack`"
   ]
  },
  {
   "cell_type": "code",
   "execution_count": 161,
   "metadata": {
    "hidden": true
   },
   "outputs": [
    {
     "name": "stdout",
     "output_type": "stream",
     "text": [
      "[[1 2]\n",
      " [3 4]]\n",
      "[[5 6]\n",
      " [7 8]]\n",
      "[[1 2 5 6]\n",
      " [3 4 7 8]]\n"
     ]
    }
   ],
   "source": [
    "a = np.array([[1,2],[3,4]])\n",
    "b = np.array([[5,6],[7,8]])\n",
    "print(a)\n",
    "print(b)\n",
    "c = np.hstack((a,b))\n",
    "print (c)"
   ]
  },
  {
   "cell_type": "markdown",
   "metadata": {
    "hidden": true
   },
   "source": [
    "### `numpy.vstack`"
   ]
  },
  {
   "cell_type": "code",
   "execution_count": 162,
   "metadata": {
    "hidden": true
   },
   "outputs": [
    {
     "name": "stdout",
     "output_type": "stream",
     "text": [
      "[[1 2]\n",
      " [3 4]]\n",
      "[[5 6]\n",
      " [7 8]]\n",
      "[[1 2]\n",
      " [3 4]\n",
      " [5 6]\n",
      " [7 8]]\n"
     ]
    }
   ],
   "source": [
    "a = np.array([[1,2],[3,4]])\n",
    "b = np.array([[5,6],[7,8]])\n",
    "print(a)\n",
    "print(b)\n",
    "c = np.vstack((a,b))\n",
    "print (c)"
   ]
  },
  {
   "cell_type": "markdown",
   "metadata": {
    "heading_collapsed": true
   },
   "source": [
    "## 分割数组\n",
    "函数|效果\n",
    "---------|---------\n",
    "split()\t|将一个数组分割为多个子数组\n",
    "array_split() | 将一个数组分割为多个子数组，不能除完，有余数也能分割\n",
    "hsplit()\t|将一个数组水平分割为多个子数组（按列）\n",
    "vsplit()\t|将一个数组垂直分割为多个子数组（按行）"
   ]
  },
  {
   "cell_type": "markdown",
   "metadata": {
    "heading_collapsed": true,
    "hidden": true
   },
   "source": [
    "### `numpy.split(ary, indices_or_sections, axis) ` \n",
    "ary：被分割的数组  \n",
    "indices_or_sections：如果是一个整数，就用该数平均切分，不能平分就报错，如果是一个数组，为沿轴切分的位置（左开右闭）  \n",
    "axis：是几，就把这个纬度的轴切了"
   ]
  },
  {
   "cell_type": "code",
   "execution_count": 21,
   "metadata": {
    "hidden": true
   },
   "outputs": [
    {
     "name": "stdout",
     "output_type": "stream",
     "text": [
      "[array([[[ 0,  1,  2,  3]],\n",
      "\n",
      "       [[12, 13, 14, 15]]]), array([[[ 4,  5,  6,  7]],\n",
      "\n",
      "       [[16, 17, 18, 19]]]), array([[[ 8,  9, 10, 11]],\n",
      "\n",
      "       [[20, 21, 22, 23]]])]\n"
     ]
    }
   ],
   "source": [
    "a = np.arange(24).reshape(2,3,4)\n",
    "b = np.split(a,3,axis = 1)\n",
    "print (b)"
   ]
  },
  {
   "cell_type": "markdown",
   "metadata": {
    "heading_collapsed": true,
    "hidden": true
   },
   "source": [
    "### `np.array_split(ary,3,axis)`不对称也能分割"
   ]
  },
  {
   "cell_type": "code",
   "execution_count": 20,
   "metadata": {
    "hidden": true
   },
   "outputs": [
    {
     "name": "stdout",
     "output_type": "stream",
     "text": [
      "[array([[[ 0,  1],\n",
      "        [ 4,  5],\n",
      "        [ 8,  9]],\n",
      "\n",
      "       [[12, 13],\n",
      "        [16, 17],\n",
      "        [20, 21]]]), array([[[ 2],\n",
      "        [ 6],\n",
      "        [10]],\n",
      "\n",
      "       [[14],\n",
      "        [18],\n",
      "        [22]]]), array([[[ 3],\n",
      "        [ 7],\n",
      "        [11]],\n",
      "\n",
      "       [[15],\n",
      "        [19],\n",
      "        [23]]])]\n"
     ]
    }
   ],
   "source": [
    "a = np.arange(24).reshape(2,3,4)\n",
    "print(np.array_split(a,3,axis = 2))"
   ]
  },
  {
   "cell_type": "markdown",
   "metadata": {
    "heading_collapsed": true,
    "hidden": true
   },
   "source": [
    "### `numpy.hsplit` 相当于 np.split(axis = 1)"
   ]
  },
  {
   "cell_type": "code",
   "execution_count": 180,
   "metadata": {
    "hidden": true
   },
   "outputs": [
    {
     "name": "stdout",
     "output_type": "stream",
     "text": [
      "[[[ 0  1  2  3]]\n",
      "\n",
      " [[12 13 14 15]]]\n",
      "(2, 1, 4)\n",
      "-------------------------------------\n",
      "[[[ 4  5  6  7]]\n",
      "\n",
      " [[16 17 18 19]]]\n",
      "(2, 1, 4)\n",
      "-------------------------------------\n",
      "[[[ 8  9 10 11]]\n",
      "\n",
      " [[20 21 22 23]]]\n",
      "(2, 1, 4)\n",
      "-------------------------------------\n"
     ]
    }
   ],
   "source": [
    "a = np.arange(24).reshape((2,3,4))\n",
    "b = np.hsplit(a,3)\n",
    "for x in b:\n",
    "    print(x)\n",
    "    print(x.shape)\n",
    "    printline()"
   ]
  },
  {
   "cell_type": "markdown",
   "metadata": {
    "heading_collapsed": true,
    "hidden": true
   },
   "source": [
    "### `numpy.vsplit` 相当于 np.split(axis = 0)"
   ]
  },
  {
   "cell_type": "code",
   "execution_count": 181,
   "metadata": {
    "hidden": true
   },
   "outputs": [
    {
     "name": "stdout",
     "output_type": "stream",
     "text": [
      "[[ 0  1  2  3  4]\n",
      " [ 5  6  7  8  9]\n",
      " [10 11 12 13 14]\n",
      " [15 16 17 18 19]]\n",
      "-------------------------------------\n",
      "[[0 1 2 3 4]\n",
      " [5 6 7 8 9]]\n",
      "-------------------------------------\n",
      "[[10 11 12 13 14]\n",
      " [15 16 17 18 19]]\n",
      "-------------------------------------\n"
     ]
    }
   ],
   "source": [
    "a = np.arange(20).reshape(4,5)\n",
    "print (a)\n",
    "printline()\n",
    "b = np.vsplit(a,2)\n",
    "for x in b:\n",
    "    print (x)\n",
    "    printline()"
   ]
  },
  {
   "cell_type": "markdown",
   "metadata": {},
   "source": [
    "## 数组元素的添加与删除\n",
    "函数|效果\n",
    "--------|---------\n",
    "resize()\t|返回指定形状的新数组\n",
    "append()\t|将值添加到数组末尾\n",
    "insert()\t|沿指定轴将值插入到指定下标之前\n",
    "delete()\t|删掉某个轴的子数组，并返回删除后的新数组\n",
    "unique()\t|查找数组内的唯一元素"
   ]
  },
  {
   "cell_type": "markdown",
   "metadata": {
    "heading_collapsed": true
   },
   "source": [
    "### `numpy.resize(arr, shape)`\n",
    "返回指定大小的新数组。,如果新数组大小大于原始大小，则包含原始数组中的元素的副本。  "
   ]
  },
  {
   "cell_type": "code",
   "execution_count": 184,
   "metadata": {
    "hidden": true
   },
   "outputs": [
    {
     "name": "stdout",
     "output_type": "stream",
     "text": [
      "[[1 2 3]\n",
      " [4 5 6]]\n",
      "(2, 3)\n",
      "-------------------------------------\n",
      "[[1 2]\n",
      " [3 4]\n",
      " [5 6]]\n",
      "(3, 2)\n",
      "-------------------------------------\n",
      "[[1 2 3]\n",
      " [4 5 6]\n",
      " [1 2 3]\n",
      " [4 5 6]\n",
      " [1 2 3]]\n"
     ]
    }
   ],
   "source": [
    "a = np.array([[1,2,3],[4,5,6]])\n",
    "print (a)\n",
    "print (a.shape)\n",
    "printline()\n",
    "b = np.resize(a, (3,2))\n",
    "print (b)\n",
    "print (b.shape)\n",
    "printline()\n",
    "b = np.resize(a,(5,3))\n",
    "print (b)"
   ]
  },
  {
   "cell_type": "markdown",
   "metadata": {
    "heading_collapsed": true
   },
   "source": [
    "### `numpy.append(arr, values, axis=None)`\n",
    "类似`concatenate()`  \n",
    "axis：默认为 None。**当axis无定义时，是横向加成，返回总是为一维数组**"
   ]
  },
  {
   "cell_type": "code",
   "execution_count": 191,
   "metadata": {
    "hidden": true
   },
   "outputs": [
    {
     "name": "stdout",
     "output_type": "stream",
     "text": [
      "[[[1. 1. 1. 1.]\n",
      "  [1. 1. 1. 1.]\n",
      "  [1. 1. 1. 1.]]\n",
      "\n",
      " [[1. 1. 1. 1.]\n",
      "  [1. 1. 1. 1.]\n",
      "  [1. 1. 1. 1.]]]\n",
      "[1. 1. 1. 1. 1. 1. 1. 1. 1. 1. 1. 1. 1. 1. 1. 1. 1. 1. 1. 1. 1. 1. 1. 1.\n",
      " 7. 8. 9.]\n"
     ]
    }
   ],
   "source": [
    "a = np.ones((2,3,4))\n",
    "print (a)\n",
    "print (np.append(a, [7,8,9]))"
   ]
  },
  {
   "cell_type": "code",
   "execution_count": 196,
   "metadata": {
    "hidden": true
   },
   "outputs": [
    {
     "name": "stdout",
     "output_type": "stream",
     "text": [
      "[[[1. 1. 1. 1.]\n",
      "  [1. 1. 1. 1.]\n",
      "  [1. 1. 1. 1.]]\n",
      "\n",
      " [[1. 1. 1. 1.]\n",
      "  [1. 1. 1. 1.]\n",
      "  [1. 1. 1. 1.]]\n",
      "\n",
      " [[0. 0. 0. 0.]\n",
      "  [0. 0. 0. 0.]\n",
      "  [0. 0. 0. 0.]]]\n"
     ]
    }
   ],
   "source": [
    "a = np.ones((2,3,4))\n",
    "b = np.zeros((1,3,4))\n",
    "print(np.append(a,b,axis = 0))"
   ]
  },
  {
   "cell_type": "markdown",
   "metadata": {
    "heading_collapsed": true
   },
   "source": [
    "### `numpy.insert(arr, obj, values, axis)`\n",
    "在给定索引之前，沿给定轴在输入数组中插入值。  \n",
    "如果值的类型转换为要插入，则它与输入数组不同。 返回一个新数组。 此外，如果未提供轴，则输入数组会被展开。  \n",
    "arr：输入数组  \n",
    "obj：在其之前插入值的索引  \n",
    "values：要插入的值  \n",
    "axis：沿着它插入的轴，如果未提供，则输入数组会被展开  "
   ]
  },
  {
   "cell_type": "code",
   "execution_count": 199,
   "metadata": {
    "hidden": true
   },
   "outputs": [
    {
     "name": "stdout",
     "output_type": "stream",
     "text": [
      "第一个数组：\n",
      "[[1 2]\n",
      " [3 4]\n",
      " [5 6]]\n",
      "\n",
      "\n",
      "未传递 Axis 参数。 在插入之前输入数组会被展开。\n",
      "[ 1  2  3 11 12  4  5  6]\n",
      "\n",
      "\n",
      "传递了 Axis 参数。 会广播值数组来配输入数组。\n",
      "沿轴 0 广播：\n",
      "[[ 1  2]\n",
      " [11 11]\n",
      " [ 3  4]\n",
      " [ 5  6]]\n",
      "\n",
      "\n",
      "沿轴 1 广播：\n",
      "[[ 1 11  2]\n",
      " [ 3 11  4]\n",
      " [ 5 11  6]]\n"
     ]
    }
   ],
   "source": [
    "a = np.array([[1,2],[3,4],[5,6]])\n",
    " \n",
    "print ('第一个数组：')\n",
    "print (a)\n",
    "print ('\\n')\n",
    " \n",
    "print ('未传递 Axis 参数。 在插入之前输入数组会被展开。')\n",
    "print (np.insert(a,3,[11,12]))\n",
    "print ('\\n')\n",
    "\n",
    "print ('传递了 Axis 参数。 会广播值数组来配输入数组。') \n",
    "print ('沿轴 0 广播：')\n",
    "print (np.insert(a,1,[11],axis = 0))\n",
    "print ('\\n')\n",
    " \n",
    "print ('沿轴 1 广播：')\n",
    "print (np.insert(a,1,11,axis = 1))"
   ]
  },
  {
   "cell_type": "markdown",
   "metadata": {
    "heading_collapsed": true
   },
   "source": [
    "### `numpy.delete(arr, obj, axis)`\n",
    "numpy.delete 函数返回从输入数组中删除指定子数组的新数组。 \n",
    "1. 与insert() 函数的情况一样，如果未提供轴参数，则输入数组将展开。  \n",
    "2. 指定了axis，这个纬度中一个元素被删除了，整个这个纬度的一行都要被删除  \n",
    "\n",
    "arr：输入数组  \n",
    "obj：可以是切片，整数或者整数数组，表明要从输入数组删除的**子数组**  \n",
    "axis：沿着它删除给定子数组的轴，如果未提供，则输入数组会被展开"
   ]
  },
  {
   "cell_type": "code",
   "execution_count": 200,
   "metadata": {
    "hidden": true
   },
   "outputs": [
    {
     "name": "stdout",
     "output_type": "stream",
     "text": [
      "第一个数组：\n",
      "[[ 0  1  2  3]\n",
      " [ 4  5  6  7]\n",
      " [ 8  9 10 11]]\n",
      "\n",
      "\n",
      "未传递 Axis 参数。 在插入之前输入数组会被展开。\n",
      "[ 0  1  2  3  4  6  7  8  9 10 11]\n",
      "\n",
      "\n",
      "删除第二列：\n",
      "[[ 0  2  3]\n",
      " [ 4  6  7]\n",
      " [ 8 10 11]]\n",
      "\n",
      "\n",
      "包含从数组中删除的替代值的切片：\n",
      "[ 2  4  6  8 10]\n"
     ]
    }
   ],
   "source": [
    "a = np.arange(12).reshape(3,4)\n",
    " \n",
    "print ('第一个数组：')\n",
    "print (a)\n",
    "print ('\\n')\n",
    " \n",
    "print ('未传递 Axis 参数。 在插入之前输入数组会被展开。')\n",
    "print (np.delete(a,5))\n",
    "print ('\\n')\n",
    " \n",
    "print ('删除第二列：')\n",
    "print (np.delete(a,1,axis = 1))\n",
    "print ('\\n')\n",
    " \n",
    "print ('包含从数组中删除的替代值的切片：')\n",
    "a = np.array([1,2,3,4,5,6,7,8,9,10])\n",
    "print (np.delete(a, np.s_[::2]))"
   ]
  },
  {
   "cell_type": "markdown",
   "metadata": {
    "heading_collapsed": true
   },
   "source": [
    "### `numpy.unique(arr, return_index, return_inverse, return_counts)`\n",
    "去除数组中的重复元素。  \n",
    "arr：输入数组，如果不是一维数组则会展开  \n",
    "return_index：如果为true，返回新列表元素在旧列表中的位置（下标），并以列表形式储  \n",
    "return_inverse：如果为true，返回旧列表元素在新列表中的位置（下标），并以列表形式储  \n",
    "return_counts：如果为true，返回去重数组中的元素在原数组中的出现次数"
   ]
  },
  {
   "cell_type": "code",
   "execution_count": 201,
   "metadata": {
    "hidden": true
   },
   "outputs": [
    {
     "name": "stdout",
     "output_type": "stream",
     "text": [
      "第一个数组：\n",
      "[5 2 6 2 7 5 6 8 2 9]\n",
      "\n",
      "\n",
      "第一个数组的去重值：\n",
      "[2 5 6 7 8 9]\n",
      "\n",
      "\n",
      "去重数组的索引数组：\n",
      "[1 0 2 4 7 9]\n",
      "\n",
      "\n"
     ]
    }
   ],
   "source": [
    "a = np.array([5,2,6,2,7,5,6,8,2,9])\n",
    " \n",
    "print ('第一个数组：')\n",
    "print (a)\n",
    "print ('\\n')\n",
    " \n",
    "print ('第一个数组的去重值：')\n",
    "u = np.unique(a)\n",
    "print (u)\n",
    "print ('\\n')\n",
    " \n",
    "# 这里的索引就是 去重后数组相对于原来数组的索引\n",
    "print ('去重数组的索引数组：')\n",
    "u,indices = np.unique(a, return_index = True)\n",
    "print (indices)\n",
    "print ('\\n')\n",
    " "
   ]
  },
  {
   "cell_type": "code",
   "execution_count": 202,
   "metadata": {
    "hidden": true
   },
   "outputs": [
    {
     "name": "stdout",
     "output_type": "stream",
     "text": [
      "去重数组：\n",
      "[2 5 6 7 8 9]\n",
      "\n",
      "\n",
      "下标为：\n",
      "[1 0 2 0 3 1 2 4 0 5]\n",
      "\n",
      "\n",
      "使用下标重构原数组：\n",
      "[5 2 6 2 7 5 6 8 2 9]\n",
      "\n",
      "\n",
      "返回去重元素的重复数量：\n",
      "[2 5 6 7 8 9]\n",
      "[3 2 2 1 1 1]\n"
     ]
    }
   ],
   "source": [
    "print ('去重数组：')\n",
    "u,indices = np.unique(a,return_inverse = True)\n",
    "print (u)\n",
    "print ('\\n')\n",
    "\n",
    "# 这里的索引就是 去原来数组相对于去重数组的索引 \n",
    "print ('下标为：')\n",
    "print (indices)\n",
    "print ('\\n')\n",
    "# 所以直接用 去重后的u，用 整数组 切片\n",
    "print ('使用下标重构原数组：')\n",
    "print (u[indices])\n",
    "print ('\\n')\n",
    " \n",
    "print ('返回去重元素的重复数量：')\n",
    "u,indices = np.unique(a,return_counts = True)\n",
    "print (u)\n",
    "print (indices)"
   ]
  },
  {
   "cell_type": "markdown",
   "metadata": {
    "heading_collapsed": true
   },
   "source": [
    "# 8.算术函数"
   ]
  },
  {
   "cell_type": "markdown",
   "metadata": {
    "heading_collapsed": true,
    "hidden": true
   },
   "source": [
    "## 加减乘除: \n",
    "### `add()`，`subtract()`，`multiply()` 和 `divide()`\n"
   ]
  },
  {
   "cell_type": "markdown",
   "metadata": {
    "hidden": true
   },
   "source": [
    "## 倒数\n",
    "### `numpy.reciprocal()` \n",
    "函数返回参数逐元素的倒数。如 1/4 倒数为 4/1。\n"
   ]
  },
  {
   "cell_type": "markdown",
   "metadata": {
    "hidden": true
   },
   "source": [
    "## 求幂\n",
    "### `numpy.power()` \n",
    "函数将第一个输入数组中的元素作为底数，计算它与第二个输入数组中相应元素的幂。"
   ]
  },
  {
   "cell_type": "code",
   "execution_count": 5,
   "metadata": {
    "hidden": true
   },
   "outputs": [
    {
     "name": "stdout",
     "output_type": "stream",
     "text": [
      "[  10  100 1000]\n",
      "[        10      10000 1000000000]\n"
     ]
    }
   ],
   "source": [
    "a = np.array([10,100,1000])  \n",
    "print (a)\n",
    "b = np.array([1,2,3])  \n",
    "print (np.power(a,b))"
   ]
  },
  {
   "cell_type": "markdown",
   "metadata": {
    "hidden": true
   },
   "source": [
    "## 取余\n",
    "### `numpy.mod()` and  `numpy.remainder()` \n",
    "计算输入数组中相应元素的相除后的余数。 函数 "
   ]
  },
  {
   "cell_type": "markdown",
   "metadata": {
    "heading_collapsed": true
   },
   "source": [
    "# 9.统计函数"
   ]
  },
  {
   "cell_type": "markdown",
   "metadata": {
    "hidden": true
   },
   "source": [
    "### `numpy.amin()` 和 `numpy.amax()`\n",
    "### `numpy.min()` 和 `numpy.max()`\n",
    "### `numpy.argmin()` 和 `numpy.argmax()`"
   ]
  },
  {
   "cell_type": "code",
   "execution_count": 13,
   "metadata": {
    "hidden": true
   },
   "outputs": [
    {
     "name": "stdout",
     "output_type": "stream",
     "text": [
      "[[ 0  1  2  3]\n",
      " [ 4  5  6  7]\n",
      " [ 8  9 10 11]]\n",
      "-------------------------------------\n",
      "[ 8  9 10 11]\n",
      "-------------------------------------\n",
      "[ 3  7 11]\n",
      "-------------------------------------\n",
      "11\n"
     ]
    }
   ],
   "source": [
    "a = np.arange(12).reshape((3,4))\n",
    "print(a)\n",
    "printline()\n",
    "print(np.amax(a,axis = 0))\n",
    "printline()\n",
    "print(np.amax(a,axis = 1))\n",
    "printline()\n",
    "print(np.amax(a))"
   ]
  },
  {
   "cell_type": "markdown",
   "metadata": {
    "heading_collapsed": true,
    "hidden": true
   },
   "source": [
    "### `numpy.percentile(a, q, axis)`\n",
    "给你一个位置百分比，求出这个位置百分比的 准确值 是多少  \n",
    "百分位数是统计中使用的度量，表示**小于**这个值的观察值的百分比。  \n",
    "a: 输入数组  \n",
    "q: 要计算的百分位数，在 0 ~ 100 之间  \n",
    "axis: 沿着它计算百分位数的轴  "
   ]
  },
  {
   "cell_type": "code",
   "execution_count": 16,
   "metadata": {
    "hidden": true
   },
   "outputs": [
    {
     "name": "stdout",
     "output_type": "stream",
     "text": [
      "[[ 0  1  2  3]\n",
      " [ 4  5  6  7]\n",
      " [ 8  9 10 11]]\n",
      "-------------------------------------\n",
      "5.5\n",
      "-------------------------------------\n",
      "[4. 5. 6. 7.]\n",
      "-------------------------------------\n",
      "[1.5 5.5 9.5]\n",
      "-------------------------------------\n",
      "[[1.5]\n",
      " [5.5]\n",
      " [9.5]]\n"
     ]
    }
   ],
   "source": [
    "a = np.arange(12).reshape((3,4))\n",
    "print(a)\n",
    "printline()\n",
    "\n",
    "print (np.percentile(a, 50))\n",
    "printline()\n",
    "\n",
    "print (np.percentile(a, 50, axis=0))\n",
    "printline()\n",
    "\n",
    "print (np.percentile(a, 50, axis=1))\n",
    "printline()\n",
    "# 保持维度不变\n",
    "print (np.percentile(a, 50, axis=1, keepdims=True))"
   ]
  },
  {
   "cell_type": "markdown",
   "metadata": {
    "heading_collapsed": true,
    "hidden": true
   },
   "source": [
    "### `numpy.mean()` and `numpy.sum()`\n",
    "算术平均值。 如果提供了轴，则沿其计算。  \n",
    "算术平均值是沿轴的元素的总和除以元素的数量。"
   ]
  },
  {
   "cell_type": "markdown",
   "metadata": {
    "heading_collapsed": true,
    "hidden": true
   },
   "source": [
    "### `numpy.average()`\n",
    "numpy.average() 函数根据在另一个数组中给出的各自的权重计算数组中元素的加权平均值。  \n",
    "权重需要是个一维的，可以是负数，但权重的和必须不为0   \n",
    "该函数可以接受一个轴参数。 如果没有指定轴，则数组会被展开。   "
   ]
  },
  {
   "cell_type": "code",
   "execution_count": 32,
   "metadata": {
    "hidden": true
   },
   "outputs": [
    {
     "data": {
      "text/plain": [
       "array([-3.,  1.,  5.])"
      ]
     },
     "execution_count": 32,
     "metadata": {},
     "output_type": "execute_result"
    }
   ],
   "source": [
    "a = np.arange(12).reshape((3,4))\n",
    "b = np.array([1,1,1,-2])\n",
    "np.average(a,weights = b,axis = 1)"
   ]
  },
  {
   "cell_type": "markdown",
   "metadata": {
    "heading_collapsed": true,
    "hidden": true
   },
   "source": [
    "### `numpy.median()`\n",
    "中位数（中值）"
   ]
  },
  {
   "cell_type": "markdown",
   "metadata": {
    "heading_collapsed": true,
    "hidden": true
   },
   "source": [
    "###  `numpy.std()`\n",
    "标准差"
   ]
  },
  {
   "cell_type": "markdown",
   "metadata": {
    "hidden": true
   },
   "source": [
    "###  `numpy.var()`\n",
    "方差"
   ]
  },
  {
   "cell_type": "markdown",
   "metadata": {
    "heading_collapsed": true,
    "hidden": true
   },
   "source": [
    "### `numpy.cumsum(a)`叠加"
   ]
  },
  {
   "cell_type": "code",
   "execution_count": 6,
   "metadata": {
    "hidden": true
   },
   "outputs": [
    {
     "name": "stdout",
     "output_type": "stream",
     "text": [
      "[ 0  1  3  6 10 15 21 28 36 45 55 66]\n"
     ]
    }
   ],
   "source": [
    "a = np.arange(12).reshape((3,4))\n",
    "print(np.cumsum(a))"
   ]
  },
  {
   "cell_type": "markdown",
   "metadata": {
    "heading_collapsed": true,
    "hidden": true
   },
   "source": [
    "### `numpy.diff(a)`差"
   ]
  },
  {
   "cell_type": "code",
   "execution_count": 7,
   "metadata": {
    "hidden": true
   },
   "outputs": [
    {
     "name": "stdout",
     "output_type": "stream",
     "text": [
      "[[1 1 1]\n",
      " [1 1 1]\n",
      " [1 1 1]]\n"
     ]
    }
   ],
   "source": [
    "a = np.arange(12).reshape((3,4))\n",
    "print(np.diff(a))"
   ]
  },
  {
   "cell_type": "markdown",
   "metadata": {
    "heading_collapsed": true
   },
   "source": [
    "# 10.排序、条件刷选函数"
   ]
  },
  {
   "cell_type": "markdown",
   "metadata": {
    "heading_collapsed": true,
    "hidden": true
   },
   "source": [
    "### `numpy.sort(a, axis, kind, order)` 从小到大\n",
    "返回输入数组的排序副本  \n",
    "a: 要排序的数组  \n",
    "axis: 沿着它排序数组的轴，如果没有数组会被展开，沿着**最后的轴**排序\n",
    "kind: 默认为'quicksort'（快速排序）  \n",
    "order: 如果数组包含字段，则是要排序的字段"
   ]
  },
  {
   "cell_type": "code",
   "execution_count": 36,
   "metadata": {
    "hidden": true
   },
   "outputs": [
    {
     "name": "stdout",
     "output_type": "stream",
     "text": [
      "[[2 7]\n",
      " [9 1]]\n",
      "-------------------------------------\n",
      "[[2 7]\n",
      " [1 9]]\n",
      "-------------------------------------\n",
      "[[2 7]\n",
      " [1 9]]\n",
      "-------------------------------------\n",
      "[[2 1]\n",
      " [9 7]]\n",
      "-------------------------------------\n",
      "我们的数组是：\n",
      "[(b'raju', 21) (b'anil', 25) (b'ravi', 17) (b'amar', 27)]\n",
      "\n",
      "\n",
      "按 name 排序：\n",
      "[(b'amar', 27) (b'anil', 25) (b'raju', 21) (b'ravi', 17)]\n"
     ]
    }
   ],
   "source": [
    "a = np.array([[2,7],[9,1]])  \n",
    "print (a)\n",
    "printline()\n",
    "print (np.sort(a))\n",
    "printline()\n",
    "print (np.sort(a, axis =  1))\n",
    "printline()\n",
    "print (np.sort(a, axis =  0))\n",
    "printline()\n",
    "\n",
    "# 在 sort 函数中排序字段 \n",
    "dt = np.dtype([('name',  'S10'),('age',  int)]) \n",
    "a = np.array([(\"raju\",21),(\"anil\",25),(\"ravi\",  17),  (\"amar\",27)], dtype = dt)  \n",
    "print ('我们的数组是：')\n",
    "print (a)\n",
    "print ('\\n')\n",
    "print ('按 name 排序：')\n",
    "print (np.sort(a, order =  'name'))"
   ]
  },
  {
   "cell_type": "markdown",
   "metadata": {
    "heading_collapsed": true,
    "hidden": true
   },
   "source": [
    "### `numpy.argsort()` 从小到大\n",
    "返回的是数组值从小到大的索引值。"
   ]
  },
  {
   "cell_type": "code",
   "execution_count": 37,
   "metadata": {
    "hidden": true
   },
   "outputs": [
    {
     "name": "stdout",
     "output_type": "stream",
     "text": [
      "我们的数组是：\n",
      "[3 1 2]\n",
      "\n",
      "\n",
      "对 x 调用 argsort() 函数：\n",
      "[1 2 0]\n",
      "\n",
      "\n",
      "以排序后的顺序重构原数组：\n",
      "[1 2 3]\n",
      "-------------------------------------\n",
      "[3 1 2]\n",
      "\n",
      "\n",
      "使用循环 索引的方式 遍历 打印 排好序的数组：\n",
      "1 2 3 "
     ]
    }
   ],
   "source": [
    "x = np.array([3,  1,  2])  \n",
    "print ('我们的数组是：')\n",
    "print (x)\n",
    "print ('\\n')\n",
    "print ('对 x 调用 argsort() 函数：')\n",
    "y = np.argsort(x)  \n",
    "print (y)\n",
    "print ('\\n')\n",
    "print ('以排序后的顺序重构原数组：')\n",
    "a = x[y]\n",
    "print (a)\n",
    "printline()\n",
    "print(x)\n",
    "print ('\\n')\n",
    "print ('使用循环 索引的方式 遍历 打印 排好序的数组：')\n",
    "for i in y:  \n",
    "    print (x[i], end=\" \")\n"
   ]
  },
  {
   "cell_type": "markdown",
   "metadata": {
    "heading_collapsed": true,
    "hidden": true
   },
   "source": [
    "### `numpy.lexsort()`\n",
    "numpy.lexsort() 用于对多个序列进行排序。排序时**优先照顾靠后的列**    \n",
    "返回的是排好序的索引"
   ]
  },
  {
   "cell_type": "code",
   "execution_count": 287,
   "metadata": {
    "hidden": true
   },
   "outputs": [
    {
     "name": "stdout",
     "output_type": "stream",
     "text": [
      "调用 lexsort() 函数：\n",
      "[3 0 1 2]\n",
      "\n",
      "\n",
      "使用这个索引来获取排序后的数据：\n",
      "['amar, f.y.', 'raju, f.y.', 'anil, s.y.', 'ravi, s.y.']\n",
      "[3 1 0 2]\n",
      "\n",
      "\n",
      "使用这个索引来获取排序后的数据：\n",
      "['amar, f.y.', 'anil, s.y.', 'raju, f.y.', 'ravi, s.y.']\n"
     ]
    }
   ],
   "source": [
    "nm =  ('raju','anil','ravi','amar') \n",
    "dv =  ('f.y.',  's.y.',  's.y.',  'f.y.') \n",
    "# 这里优先考虑nm列进行排序\n",
    "ind1 = np.lexsort((nm,dv))  \n",
    "# 这里优先考虑dv列进行排序\n",
    "ind2 = np.lexsort((dv,nm)) \n",
    "\n",
    "print ('调用 lexsort() 函数：') \n",
    "print (ind1) \n",
    "print ('\\n') \n",
    "print ('使用这个索引来获取排序后的数据：') \n",
    "print ([nm[i]  +  \", \"  + dv[i]  for i in ind1])\n",
    "\n",
    "print (ind2) \n",
    "print ('\\n') \n",
    "print ('使用这个索引来获取排序后的数据：') \n",
    "print ([nm[i]  +  \", \"  + dv[i]  for i in ind2])"
   ]
  },
  {
   "cell_type": "markdown",
   "metadata": {
    "heading_collapsed": true,
    "hidden": true
   },
   "source": [
    "### `np.msort()`\n",
    "msort(a) 数组按第一个轴排序，返回排序后的数组副本。np.msort(a) 相等于 np.sort(a, axis=0)。"
   ]
  },
  {
   "cell_type": "markdown",
   "metadata": {
    "heading_collapsed": true,
    "hidden": true
   },
   "source": [
    "### ` np.sort_complex()`\n",
    "对复数按照先实部后虚部的顺序进行排序。"
   ]
  },
  {
   "cell_type": "markdown",
   "metadata": {
    "heading_collapsed": true,
    "hidden": true
   },
   "source": [
    "### `np.partition(a, kth[, axis, kind, order]) `\n",
    "指定一个数，对数组进行分区\n",
    "1. 现将原数组排序\n",
    "2. 找到排序后数组对应位置的数\n",
    "3. 把原数组中小于这个数的放它的左边，大于等于的放右边\n",
    "4. 也可以的一个一维数组，分成n个区\n",
    "5. 只进行分区，每个区内部的大小，没有排过序"
   ]
  },
  {
   "cell_type": "code",
   "execution_count": 73,
   "metadata": {
    "hidden": true
   },
   "outputs": [
    {
     "name": "stdout",
     "output_type": "stream",
     "text": [
      "[ 1 10 60 40]\n",
      "-------------------------------------\n",
      "[ 1 10 40 60]\n",
      "-------------------------------------\n",
      "[ 1 10 40 60]\n"
     ]
    }
   ],
   "source": [
    "a = np.array([1, 10, 60, 40])\n",
    "print(a)\n",
    "printline()\n",
    "# 将数组 a 中所有元素（包括重复元素）从小到大排列，变成 [1,10,40,60]\n",
    "# 2 表示的是排序数组索引为 2 的数字，在这里就是40，比该数字小的排在该数字前面，比该数字大的排在该数字的后面\n",
    "print(np.partition(a, 2))  \n",
    "printline()\n",
    "print(np.partition(a, (1, 2))) # 小于第1的在前面，大于第2个的在后面，即介于10和40\n"
   ]
  },
  {
   "cell_type": "markdown",
   "metadata": {
    "heading_collapsed": true,
    "hidden": true
   },
   "source": [
    "### `np.argpartition(a, kth[, axis, kind, order])`\n",
    "可以通过关键字 kind 指定算法沿着指定轴对数组进行分区,返回的是 从小到大排好的值的索引  "
   ]
  },
  {
   "cell_type": "code",
   "execution_count": 64,
   "metadata": {
    "hidden": true
   },
   "outputs": [
    {
     "name": "stdout",
     "output_type": "stream",
     "text": [
      "[6 4 5 3 1 2 0 7]\n"
     ]
    }
   ],
   "source": [
    "arr = np.array([46, 57, 23, 230, 1, 10, 0, 120])\n",
    "# 这里的2 表示，只把最小的前3找出来，与数组中 本来的前三互换位置，其他不管不动\n",
    "a = np.argpartition(arr, 2)\n",
    "print(a)"
   ]
  },
  {
   "cell_type": "code",
   "execution_count": 65,
   "metadata": {
    "hidden": true
   },
   "outputs": [
    {
     "name": "stdout",
     "output_type": "stream",
     "text": [
      "[6 0 2 1 4 5 7 3]\n"
     ]
    }
   ],
   "source": [
    "# 这里的-2 表示，只把最大的前2找出来（即-1，-2），与数组中 本来的 后二 的互换位置，其他不管不动\n",
    "b = np.argpartition(arr, -2)\n",
    "print(b)"
   ]
  },
  {
   "cell_type": "code",
   "execution_count": 66,
   "metadata": {
    "hidden": true
   },
   "outputs": [
    {
     "name": "stdout",
     "output_type": "stream",
     "text": [
      "1\n",
      "10\n"
     ]
    }
   ],
   "source": [
    "# 同时找到第 3 和第 4 小的值。\n",
    "c = arr[np.argpartition(arr,[1,2])[1]]\n",
    "d = arr[np.argpartition(arr,[1,2])[2]]\n",
    "print(c)\n",
    "print(d)"
   ]
  },
  {
   "cell_type": "markdown",
   "metadata": {
    "hidden": true
   },
   "source": [
    "### `numpy.argmax()` 和 `numpy.argmin()`\n",
    "沿给定轴返回最大和最小元素的索引，不指定维度就展开,指定了就按指定的。"
   ]
  },
  {
   "cell_type": "markdown",
   "metadata": {
    "heading_collapsed": true,
    "hidden": true
   },
   "source": [
    "### `numpy.nonzero()`\n",
    "返回输入数组中非零元素的索引，就一个参数，返回对应纬度数量的arrray，对应位置组合起来就是坐标"
   ]
  },
  {
   "cell_type": "code",
   "execution_count": 69,
   "metadata": {
    "hidden": true
   },
   "outputs": [
    {
     "name": "stdout",
     "output_type": "stream",
     "text": [
      "[[30 40  0]\n",
      " [ 0 20 10]\n",
      " [50  0 60]]\n",
      "(array([0, 0, 1, 1, 2, 2]), array([0, 1, 1, 2, 0, 2]))\n"
     ]
    }
   ],
   "source": [
    "a = np.array([[30,40,0],[0,20,10],[50,0,60]])  \n",
    "print (a)\n",
    "print (np.nonzero (a))"
   ]
  },
  {
   "cell_type": "markdown",
   "metadata": {
    "heading_collapsed": true,
    "hidden": true
   },
   "source": [
    "### `numpy.where()`\n",
    "返回输入数组中满足给定条件的元素的索引。"
   ]
  },
  {
   "cell_type": "code",
   "execution_count": 71,
   "metadata": {
    "hidden": true
   },
   "outputs": [
    {
     "name": "stdout",
     "output_type": "stream",
     "text": [
      "[[0. 1. 2.]\n",
      " [3. 4. 5.]\n",
      " [6. 7. 8.]]\n",
      "-------------------------------------\n",
      "(array([1, 1, 2, 2, 2]), array([1, 2, 0, 1, 2]))\n",
      "-------------------------------------\n",
      "[4. 5. 6. 7. 8.]\n"
     ]
    }
   ],
   "source": [
    "x = np.arange(9.).reshape(3,  3)  \n",
    "print (x)\n",
    "printline()\n",
    "y = np.where(x >  3)  \n",
    "print (y)\n",
    "printline()\n",
    "# 重构数组，还有这一招\n",
    "print (x[y])"
   ]
  },
  {
   "cell_type": "markdown",
   "metadata": {
    "heading_collapsed": true,
    "hidden": true
   },
   "source": [
    "### `numpy.extract()`\n",
    "根据某个条件从数组中抽取元素，返回满条件的元素。"
   ]
  },
  {
   "cell_type": "code",
   "execution_count": 72,
   "metadata": {
    "hidden": true
   },
   "outputs": [
    {
     "name": "stdout",
     "output_type": "stream",
     "text": [
      "[[0. 1. 2.]\n",
      " [3. 4. 5.]\n",
      " [6. 7. 8.]]\n",
      "按元素的条件值：\n",
      "[[ True False  True]\n",
      " [False  True False]\n",
      " [ True False  True]]\n",
      "使用条件提取元素：\n",
      "[0. 2. 4. 6. 8.]\n"
     ]
    }
   ],
   "source": [
    "x = np.arange(9.).reshape(3,  3)  \n",
    "print (x)\n",
    "# 定义条件, 选择偶数元素\n",
    "condition = np.mod(x,2)  ==  0  \n",
    "print ('按元素的条件值：')\n",
    "print (condition)\n",
    "print ('使用条件提取元素：')\n",
    "print (np.extract(condition, x))"
   ]
  },
  {
   "cell_type": "markdown",
   "metadata": {
    "heading_collapsed": true
   },
   "source": [
    "# 11.副本和视图\n",
    "  "
   ]
  },
  {
   "cell_type": "markdown",
   "metadata": {
    "hidden": true
   },
   "source": [
    "视图一般发生在：\n",
    "1、numpy 的切片操作返回原数据的视图。  \n",
    "2、调用 ndarray 的 view() 函数产生一个视图。  \n",
    "\n",
    "副本一般发生在：\n",
    "Python 序列的切片操作，调用deepCopy()函数。  \n",
    "调用 ndarray 的 copy() 函数产生一个副本。"
   ]
  },
  {
   "cell_type": "markdown",
   "metadata": {
    "heading_collapsed": true,
    "hidden": true
   },
   "source": [
    "## 赋值引用，一个东西"
   ]
  },
  {
   "cell_type": "code",
   "execution_count": 74,
   "metadata": {
    "hidden": true
   },
   "outputs": [
    {
     "name": "stdout",
     "output_type": "stream",
     "text": [
      "4627113344\n",
      "4627113344\n"
     ]
    }
   ],
   "source": [
    "a = np.ones((3,4))\n",
    "b = a\n",
    "print(id(a))\n",
    "print(id(b))"
   ]
  },
  {
   "cell_type": "markdown",
   "metadata": {
    "heading_collapsed": true,
    "hidden": true
   },
   "source": [
    "## 视图"
   ]
  },
  {
   "cell_type": "markdown",
   "metadata": {
    "heading_collapsed": true,
    "hidden": true
   },
   "source": [
    "### `a.view()` \n",
    "创建一个新的数组对象，该方法创建的新数组的维数更改**不会更改原始数据的维数**。\n",
    "修改值，**会更改原始数据的值**"
   ]
  },
  {
   "cell_type": "code",
   "execution_count": 77,
   "metadata": {
    "hidden": true
   },
   "outputs": [
    {
     "name": "stdout",
     "output_type": "stream",
     "text": [
      "数组 a：\n",
      "[[0 1]\n",
      " [2 3]\n",
      " [4 5]]\n",
      "创建 a 的视图：\n",
      "[[0 1]\n",
      " [2 3]\n",
      " [4 5]]\n",
      "两个数组的 id() 不同：\n",
      "a 的 id()：\n",
      "4627051104\n",
      "b 的 id()：\n",
      "4627051424\n",
      "b 的形状：\n",
      "[[0 1 2]\n",
      " [3 4 5]]\n",
      "a 的形状：\n",
      "[[0 1]\n",
      " [2 3]\n",
      " [4 5]]\n",
      "值变了\n",
      "[[5 1]\n",
      " [2 3]\n",
      " [4 5]]\n"
     ]
    }
   ],
   "source": [
    "a = np.arange(6).reshape(3,2)  \n",
    "print ('数组 a：')\n",
    "print (a)\n",
    "print ('创建 a 的视图：')\n",
    "b = a.view()  \n",
    "print (b)\n",
    "print ('两个数组的 id() 不同：')\n",
    "print ('a 的 id()：')\n",
    "print (id(a))\n",
    "print ('b 的 id()：' )\n",
    "print (id(b))\n",
    "# 修改 b 的形状，并不会修改 a\n",
    "b.shape =  2,3\n",
    "print ('b 的形状：')\n",
    "print (b)\n",
    "print ('a 的形状：')\n",
    "print (a)\n",
    "# 修改值\n",
    "print('值变了')\n",
    "b[0][0] = 5\n",
    "print(a)"
   ]
  },
  {
   "cell_type": "markdown",
   "metadata": {
    "heading_collapsed": true,
    "hidden": true
   },
   "source": [
    "## reshape，切片都是视图的一种\n",
    "变量 a,b 都是 arr 的一部分视图，对视图的修改会直接反映到原数据中。但是我们观察 a,b 的 **id是不同的**。"
   ]
  },
  {
   "cell_type": "code",
   "execution_count": 78,
   "metadata": {
    "hidden": true
   },
   "outputs": [
    {
     "name": "stdout",
     "output_type": "stream",
     "text": [
      "我们的数组：\n",
      "[ 0  1  2  3  4  5  6  7  8  9 10 11]\n",
      "创建切片：\n",
      "[  0   1   2   3 123 234   6   7   8   9  10  11]\n",
      "4627115584 4627051104 4627052464\n"
     ]
    }
   ],
   "source": [
    "arr = np.arange(12)\n",
    "print ('我们的数组：')\n",
    "print (arr)\n",
    "print ('创建切片：')\n",
    "a=arr[3:]\n",
    "b=arr[3:]\n",
    "a[1]=123\n",
    "b[2]=234\n",
    "print(arr)\n",
    "print(id(a),id(b),id(arr[3:]))"
   ]
  },
  {
   "cell_type": "markdown",
   "metadata": {
    "heading_collapsed": true,
    "hidden": true
   },
   "source": [
    "## 副本或深拷贝\n"
   ]
  },
  {
   "cell_type": "markdown",
   "metadata": {
    "heading_collapsed": true,
    "hidden": true
   },
   "source": [
    "### `a.copy()` 函数创建一个副本。 对副本数据进行修改，不会影响到原始数据，它们物理内存不在同一位置。"
   ]
  },
  {
   "cell_type": "code",
   "execution_count": 79,
   "metadata": {
    "hidden": true,
    "scrolled": true
   },
   "outputs": [
    {
     "name": "stdout",
     "output_type": "stream",
     "text": [
      "数组 a：\n",
      "[[10 10]\n",
      " [ 2  3]\n",
      " [ 4  5]]\n",
      "创建 a 的深层副本：\n",
      "数组 b：\n",
      "[[10 10]\n",
      " [ 2  3]\n",
      " [ 4  5]]\n",
      "我们能够写入 b 来写入 a 吗？\n",
      "False\n",
      "修改 b 的内容：\n",
      "修改后的数组 b：\n",
      "[[100  10]\n",
      " [  2   3]\n",
      " [  4   5]]\n",
      "a 保持不变：\n",
      "[[10 10]\n",
      " [ 2  3]\n",
      " [ 4  5]]\n"
     ]
    }
   ],
   "source": [
    "a = np.array([[10,10],  [2,3],  [4,5]])  \n",
    "print ('数组 a：')\n",
    "print (a)\n",
    "print ('创建 a 的深层副本：')\n",
    "b = a.copy()  \n",
    "print ('数组 b：')\n",
    "print (b)\n",
    "# b 与 a 不共享任何内容  \n",
    "print ('我们能够写入 b 来写入 a 吗？')\n",
    "print (b is a)\n",
    "print ('修改 b 的内容：')\n",
    "b[0,0]  =  100  \n",
    "print ('修改后的数组 b：')\n",
    "print (b)\n",
    "print ('a 保持不变：')\n",
    "print (a)"
   ]
  },
  {
   "cell_type": "markdown",
   "metadata": {
    "heading_collapsed": true
   },
   "source": [
    "# 12.矩阵(Matrix)和线性代数"
   ]
  },
  {
   "cell_type": "markdown",
   "metadata": {
    "heading_collapsed": true,
    "hidden": true
   },
   "source": [
    "## 矩阵基本"
   ]
  },
  {
   "cell_type": "markdown",
   "metadata": {
    "heading_collapsed": true,
    "hidden": true
   },
   "source": [
    "### `matlib.empty(shape, dtype, order)`\n",
    "shape: 定义新矩阵形状的整数或整数元组  \n",
    "dtype: 可选，数据类型  \n",
    "order: C（行序优先） 或者 F（列序优先）  "
   ]
  },
  {
   "cell_type": "markdown",
   "metadata": {
    "heading_collapsed": true,
    "hidden": true
   },
   "source": [
    "### `numpy.matlib.zeros()`\n",
    "numpy.matlib.zeros() 函数创建一个以 0 填充的矩阵。"
   ]
  },
  {
   "cell_type": "markdown",
   "metadata": {
    "heading_collapsed": true,
    "hidden": true
   },
   "source": [
    "### `numpy.matlib.ones()`\n",
    "numpy.matlib.ones()函数创建一个以 1 填充的矩阵。"
   ]
  },
  {
   "cell_type": "markdown",
   "metadata": {
    "heading_collapsed": true,
    "hidden": true
   },
   "source": [
    "### `numpy.matlib.eye(n, M,k, dtype)`\n",
    "I矩阵\n",
    "n: 返回矩阵的行数  \n",
    "M: 返回矩阵的列数，默认为 n  \n",
    "k: 对角线的索引  \n",
    "dtype: 数据类型  "
   ]
  },
  {
   "cell_type": "code",
   "execution_count": 83,
   "metadata": {
    "hidden": true
   },
   "outputs": [
    {
     "name": "stdout",
     "output_type": "stream",
     "text": [
      "[[1. 0. 0.]\n",
      " [0. 1. 0.]\n",
      " [0. 0. 1.]]\n",
      "-------------------------------------\n",
      "[[1. 0. 0. 0.]\n",
      " [0. 1. 0. 0.]\n",
      " [0. 0. 1. 0.]]\n"
     ]
    }
   ],
   "source": [
    "a = np.matlib.eye(3)\n",
    "print(a)\n",
    "printline()\n",
    "b = np.matlib.eye(n =  3, M =  4, k =  0, dtype =  float)\n",
    "print(b)"
   ]
  },
  {
   "cell_type": "markdown",
   "metadata": {
    "heading_collapsed": true,
    "hidden": true
   },
   "source": [
    "### `numpy.matlib.identity()`\n",
    "单位矩阵是个方阵，从左上角到右下角的对角线（称为主对角线）上的元素均为 1，除此以外全都为 0。"
   ]
  },
  {
   "cell_type": "code",
   "execution_count": 84,
   "metadata": {
    "hidden": true
   },
   "outputs": [
    {
     "name": "stdout",
     "output_type": "stream",
     "text": [
      "[[1. 0. 0. 0. 0.]\n",
      " [0. 1. 0. 0. 0.]\n",
      " [0. 0. 1. 0. 0.]\n",
      " [0. 0. 0. 1. 0.]\n",
      " [0. 0. 0. 0. 1.]]\n"
     ]
    }
   ],
   "source": [
    "print (np.matlib.identity(5, dtype =  float))"
   ]
  },
  {
   "cell_type": "markdown",
   "metadata": {
    "heading_collapsed": true,
    "hidden": true
   },
   "source": [
    "### `numpy.matlib.rand()`\n",
    "numpy.matlib.rand() 函数创建一个给定大小的矩阵，数据是随机填充的。"
   ]
  },
  {
   "cell_type": "code",
   "execution_count": 85,
   "metadata": {
    "hidden": true
   },
   "outputs": [
    {
     "name": "stdout",
     "output_type": "stream",
     "text": [
      "[[1.56689826e-01 3.78570957e-01 7.63799021e-01 6.91025628e-01]\n",
      " [8.78459254e-01 2.86183431e-02 8.14539697e-01 5.56169172e-01]\n",
      " [4.16498958e-04 9.95545368e-01 2.06165697e-01 3.42285901e-01]\n",
      " [2.99473692e-01 8.65857537e-02 8.04009096e-01 1.13013950e-01]]\n"
     ]
    }
   ],
   "source": [
    "print(np.matlib.rand(4,4))"
   ]
  },
  {
   "cell_type": "markdown",
   "metadata": {
    "heading_collapsed": true,
    "hidden": true
   },
   "source": [
    "### `numpy.matrix()`"
   ]
  },
  {
   "cell_type": "code",
   "execution_count": 86,
   "metadata": {
    "hidden": true
   },
   "outputs": [
    {
     "name": "stdout",
     "output_type": "stream",
     "text": [
      "[[1 2]\n",
      " [3 4]]\n",
      "<class 'numpy.matrix'>\n"
     ]
    }
   ],
   "source": [
    "i = np.matrix('1,2;3,4')  \n",
    "print (i)\n",
    "print(type(i))"
   ]
  },
  {
   "cell_type": "markdown",
   "metadata": {
    "heading_collapsed": true,
    "hidden": true
   },
   "source": [
    "### `numpy.asmatrix()`"
   ]
  },
  {
   "cell_type": "code",
   "execution_count": 87,
   "metadata": {
    "hidden": true
   },
   "outputs": [
    {
     "name": "stdout",
     "output_type": "stream",
     "text": [
      "[[1 2 3]\n",
      " [2 3 4]]\n",
      "<class 'numpy.matrix'>\n"
     ]
    }
   ],
   "source": [
    "a = [[1,2,3],[2,3,4]]\n",
    "b = np.asarray(a)\n",
    "c = np.asmatrix(b)  \n",
    "print (c)\n",
    "print(type(c))"
   ]
  },
  {
   "cell_type": "markdown",
   "metadata": {
    "heading_collapsed": true,
    "hidden": true
   },
   "source": [
    "### `numpy.dot(a, b, out=None) `\n",
    "dot\t两个数组的点积 二维数组相当于 矩阵乘积  \n",
    "a : ndarray 数组  \n",
    "b : ndarray 数组  \n",
    "out : ndarray, 可选，用来保存dot()的计算结果  "
   ]
  },
  {
   "cell_type": "code",
   "execution_count": 89,
   "metadata": {
    "hidden": true
   },
   "outputs": [
    {
     "name": "stdout",
     "output_type": "stream",
     "text": [
      "[[13 15]\n",
      " [18 20]]\n"
     ]
    }
   ],
   "source": [
    "a = np.array([[1,2],[1,3]])\n",
    "b = np.array([[3,5],[5,5]])\n",
    "print(np.dot(a,b))"
   ]
  },
  {
   "cell_type": "markdown",
   "metadata": {
    "heading_collapsed": true,
    "hidden": true
   },
   "source": [
    "### `numpy.vdot()`\n",
    "numpy.vdot() 函数是两个向量的点积(对应位置乘积全部相加)。 如果第一个参数是复数，那么它的共轭复数会用于计算。 如果参数是多维数组，它会被展开。"
   ]
  },
  {
   "cell_type": "code",
   "execution_count": 90,
   "metadata": {
    "hidden": true
   },
   "outputs": [
    {
     "name": "stdout",
     "output_type": "stream",
     "text": [
      "130\n"
     ]
    }
   ],
   "source": [
    "a = np.array([[1,2],[3,4]]) \n",
    "b = np.array([[11,12],[13,14]]) \n",
    " \n",
    "# vdot 将数组展开计算内积\n",
    "print (np.vdot(a,b))"
   ]
  },
  {
   "cell_type": "markdown",
   "metadata": {
    "hidden": true
   },
   "source": [
    "$1*11 + 2*12 + 3*13 + 4*14 = 130$"
   ]
  },
  {
   "cell_type": "markdown",
   "metadata": {
    "heading_collapsed": true,
    "hidden": true
   },
   "source": [
    "### `numpy.inner()`\n",
    "numpy.inner() 函数返回一维数组的向量内积。对于更高的维度，它返回最后一个轴上的和的乘积。"
   ]
  },
  {
   "cell_type": "code",
   "execution_count": 91,
   "metadata": {
    "hidden": true
   },
   "outputs": [
    {
     "name": "stdout",
     "output_type": "stream",
     "text": [
      "数组 a：\n",
      "[[1 2]\n",
      " [3 4]]\n",
      "数组 b：\n",
      "[[11 12]\n",
      " [13 14]]\n",
      "内积：\n",
      "[[35 41]\n",
      " [81 95]]\n"
     ]
    }
   ],
   "source": [
    "a = np.array([[1,2], [3,4]]) \n",
    " \n",
    "print ('数组 a：')\n",
    "print (a)\n",
    "b = np.array([[11, 12], [13, 14]]) \n",
    " \n",
    "print ('数组 b：')\n",
    "print (b)\n",
    " \n",
    "print ('内积：')\n",
    "print (np.inner(a,b))"
   ]
  },
  {
   "cell_type": "markdown",
   "metadata": {
    "hidden": true
   },
   "source": [
    "1*11+2*12, 1*13+2*14 \n",
    "3*11+4*12, 3*13+4*14"
   ]
  },
  {
   "cell_type": "markdown",
   "metadata": {
    "heading_collapsed": true,
    "hidden": true
   },
   "source": [
    "### `numpy.matmul`\n",
    "numpy.matmul 函数返回两个数组的矩阵乘积。 虽然它返回二维数组的正常乘积，但如果任一参数的维数大于2，则将其视为存在于最后两个索引的矩阵的栈，并进行相应广播。\n",
    "\n",
    "另一方面，如果任一参数是一维数组，则通过在其维度上附加 1 来将其提升为矩阵，并在乘法之后被去除。\n",
    "\n",
    "对于二维数组，它就是矩阵乘法："
   ]
  },
  {
   "cell_type": "code",
   "execution_count": 92,
   "metadata": {
    "hidden": true
   },
   "outputs": [
    {
     "name": "stdout",
     "output_type": "stream",
     "text": [
      "[[4 1]\n",
      " [2 2]]\n"
     ]
    }
   ],
   "source": [
    "a = [[1,0],[0,1]] \n",
    "b = [[4,1],[2,2]] \n",
    "print (np.matmul(a,b))"
   ]
  },
  {
   "cell_type": "code",
   "execution_count": 93,
   "metadata": {
    "hidden": true
   },
   "outputs": [
    {
     "name": "stdout",
     "output_type": "stream",
     "text": [
      "[1 2]\n",
      "[1 2]\n"
     ]
    }
   ],
   "source": [
    "a = [[1,0],[0,1]] \n",
    "b = [1,2] \n",
    "print (np.matmul(a,b))\n",
    "print (np.matmul(b,a))"
   ]
  },
  {
   "cell_type": "code",
   "execution_count": 94,
   "metadata": {
    "hidden": true,
    "scrolled": false
   },
   "outputs": [
    {
     "name": "stdout",
     "output_type": "stream",
     "text": [
      "[[[ 2  3]\n",
      "  [ 6 11]]\n",
      "\n",
      " [[10 19]\n",
      "  [14 27]]]\n"
     ]
    }
   ],
   "source": [
    "a = np.arange(8).reshape(2,2,2) \n",
    "b = np.arange(4).reshape(2,2) \n",
    "print (np.matmul(a,b))"
   ]
  },
  {
   "cell_type": "markdown",
   "metadata": {
    "heading_collapsed": true,
    "hidden": true
   },
   "source": [
    "### `@`点积"
   ]
  },
  {
   "cell_type": "code",
   "execution_count": 3,
   "metadata": {
    "hidden": true
   },
   "outputs": [
    {
     "name": "stdout",
     "output_type": "stream",
     "text": [
      "[[10 13]\n",
      " [16 21]]\n",
      "[[10 13]\n",
      " [16 21]]\n",
      "[[10 13]\n",
      " [16 21]]\n"
     ]
    }
   ],
   "source": [
    "a = np.array([[1,2],[2,3]])\n",
    "b = np.array([[2,3],[4,5]])\n",
    "print(a@b)\n",
    "print(a.dot(b))\n",
    "print(np.matmul(a,b))"
   ]
  },
  {
   "cell_type": "markdown",
   "metadata": {
    "heading_collapsed": true,
    "hidden": true
   },
   "source": [
    "### `np.transpose()` and `a.T`"
   ]
  },
  {
   "cell_type": "code",
   "execution_count": 22,
   "metadata": {
    "hidden": true
   },
   "outputs": [
    {
     "name": "stdout",
     "output_type": "stream",
     "text": [
      "[[ 0  1  2  3]\n",
      " [ 4  5  6  7]\n",
      " [ 8  9 10 11]]\n",
      "[[ 0  4  8]\n",
      " [ 1  5  9]\n",
      " [ 2  6 10]\n",
      " [ 3  7 11]]\n",
      "[[ 0  4  8]\n",
      " [ 1  5  9]\n",
      " [ 2  6 10]\n",
      " [ 3  7 11]]\n"
     ]
    }
   ],
   "source": [
    "a = np.arange(12).reshape((3,4))\n",
    "print(a)\n",
    "print(a.T)\n",
    "print(np.transpose(a))"
   ]
  },
  {
   "cell_type": "markdown",
   "metadata": {
    "heading_collapsed": true,
    "hidden": true
   },
   "source": [
    "### `np.clip(ary,v1,v2)`"
   ]
  },
  {
   "cell_type": "code",
   "execution_count": 24,
   "metadata": {
    "hidden": true
   },
   "outputs": [
    {
     "name": "stdout",
     "output_type": "stream",
     "text": [
      "[[ 0  1  2  3]\n",
      " [ 4  5  6  7]\n",
      " [ 8  9 10 11]]\n",
      "[[3 3 3 3]\n",
      " [4 5 6 6]\n",
      " [6 6 6 6]]\n"
     ]
    }
   ],
   "source": [
    "a = np.arange(12).reshape((3,4))\n",
    "print(a)\n",
    "b = np.clip(a,3,6)\n",
    "print(b)"
   ]
  },
  {
   "cell_type": "markdown",
   "metadata": {
    "heading_collapsed": true,
    "hidden": true
   },
   "source": [
    "## 函数库 linalg  \n",
    "determinant\t数组的行列式  \n",
    "solve\t求解线性矩阵方程  \n",
    "inv\t计算矩阵的乘法逆矩阵  "
   ]
  },
  {
   "cell_type": "markdown",
   "metadata": {
    "hidden": true
   },
   "source": [
    "### `numpy.linalg.det()`\n",
    "numpy.linalg.det() 函数计算输入矩阵的行列式。"
   ]
  },
  {
   "cell_type": "code",
   "execution_count": 96,
   "metadata": {
    "hidden": true
   },
   "outputs": [
    {
     "name": "stdout",
     "output_type": "stream",
     "text": [
      "-2.0000000000000004\n"
     ]
    }
   ],
   "source": [
    "a = np.array([[1,2], [3,4]]) \n",
    "print (np.linalg.det(a))"
   ]
  },
  {
   "cell_type": "code",
   "execution_count": 97,
   "metadata": {
    "hidden": true
   },
   "outputs": [
    {
     "name": "stdout",
     "output_type": "stream",
     "text": [
      "[[ 6  1  1]\n",
      " [ 4 -2  5]\n",
      " [ 2  8  7]]\n",
      "-306.0\n",
      "-306\n"
     ]
    }
   ],
   "source": [
    "b = np.array([[6,1,1], [4, -2, 5], [2,8,7]]) \n",
    "print (b)\n",
    "print (np.linalg.det(b))\n",
    "print (6*(-2*7 - 5*8) - 1*(4*7 - 5*2) + 1*(4*8 - -2*2))"
   ]
  },
  {
   "cell_type": "markdown",
   "metadata": {
    "hidden": true
   },
   "source": [
    "### `numpy.linalg.solve()`\n",
    "numpy.linalg.solve() 函数给出了矩阵形式的线性方程的解。"
   ]
  },
  {
   "cell_type": "code",
   "execution_count": 98,
   "metadata": {
    "hidden": true
   },
   "outputs": [
    {
     "name": "stdout",
     "output_type": "stream",
     "text": [
      "[[ 5.]\n",
      " [ 3.]\n",
      " [-2.]]\n"
     ]
    }
   ],
   "source": [
    "a = np.array([[1,1,1],[0,2,5],[2,5,-1]])\n",
    "b = np.array([[6],[-4],[27]]) \n",
    "c = np.linalg.solve(a,b)\n",
    "print(c)"
   ]
  },
  {
   "cell_type": "markdown",
   "metadata": {
    "hidden": true
   },
   "source": [
    "### `numpy.linalg.inv()`\n",
    "numpy.linalg.inv() 函数计算矩阵的乘法逆矩阵。\n",
    "\n",
    "逆矩阵（inverse matrix）：设A是数域上的一个n阶矩阵，若在相同数域上存在另一个n阶矩阵B，使得： AB=BA=E ，则我们称B是A的逆矩阵，而A则被称为可逆矩阵。注：E为单位矩阵。"
   ]
  },
  {
   "cell_type": "code",
   "execution_count": 95,
   "metadata": {
    "hidden": true
   },
   "outputs": [
    {
     "name": "stdout",
     "output_type": "stream",
     "text": [
      "[[1 2]\n",
      " [3 4]]\n",
      "[[-2.   1. ]\n",
      " [ 1.5 -0.5]]\n",
      "[[1.0000000e+00 0.0000000e+00]\n",
      " [8.8817842e-16 1.0000000e+00]]\n"
     ]
    }
   ],
   "source": [
    "x = np.array([[1,2],[3,4]]) \n",
    "y = np.linalg.inv(x) \n",
    "print (x)\n",
    "print (y)\n",
    "print (np.dot(x,y))"
   ]
  },
  {
   "cell_type": "markdown",
   "metadata": {
    "heading_collapsed": true
   },
   "source": [
    "# 13.提速\n",
    "不管是1D/2D/3D 的 Array, 从根本上, 它都是一个 1D array!"
   ]
  },
  {
   "cell_type": "code",
   "execution_count": 9,
   "metadata": {
    "hidden": true
   },
   "outputs": [],
   "source": [
    "col_major = np.zeros((10,10), order='C')    # C-type\n",
    "row_major = np.zeros((10,10), order='F')    # Fortran"
   ]
  },
  {
   "cell_type": "code",
   "execution_count": 10,
   "metadata": {
    "hidden": true
   },
   "outputs": [
    {
     "name": "stdout",
     "output_type": "stream",
     "text": [
      "2.6845064076414965e-05\n",
      "4.1490364627893455e-05\n"
     ]
    }
   ],
   "source": [
    "import time\n",
    "a = np.zeros((200, 200), order='C')\n",
    "b = np.zeros((200, 200), order='F')\n",
    "N = 9999\n",
    "\n",
    "def f1(a):\n",
    "    for _ in range(N):\n",
    "        np.concatenate((a, a), axis=0)\n",
    "\n",
    "def f2(b):\n",
    "    for _ in range(N):\n",
    "        np.concatenate((b, b), axis=0)\n",
    "\n",
    "t0 = time.time()\n",
    "f1(a)\n",
    "t1 = time.time()\n",
    "f2(b)\n",
    "t2 = time.time()\n",
    "\n",
    "print((t1-t0)/N)     # 0.000040\n",
    "print((t2-t1)/N)     # 0.000070"
   ]
  },
  {
   "cell_type": "markdown",
   "metadata": {
    "hidden": true
   },
   "source": [
    "copy慢 view快"
   ]
  },
  {
   "cell_type": "code",
   "execution_count": 11,
   "metadata": {
    "hidden": true
   },
   "outputs": [],
   "source": [
    "a_view1 = a[1:2, 3:6]    # 切片 slice\n",
    "a_view2 = a[:100]        # 同上\n",
    "a_view3 = a[::2]         # 跳步\n",
    "a_view4 = a.ravel()      # "
   ]
  },
  {
   "cell_type": "code",
   "execution_count": 12,
   "metadata": {
    "hidden": true
   },
   "outputs": [
    {
     "ename": "IndexError",
     "evalue": "boolean index did not match indexed array along dimension 0; dimension is 200 but corresponding boolean dimension is 2",
     "output_type": "error",
     "traceback": [
      "\u001b[0;31m---------------------------------------------------------------------------\u001b[0m",
      "\u001b[0;31mIndexError\u001b[0m                                Traceback (most recent call last)",
      "\u001b[0;32m<ipython-input-12-dd4d350ada10>\u001b[0m in \u001b[0;36m<module>\u001b[0;34m\u001b[0m\n\u001b[1;32m      1\u001b[0m \u001b[0ma_copy1\u001b[0m \u001b[0;34m=\u001b[0m \u001b[0ma\u001b[0m\u001b[0;34m[\u001b[0m\u001b[0;34m[\u001b[0m\u001b[0;36m1\u001b[0m\u001b[0;34m,\u001b[0m\u001b[0;36m4\u001b[0m\u001b[0;34m,\u001b[0m\u001b[0;36m6\u001b[0m\u001b[0;34m]\u001b[0m\u001b[0;34m,\u001b[0m \u001b[0;34m[\u001b[0m\u001b[0;36m2\u001b[0m\u001b[0;34m,\u001b[0m\u001b[0;36m4\u001b[0m\u001b[0;34m,\u001b[0m\u001b[0;36m6\u001b[0m\u001b[0;34m]\u001b[0m\u001b[0;34m]\u001b[0m   \u001b[0;31m# 用 index 选\u001b[0m\u001b[0;34m\u001b[0m\u001b[0;34m\u001b[0m\u001b[0m\n\u001b[0;32m----> 2\u001b[0;31m \u001b[0ma_copy2\u001b[0m \u001b[0;34m=\u001b[0m \u001b[0ma\u001b[0m\u001b[0;34m[\u001b[0m\u001b[0;34m[\u001b[0m\u001b[0;32mTrue\u001b[0m\u001b[0;34m,\u001b[0m \u001b[0;32mTrue\u001b[0m\u001b[0;34m]\u001b[0m\u001b[0;34m,\u001b[0m \u001b[0;34m[\u001b[0m\u001b[0;32mFalse\u001b[0m\u001b[0;34m,\u001b[0m \u001b[0;32mTrue\u001b[0m\u001b[0;34m]\u001b[0m\u001b[0;34m]\u001b[0m  \u001b[0;31m# 用 mask\u001b[0m\u001b[0;34m\u001b[0m\u001b[0;34m\u001b[0m\u001b[0m\n\u001b[0m\u001b[1;32m      3\u001b[0m \u001b[0ma_copy3\u001b[0m \u001b[0;34m=\u001b[0m \u001b[0ma\u001b[0m\u001b[0;34m[\u001b[0m\u001b[0;34m[\u001b[0m\u001b[0;36m1\u001b[0m\u001b[0;34m,\u001b[0m\u001b[0;36m2\u001b[0m\u001b[0;34m]\u001b[0m\u001b[0;34m,\u001b[0m \u001b[0;34m:\u001b[0m\u001b[0;34m]\u001b[0m        \u001b[0;31m# 虽然 1,2 的确连在一起了, 但是他们确实是 copy\u001b[0m\u001b[0;34m\u001b[0m\u001b[0;34m\u001b[0m\u001b[0m\n\u001b[1;32m      4\u001b[0m \u001b[0ma_copy4\u001b[0m \u001b[0;34m=\u001b[0m \u001b[0ma\u001b[0m\u001b[0;34m[\u001b[0m\u001b[0ma\u001b[0m\u001b[0;34m[\u001b[0m\u001b[0;36m1\u001b[0m\u001b[0;34m,\u001b[0m\u001b[0;34m:\u001b[0m\u001b[0;34m]\u001b[0m \u001b[0;34m!=\u001b[0m \u001b[0;36m0\u001b[0m\u001b[0;34m,\u001b[0m \u001b[0;34m:\u001b[0m\u001b[0;34m]\u001b[0m  \u001b[0;31m# fancy indexing\u001b[0m\u001b[0;34m\u001b[0m\u001b[0;34m\u001b[0m\u001b[0m\n\u001b[1;32m      5\u001b[0m \u001b[0ma_copy5\u001b[0m \u001b[0;34m=\u001b[0m \u001b[0ma\u001b[0m\u001b[0;34m[\u001b[0m\u001b[0mnp\u001b[0m\u001b[0;34m.\u001b[0m\u001b[0misnan\u001b[0m\u001b[0;34m(\u001b[0m\u001b[0ma\u001b[0m\u001b[0;34m)\u001b[0m\u001b[0;34m,\u001b[0m \u001b[0;34m:\u001b[0m\u001b[0;34m]\u001b[0m  \u001b[0;31m# fancy indexing\u001b[0m\u001b[0;34m\u001b[0m\u001b[0;34m\u001b[0m\u001b[0m\n",
      "\u001b[0;31mIndexError\u001b[0m: boolean index did not match indexed array along dimension 0; dimension is 200 but corresponding boolean dimension is 2"
     ]
    }
   ],
   "source": [
    "a_copy1 = a[[1,4,6], [2,4,6]]   # 用 index 选\n",
    "a_copy2 = a[[True, True], [False, True]]  # 用 mask\n",
    "a_copy3 = a[[1,2], :]        # 虽然 1,2 的确连在一起了, 但是他们确实是 copy\n",
    "a_copy4 = a[a[1,:] != 0, :]  # fancy indexing\n",
    "a_copy5 = a[np.isnan(a), :]  # fancy indexing"
   ]
  },
  {
   "cell_type": "markdown",
   "metadata": {
    "hidden": true
   },
   "source": [
    "1.使用 np.take(), 替代用 index 选数据的方法.\n",
    "\n",
    "上面提到了如果用index 来选数据, 像 a_copy1 = a[[1,4,6], [2,4,6]], 用 take 在大部分情况中会比这样的 a_copy1 要快."
   ]
  },
  {
   "cell_type": "code",
   "execution_count": 13,
   "metadata": {
    "hidden": true
   },
   "outputs": [
    {
     "name": "stdout",
     "output_type": "stream",
     "text": [
      "0.002711\n",
      "0.004191\n"
     ]
    }
   ],
   "source": [
    "a = np.random.rand(1000000, 10)\n",
    "N = 99\n",
    "indices = np.random.randint(0, 1000000, size=10000)\n",
    "\n",
    "def f1(a):\n",
    "    for _ in range(N):\n",
    "        _ = np.take(a, indices, axis=0)\n",
    "\n",
    "def f2(b):\n",
    "    for _ in range(N):\n",
    "        _ = b[indices]\n",
    "\n",
    "print('%f' % ((t1-t0)/N))    # 0.000393\n",
    "print('%f' % ((t2-t1)/N))    # 0.000569"
   ]
  },
  {
   "cell_type": "markdown",
   "metadata": {
    "hidden": true
   },
   "source": [
    "2.使用 np.compress(), 替代用 mask 选数据的方法.\n",
    "\n",
    "上面的 a_copy2 = a[[True, True], [False, True]] 这种就是用 TRUE, FALSE 来选择数据的. 测试如下:"
   ]
  },
  {
   "cell_type": "code",
   "execution_count": 14,
   "metadata": {
    "hidden": true
   },
   "outputs": [
    {
     "name": "stdout",
     "output_type": "stream",
     "text": [
      "0.002711\n",
      "0.004191\n"
     ]
    }
   ],
   "source": [
    "mask = a[:, 0] < 0.5\n",
    "def f1(a):\n",
    "    for _ in range(N):\n",
    "        _ = np.compress(mask, a, axis=0)\n",
    "\n",
    "def f2(b):\n",
    "    for _ in range(N):\n",
    "        _ = b[mask]\n",
    "\n",
    "print('%f' % ((t1-t0)/N))    # 0.028109\n",
    "print('%f' % ((t2-t1)/N))    # 0.031013"
   ]
  },
  {
   "cell_type": "markdown",
   "metadata": {
    "hidden": true
   },
   "source": [
    "out 参数\n",
    "a=a+1 要先转换成 np.add() 这种形式再运算"
   ]
  },
  {
   "cell_type": "code",
   "execution_count": 15,
   "metadata": {
    "hidden": true
   },
   "outputs": [],
   "source": [
    "a = a + 1         # 0.035230\n",
    "a = np.add(a, 1)  # 0.032738"
   ]
  },
  {
   "cell_type": "markdown",
   "metadata": {
    "hidden": true
   },
   "source": [
    "但是在功能里面有一个 out 参数, 让我们不必要重新创建一个 a. 所以下面两个是一样的功能, 都不会创建另一个 copy. 不过可能是上面提到的那个原因, 这里的运算时间也有差."
   ]
  },
  {
   "cell_type": "code",
   "execution_count": 16,
   "metadata": {
    "hidden": true
   },
   "outputs": [
    {
     "data": {
      "text/plain": [
       "array([[4.10823238, 4.31999698, 4.30302507, ..., 4.68524769, 4.36370753,\n",
       "        4.18183048],\n",
       "       [4.19606708, 4.63684802, 4.2716437 , ..., 4.03748234, 4.80038643,\n",
       "        4.03686822],\n",
       "       [4.00376311, 4.02205258, 4.22616049, ..., 4.01416798, 4.335893  ,\n",
       "        4.6886139 ],\n",
       "       ...,\n",
       "       [4.83433011, 4.32098196, 4.11229323, ..., 4.44101614, 4.1270659 ,\n",
       "        4.0718922 ],\n",
       "       [4.21081382, 4.91660073, 4.65475811, ..., 4.66810681, 4.52927175,\n",
       "        4.55064592],\n",
       "       [4.17899507, 4.80235101, 4.11546945, ..., 4.7188631 , 4.4007728 ,\n",
       "        4.45255584]])"
      ]
     },
     "execution_count": 16,
     "metadata": {},
     "output_type": "execute_result"
    }
   ],
   "source": [
    "a += 1                 # 0.011219\n",
    "np.add(a, 1, out=a)    # 0.008843"
   ]
  },
  {
   "cell_type": "code",
   "execution_count": null,
   "metadata": {
    "hidden": true
   },
   "outputs": [],
   "source": []
  },
  {
   "cell_type": "code",
   "execution_count": null,
   "metadata": {
    "hidden": true
   },
   "outputs": [],
   "source": []
  }
 ],
 "metadata": {
  "kernelspec": {
   "display_name": "Python 3",
   "language": "python",
   "name": "python3"
  },
  "language_info": {
   "codemirror_mode": {
    "name": "ipython",
    "version": 3
   },
   "file_extension": ".py",
   "mimetype": "text/x-python",
   "name": "python",
   "nbconvert_exporter": "python",
   "pygments_lexer": "ipython3",
   "version": "3.7.4"
  }
 },
 "nbformat": 4,
 "nbformat_minor": 2
}
