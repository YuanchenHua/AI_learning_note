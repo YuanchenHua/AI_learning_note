{
 "cells": [
  {
   "cell_type": "code",
   "execution_count": 2,
   "metadata": {},
   "outputs": [],
   "source": [
    "import numpy as np\n",
    "def printl():\n",
    "    print(\"==========================\")"
   ]
  },
  {
   "cell_type": "code",
   "execution_count": 2,
   "metadata": {},
   "outputs": [],
   "source": [
    "array = np.array([[1,2,3],\n",
    "                  [3,4,5]])"
   ]
  },
  {
   "cell_type": "markdown",
   "metadata": {},
   "source": [
    "# array的基本属性"
   ]
  },
  {
   "cell_type": "code",
   "execution_count": 4,
   "metadata": {},
   "outputs": [
    {
     "name": "stdout",
     "output_type": "stream",
     "text": [
      "2\n",
      "(2, 3)\n",
      "6\n"
     ]
    }
   ],
   "source": [
    "print(array.ndim)\n",
    "print(array.shape)\n",
    "print(array.size)"
   ]
  },
  {
   "cell_type": "markdown",
   "metadata": {},
   "source": [
    "# dtype "
   ]
  },
  {
   "cell_type": "code",
   "execution_count": 15,
   "metadata": {},
   "outputs": [
    {
     "name": "stdout",
     "output_type": "stream",
     "text": [
      "int64\n",
      "[[1 2 3]\n",
      " [4 5 6]]\n",
      "float32\n",
      "[[1. 2. 3.]\n",
      " [4. 5. 6.]]\n"
     ]
    }
   ],
   "source": [
    "\n",
    "array_tpye = np.array([[1,2,3],[4,5,6]],dtype = np.int) # 这里要是 np的int\n",
    "print(array_tpye.dtype)\n",
    "print(array_tpye)\n",
    "array_tpye2 = np.array([[1,2,3],[4,5,6]],dtype = np.float32) # 这里要是 np的float 才可以跟位数\n",
    "print(array_tpye2.dtype)\n",
    "print(array_tpye2)"
   ]
  },
  {
   "cell_type": "markdown",
   "metadata": {},
   "source": [
    "# 创建矩阵"
   ]
  },
  {
   "cell_type": "code",
   "execution_count": 55,
   "metadata": {},
   "outputs": [
    {
     "name": "stdout",
     "output_type": "stream",
     "text": [
      "[[0. 0. 0.]\n",
      " [0. 0. 0.]]\n",
      "[[1. 1. 1.]\n",
      " [1. 1. 1.]]\n",
      "[[1. 1. 1.]\n",
      " [1. 1. 1.]]\n",
      "[ 1.   2.8  4.6  6.4  8.2 10. ]\n",
      "[ 0  1  2  3  4  5  6  7  8  9 10 11]\n",
      "[[0.17120838 0.53396391 0.38762104 0.35533082]\n",
      " [0.94837849 0.08937309 0.94228578 0.64544695]\n",
      " [0.12983056 0.59738947 0.34189979 0.03719368]]\n"
     ]
    }
   ],
   "source": [
    "a = np.zeros((2,3))\n",
    "print(a)\n",
    "b = np.ones((2,3))\n",
    "print(b)\n",
    "c = np.empty((2,3))\n",
    "print(c)\n",
    "d = np.linspace(1,10,6)\n",
    "print(d)\n",
    "e = np.arange(12)\n",
    "print(e)\n",
    "f = np.random.random((3,4))\n",
    "print(f)"
   ]
  },
  {
   "cell_type": "markdown",
   "metadata": {},
   "source": [
    "# reshape\n",
    "reshapes是浅拷贝，内部数据会跟着原来的变化而变化，但两个array的内存地址是不一样的"
   ]
  },
  {
   "cell_type": "code",
   "execution_count": 30,
   "metadata": {},
   "outputs": [
    {
     "name": "stdout",
     "output_type": "stream",
     "text": [
      "[ 0  1  2  3  4  5  6  7  8  9 10 11]\n",
      "[100   1   2   3   4   5   6   7   8   9  10  11]\n",
      "[[100   1   2]\n",
      " [  3   4   5]\n",
      " [  6   7   8]\n",
      " [  9  10  11]]\n",
      "4645157264\n",
      "4645157904\n"
     ]
    }
   ],
   "source": [
    "a = np.arange(12)\n",
    "print(a)\n",
    "b = a.reshape((4,3))\n",
    "a[0]= 100\n",
    "print(a)\n",
    "print(b)\n",
    "print(id(a))\n",
    "print(id(b))"
   ]
  },
  {
   "cell_type": "markdown",
   "metadata": {},
   "source": [
    "# 运算"
   ]
  },
  {
   "cell_type": "code",
   "execution_count": 57,
   "metadata": {},
   "outputs": [
    {
     "name": "stdout",
     "output_type": "stream",
     "text": [
      "[[1 2 3]\n",
      " [2 3 4]] \n",
      " [0 1 2]\n",
      "[[ 0.84147098  0.90929743  0.14112001]\n",
      " [ 0.90929743  0.14112001 -0.7568025 ]]\n",
      "[[ 1  4  9]\n",
      " [ 4  9 16]]\n",
      "[[ 2.71828183  7.3890561  20.08553692]\n",
      " [ 7.3890561  20.08553692 54.59815003]]\n",
      "[[1 3 5]\n",
      " [2 4 6]]\n",
      "[[ True  True False]\n",
      " [ True False False]]\n"
     ]
    }
   ],
   "source": [
    "a = np.array([[1,2,3],[2,3,4]])\n",
    "b = np.arange(3)\n",
    "print(a,  \"\\n\" ,b)\n",
    "print(np.sin(a))\n",
    "print(a**2)\n",
    "print(np.exp(a))\n",
    "print(a+b)\n",
    "print(a<3)"
   ]
  },
  {
   "cell_type": "code",
   "execution_count": 58,
   "metadata": {},
   "outputs": [
    {
     "name": "stdout",
     "output_type": "stream",
     "text": [
      "[[0 2 6]\n",
      " [0 3 8]]\n",
      "[ 8 11]\n",
      "[ 8 11]\n",
      "[ 8 11]\n"
     ]
    }
   ],
   "source": [
    "print(a*b) # 逐个相乘\n",
    "print(np.dot(a,b)) # 矩阵点积\n",
    "print(a@b)\n",
    "print(a.dot(b))"
   ]
  },
  {
   "cell_type": "code",
   "execution_count": 64,
   "metadata": {},
   "outputs": [
    {
     "name": "stdout",
     "output_type": "stream",
     "text": [
      "[[1 2 3]\n",
      " [2 3 4]]\n",
      "4\n",
      "1\n",
      "15\n",
      "[3 4]\n",
      "[2 3 4]\n"
     ]
    }
   ],
   "source": [
    "a = np.array([[1,2,3],[2,3,4]])\n",
    "b = np.arange(3)\n",
    "print(a)\n",
    "print(np.max(a))\n",
    "print(np.min(a))\n",
    "print(np.sum(a))\n",
    "print(np.max(a,axis = 1)) # 1是行  0是列\n",
    "print(np.max(a,axis = 0))"
   ]
  },
  {
   "cell_type": "code",
   "execution_count": 76,
   "metadata": {},
   "outputs": [
    {
     "name": "stdout",
     "output_type": "stream",
     "text": [
      "[[ 2  3  4  5]\n",
      " [ 6  7  8  9]\n",
      " [10 11 12 13]]\n",
      "0\n",
      "[2 2 2 2]\n",
      "7.5\n",
      "[6. 7. 8. 9.]\n",
      "[6. 7. 8. 9.]\n",
      "[ 3.5  7.5 11.5]\n",
      "[ 2  5  9 14 20 27 35 44 54 65 77 90]\n",
      "[[1 1 1]\n",
      " [1 1 1]\n",
      " [1 1 1]]\n"
     ]
    }
   ],
   "source": [
    "a = np.arange(2,14).reshape((3,4))\n",
    "print(a)\n",
    "print(np.argmin(a))\n",
    "print(np.argmax(a,axis=0))\n",
    "print(a.mean())\n",
    "print(a.mean(axis = 0))\n",
    "print(np.mean(a,axis = 0))\n",
    "\n",
    "# 中位数\n",
    "print(np.median(a,axis = 1))\n",
    "print(np.cumsum(a))\n",
    "print(np.diff(a))"
   ]
  },
  {
   "cell_type": "code",
   "execution_count": 89,
   "metadata": {},
   "outputs": [
    {
     "name": "stdout",
     "output_type": "stream",
     "text": [
      "[[2 0 3]\n",
      " [1 0 0]]\n",
      "(array([0, 0, 1]), array([0, 2, 0]))\n",
      "[[0 2 3]\n",
      " [0 0 1]]\n",
      "[[2 1]\n",
      " [0 0]\n",
      " [3 0]]\n",
      "[[2 1]\n",
      " [0 0]\n",
      " [3 0]]\n",
      "[[2 1 2]\n",
      " [1 1 1]]\n"
     ]
    }
   ],
   "source": [
    "a = np.array([[2,0,3],[1,0,0]])\n",
    "print(a)\n",
    "print(np.nonzero(a))\n",
    "# 坐标00 01 02为非0\n",
    "print(np.sort(a)) # 只对一行进行排序\n",
    "print(np.transpose(a))\n",
    "print(a.T)\n",
    "print(np.clip(a,1,2)) # 设定最小最大，把超出范围的都拉到范围"
   ]
  },
  {
   "cell_type": "markdown",
   "metadata": {},
   "source": [
    "# 切片和索引\n"
   ]
  },
  {
   "cell_type": "code",
   "execution_count": 93,
   "metadata": {},
   "outputs": [
    {
     "name": "stdout",
     "output_type": "stream",
     "text": [
      "[[ 2  3  4]\n",
      " [11 45  9]\n",
      " [ 1  4  5]]\n",
      "9\n",
      "[11 45  9]\n"
     ]
    }
   ],
   "source": [
    "a = np.array([[2,3,4],[11,45,9],[1,4,5]])\n",
    "print(a)\n",
    "print(a[1][2])\n",
    "print(a[1][:])"
   ]
  },
  {
   "cell_type": "code",
   "execution_count": 133,
   "metadata": {},
   "outputs": [
    {
     "name": "stdout",
     "output_type": "stream",
     "text": [
      "1\n",
      "2\n",
      "3\n",
      "==========================\n",
      "1\n",
      "2\n",
      "3\n",
      "==========================\n",
      "[1 2 3]\n",
      "1\n",
      "2\n",
      "3\n",
      "==========================\n",
      "1\n",
      "2\n",
      "3\n"
     ]
    }
   ],
   "source": [
    "# for循环默认迭代行，如果想迭代列，T一下\n",
    "for row in a:\n",
    "    print(row)\n",
    "printl()\n",
    "for col in a.T:\n",
    "    print(col)\n",
    "printl()\n",
    "print(a.flatten())\n",
    "for item in a.flat:\n",
    "    print(item)\n",
    "printl()\n",
    "for item in a.flatten():\n",
    "    print(item)"
   ]
  },
  {
   "cell_type": "markdown",
   "metadata": {},
   "source": [
    "# 叠加 分割"
   ]
  },
  {
   "cell_type": "code",
   "execution_count": 132,
   "metadata": {},
   "outputs": [
    {
     "name": "stdout",
     "output_type": "stream",
     "text": [
      "[[1 2 3]\n",
      " [0 0 1]]\n",
      "[1 2 3 0 0 1]\n",
      "(3,)\n",
      "==========================\n",
      "[[1 2 3]]\n",
      "(1, 3)\n",
      "==========================\n",
      "[[1]\n",
      " [2]\n",
      " [3]]\n",
      "(3, 1)\n",
      "==========================\n",
      "[[1 2 3]]\n"
     ]
    }
   ],
   "source": [
    "a = np.array([1,2,3])\n",
    "b = np.array([0,0,1])\n",
    "print(np.vstack((a,b)))\n",
    "\n",
    "print(np.hstack((a,b)))\n",
    "print(a.shape)\n",
    "printl()\n",
    "print(a[np.newaxis,:])\n",
    "print(a[np.newaxis,:].shape)\n",
    "printl()\n",
    "print(a[:,np.newaxis])\n",
    "print(a[:,np.newaxis].shape)\n",
    "printl()\n",
    "print(a.reshape(1,3))"
   ]
  },
  {
   "cell_type": "code",
   "execution_count": 128,
   "metadata": {},
   "outputs": [
    {
     "name": "stdout",
     "output_type": "stream",
     "text": [
      "(3, 1)\n",
      "[[1]\n",
      " [2]\n",
      " [3]\n",
      " [0]\n",
      " [0]\n",
      " [1]\n",
      " [1]\n",
      " [2]\n",
      " [3]]\n",
      "[[1 0 1]\n",
      " [2 0 2]\n",
      " [3 1 3]]\n"
     ]
    }
   ],
   "source": [
    "a = np.array([1,2,3]).reshape(3,1)\n",
    "b = np.array([0,0,1]).reshape(3,1)\n",
    "print(a.shape)\n",
    "# axis 表示第几个纬度，就是shape中的第几个数，按照那个纬度叠加\n",
    "print(np.concatenate((a,b,a),axis = 0))\n",
    "print(np.concatenate((a,b,a),axis = 1))"
   ]
  },
  {
   "cell_type": "code",
   "execution_count": 136,
   "metadata": {},
   "outputs": [
    {
     "name": "stdout",
     "output_type": "stream",
     "text": [
      "[[ 0  1  2  3]\n",
      " [ 4  5  6  7]\n",
      " [ 8  9 10 11]]\n",
      "[array([[0, 1],\n",
      "       [4, 5],\n",
      "       [8, 9]]), array([[ 2,  3],\n",
      "       [ 6,  7],\n",
      "       [10, 11]])]\n",
      "==========================\n",
      "[array([[0, 1],\n",
      "       [4, 5],\n",
      "       [8, 9]]), array([[ 2],\n",
      "       [ 6],\n",
      "       [10]]), array([[ 3],\n",
      "       [ 7],\n",
      "       [11]])]\n"
     ]
    }
   ],
   "source": [
    "a = np.arange(12).reshape((3,4))\n",
    "print(a)\n",
    "print(np.split(a,2,axis = 1))\n",
    "printl()\n",
    "# 不对称也能分割\n",
    "print(np.array_split(a,3,axis = 1))"
   ]
  },
  {
   "cell_type": "markdown",
   "metadata": {},
   "source": [
    "# copy 问题\n",
    "copy是deepcopy"
   ]
  },
  {
   "cell_type": "code",
   "execution_count": 143,
   "metadata": {},
   "outputs": [
    {
     "name": "stdout",
     "output_type": "stream",
     "text": [
      "[[ 1 30  3]]\n",
      "[[1 2 3]]\n"
     ]
    }
   ],
   "source": [
    "a = np.array([[1,2,3]])\n",
    "b = a.copy() # deepcopy\n",
    "a[0][1] = 30\n",
    "print(a)\n",
    "print(b)"
   ]
  },
  {
   "cell_type": "markdown",
   "metadata": {},
   "source": [
    "切片是浅拷贝"
   ]
  },
  {
   "cell_type": "code",
   "execution_count": 144,
   "metadata": {},
   "outputs": [
    {
     "name": "stdout",
     "output_type": "stream",
     "text": [
      "[[ 1  2  3]\n",
      " [ 3  4 30]]\n",
      "[ 3  4 30]\n",
      "4645473216 4645325760\n"
     ]
    }
   ],
   "source": [
    "a = np.array([[1,2,3],[3,4,5]])\n",
    "b = a[1][:]\n",
    "a[1][2] = 30\n",
    "print(a)\n",
    "print(b)\n",
    "print(id(a),id(b))"
   ]
  },
  {
   "cell_type": "markdown",
   "metadata": {},
   "source": [
    "# 提速\n",
    "不管是1D/2D/3D 的 Array, 从根本上, 它都是一个 1D array!"
   ]
  },
  {
   "cell_type": "code",
   "execution_count": 3,
   "metadata": {},
   "outputs": [],
   "source": [
    "col_major = np.zeros((10,10), order='C')    # C-type\n",
    "row_major = np.zeros((10,10), order='F')    # Fortran"
   ]
  },
  {
   "cell_type": "code",
   "execution_count": 9,
   "metadata": {},
   "outputs": [
    {
     "name": "stdout",
     "output_type": "stream",
     "text": [
      "2.9450953632655747e-05\n",
      "3.0313757541525636e-05\n"
     ]
    }
   ],
   "source": [
    "import time\n",
    "a = np.zeros((200, 200), order='C')\n",
    "b = np.zeros((200, 200), order='F')\n",
    "N = 9999\n",
    "\n",
    "def f1(a):\n",
    "    for _ in range(N):\n",
    "        np.concatenate((a, a), axis=0)\n",
    "\n",
    "def f2(b):\n",
    "    for _ in range(N):\n",
    "        np.concatenate((b, b), axis=0)\n",
    "\n",
    "t0 = time.time()\n",
    "f1(a)\n",
    "t1 = time.time()\n",
    "f2(b)\n",
    "t2 = time.time()\n",
    "\n",
    "print((t1-t0)/N)     # 0.000040\n",
    "print((t2-t1)/N)     # 0.000070"
   ]
  },
  {
   "cell_type": "markdown",
   "metadata": {},
   "source": [
    "copy慢 view快"
   ]
  },
  {
   "cell_type": "code",
   "execution_count": 10,
   "metadata": {},
   "outputs": [],
   "source": [
    "a_view1 = a[1:2, 3:6]    # 切片 slice\n",
    "a_view2 = a[:100]        # 同上\n",
    "a_view3 = a[::2]         # 跳步\n",
    "a_view4 = a.ravel()      # \n"
   ]
  },
  {
   "cell_type": "code",
   "execution_count": null,
   "metadata": {},
   "outputs": [],
   "source": [
    "a_copy1 = a[[1,4,6], [2,4,6]]   # 用 index 选\n",
    "a_copy2 = a[[True, True], [False, True]]  # 用 mask\n",
    "a_copy3 = a[[1,2], :]        # 虽然 1,2 的确连在一起了, 但是他们确实是 copy\n",
    "a_copy4 = a[a[1,:] != 0, :]  # fancy indexing\n",
    "a_copy5 = a[np.isnan(a), :]  # fancy indexing"
   ]
  },
  {
   "cell_type": "markdown",
   "metadata": {},
   "source": [
    "1.使用 np.take(), 替代用 index 选数据的方法.\n",
    "\n",
    "上面提到了如果用index 来选数据, 像 a_copy1 = a[[1,4,6], [2,4,6]], 用 take 在大部分情况中会比这样的 a_copy1 要快."
   ]
  },
  {
   "cell_type": "code",
   "execution_count": 13,
   "metadata": {},
   "outputs": [
    {
     "name": "stdout",
     "output_type": "stream",
     "text": [
      "0.002975\n",
      "0.003062\n"
     ]
    }
   ],
   "source": [
    "a = np.random.rand(1000000, 10)\n",
    "N = 99\n",
    "indices = np.random.randint(0, 1000000, size=10000)\n",
    "\n",
    "def f1(a):\n",
    "    for _ in range(N):\n",
    "        _ = np.take(a, indices, axis=0)\n",
    "\n",
    "def f2(b):\n",
    "    for _ in range(N):\n",
    "        _ = b[indices]\n",
    "\n",
    "print('%f' % ((t1-t0)/N))    # 0.000393\n",
    "print('%f' % ((t2-t1)/N))    # 0.000569"
   ]
  },
  {
   "cell_type": "markdown",
   "metadata": {},
   "source": [
    "2.使用 np.compress(), 替代用 mask 选数据的方法.\n",
    "\n",
    "上面的 a_copy2 = a[[True, True], [False, True]] 这种就是用 TRUE, FALSE 来选择数据的. 测试如下:"
   ]
  },
  {
   "cell_type": "code",
   "execution_count": 14,
   "metadata": {},
   "outputs": [
    {
     "name": "stdout",
     "output_type": "stream",
     "text": [
      "0.002975\n",
      "0.003062\n"
     ]
    }
   ],
   "source": [
    "mask = a[:, 0] < 0.5\n",
    "def f1(a):\n",
    "    for _ in range(N):\n",
    "        _ = np.compress(mask, a, axis=0)\n",
    "\n",
    "def f2(b):\n",
    "    for _ in range(N):\n",
    "        _ = b[mask]\n",
    "\n",
    "print('%f' % ((t1-t0)/N))    # 0.028109\n",
    "print('%f' % ((t2-t1)/N))    # 0.031013"
   ]
  },
  {
   "cell_type": "markdown",
   "metadata": {},
   "source": [
    "out 参数\n",
    "a=a+1 要先转换成 np.add() 这种形式再运算"
   ]
  },
  {
   "cell_type": "code",
   "execution_count": 16,
   "metadata": {},
   "outputs": [],
   "source": [
    "a = a + 1         # 0.035230\n",
    "a = np.add(a, 1)  # 0.032738"
   ]
  },
  {
   "cell_type": "markdown",
   "metadata": {},
   "source": [
    "但是在功能里面有一个 out 参数, 让我们不必要重新创建一个 a. 所以下面两个是一样的功能, 都不会创建另一个 copy. 不过可能是上面提到的那个原因, 这里的运算时间也有差."
   ]
  },
  {
   "cell_type": "code",
   "execution_count": null,
   "metadata": {},
   "outputs": [],
   "source": [
    "a += 1                 # 0.011219\n",
    "np.add(a, 1, out=a)    # 0.008843"
   ]
  }
 ],
 "metadata": {
  "kernelspec": {
   "display_name": "Python 3",
   "language": "python",
   "name": "python3"
  },
  "language_info": {
   "codemirror_mode": {
    "name": "ipython",
    "version": 3
   },
   "file_extension": ".py",
   "mimetype": "text/x-python",
   "name": "python",
   "nbconvert_exporter": "python",
   "pygments_lexer": "ipython3",
   "version": "3.7.4"
  }
 },
 "nbformat": 4,
 "nbformat_minor": 2
}
