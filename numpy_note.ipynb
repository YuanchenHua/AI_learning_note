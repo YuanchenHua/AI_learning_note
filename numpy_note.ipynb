{
 "cells": [
  {
   "cell_type": "code",
   "execution_count": 131,
   "metadata": {},
   "outputs": [],
   "source": [
    "import numpy as np\n",
    "def printl():\n",
    "    print(\"==========================\")"
   ]
  },
  {
   "cell_type": "code",
   "execution_count": 2,
   "metadata": {},
   "outputs": [],
   "source": [
    "array = np.array([[1,2,3],\n",
    "                  [3,4,5]])"
   ]
  },
  {
   "cell_type": "markdown",
   "metadata": {},
   "source": [
    "# array的基本属性"
   ]
  },
  {
   "cell_type": "code",
   "execution_count": 4,
   "metadata": {},
   "outputs": [
    {
     "name": "stdout",
     "output_type": "stream",
     "text": [
      "2\n",
      "(2, 3)\n",
      "6\n"
     ]
    }
   ],
   "source": [
    "print(array.ndim)\n",
    "print(array.shape)\n",
    "print(array.size)"
   ]
  },
  {
   "cell_type": "markdown",
   "metadata": {},
   "source": [
    "# dtype "
   ]
  },
  {
   "cell_type": "code",
   "execution_count": 15,
   "metadata": {},
   "outputs": [
    {
     "name": "stdout",
     "output_type": "stream",
     "text": [
      "int64\n",
      "[[1 2 3]\n",
      " [4 5 6]]\n",
      "float32\n",
      "[[1. 2. 3.]\n",
      " [4. 5. 6.]]\n"
     ]
    }
   ],
   "source": [
    "\n",
    "array_tpye = np.array([[1,2,3],[4,5,6]],dtype = np.int) # 这里要是 np的int\n",
    "print(array_tpye.dtype)\n",
    "print(array_tpye)\n",
    "array_tpye2 = np.array([[1,2,3],[4,5,6]],dtype = np.float32) # 这里要是 np的float 才可以跟位数\n",
    "print(array_tpye2.dtype)\n",
    "print(array_tpye2)"
   ]
  },
  {
   "cell_type": "markdown",
   "metadata": {},
   "source": [
    "# 创建矩阵"
   ]
  },
  {
   "cell_type": "code",
   "execution_count": 55,
   "metadata": {},
   "outputs": [
    {
     "name": "stdout",
     "output_type": "stream",
     "text": [
      "[[0. 0. 0.]\n",
      " [0. 0. 0.]]\n",
      "[[1. 1. 1.]\n",
      " [1. 1. 1.]]\n",
      "[[1. 1. 1.]\n",
      " [1. 1. 1.]]\n",
      "[ 1.   2.8  4.6  6.4  8.2 10. ]\n",
      "[ 0  1  2  3  4  5  6  7  8  9 10 11]\n",
      "[[0.17120838 0.53396391 0.38762104 0.35533082]\n",
      " [0.94837849 0.08937309 0.94228578 0.64544695]\n",
      " [0.12983056 0.59738947 0.34189979 0.03719368]]\n"
     ]
    }
   ],
   "source": [
    "a = np.zeros((2,3))\n",
    "print(a)\n",
    "b = np.ones((2,3))\n",
    "print(b)\n",
    "c = np.empty((2,3))\n",
    "print(c)\n",
    "d = np.linspace(1,10,6)\n",
    "print(d)\n",
    "e = np.arange(12)\n",
    "print(e)\n",
    "f = np.random.random((3,4))\n",
    "print(f)"
   ]
  },
  {
   "cell_type": "markdown",
   "metadata": {},
   "source": [
    "# reshape\n",
    "reshapes是浅拷贝，内部数据会跟着原来的变化而变化，但两个array的内存地址是不一样的"
   ]
  },
  {
   "cell_type": "code",
   "execution_count": 30,
   "metadata": {},
   "outputs": [
    {
     "name": "stdout",
     "output_type": "stream",
     "text": [
      "[ 0  1  2  3  4  5  6  7  8  9 10 11]\n",
      "[100   1   2   3   4   5   6   7   8   9  10  11]\n",
      "[[100   1   2]\n",
      " [  3   4   5]\n",
      " [  6   7   8]\n",
      " [  9  10  11]]\n",
      "4645157264\n",
      "4645157904\n"
     ]
    }
   ],
   "source": [
    "a = np.arange(12)\n",
    "print(a)\n",
    "b = a.reshape((4,3))\n",
    "a[0]= 100\n",
    "print(a)\n",
    "print(b)\n",
    "print(id(a))\n",
    "print(id(b))"
   ]
  },
  {
   "cell_type": "markdown",
   "metadata": {},
   "source": [
    "# 运算"
   ]
  },
  {
   "cell_type": "code",
   "execution_count": 57,
   "metadata": {},
   "outputs": [
    {
     "name": "stdout",
     "output_type": "stream",
     "text": [
      "[[1 2 3]\n",
      " [2 3 4]] \n",
      " [0 1 2]\n",
      "[[ 0.84147098  0.90929743  0.14112001]\n",
      " [ 0.90929743  0.14112001 -0.7568025 ]]\n",
      "[[ 1  4  9]\n",
      " [ 4  9 16]]\n",
      "[[ 2.71828183  7.3890561  20.08553692]\n",
      " [ 7.3890561  20.08553692 54.59815003]]\n",
      "[[1 3 5]\n",
      " [2 4 6]]\n",
      "[[ True  True False]\n",
      " [ True False False]]\n"
     ]
    }
   ],
   "source": [
    "a = np.array([[1,2,3],[2,3,4]])\n",
    "b = np.arange(3)\n",
    "print(a,  \"\\n\" ,b)\n",
    "print(np.sin(a))\n",
    "print(a**2)\n",
    "print(np.exp(a))\n",
    "print(a+b)\n",
    "print(a<3)"
   ]
  },
  {
   "cell_type": "code",
   "execution_count": 58,
   "metadata": {},
   "outputs": [
    {
     "name": "stdout",
     "output_type": "stream",
     "text": [
      "[[0 2 6]\n",
      " [0 3 8]]\n",
      "[ 8 11]\n",
      "[ 8 11]\n",
      "[ 8 11]\n"
     ]
    }
   ],
   "source": [
    "print(a*b) # 逐个相乘\n",
    "print(np.dot(a,b)) # 矩阵点积\n",
    "print(a@b)\n",
    "print(a.dot(b))"
   ]
  },
  {
   "cell_type": "code",
   "execution_count": 64,
   "metadata": {},
   "outputs": [
    {
     "name": "stdout",
     "output_type": "stream",
     "text": [
      "[[1 2 3]\n",
      " [2 3 4]]\n",
      "4\n",
      "1\n",
      "15\n",
      "[3 4]\n",
      "[2 3 4]\n"
     ]
    }
   ],
   "source": [
    "a = np.array([[1,2,3],[2,3,4]])\n",
    "b = np.arange(3)\n",
    "print(a)\n",
    "print(np.max(a))\n",
    "print(np.min(a))\n",
    "print(np.sum(a))\n",
    "print(np.max(a,axis = 1)) # 1是行  0是列\n",
    "print(np.max(a,axis = 0))"
   ]
  },
  {
   "cell_type": "code",
   "execution_count": 76,
   "metadata": {},
   "outputs": [
    {
     "name": "stdout",
     "output_type": "stream",
     "text": [
      "[[ 2  3  4  5]\n",
      " [ 6  7  8  9]\n",
      " [10 11 12 13]]\n",
      "0\n",
      "[2 2 2 2]\n",
      "7.5\n",
      "[6. 7. 8. 9.]\n",
      "[6. 7. 8. 9.]\n",
      "[ 3.5  7.5 11.5]\n",
      "[ 2  5  9 14 20 27 35 44 54 65 77 90]\n",
      "[[1 1 1]\n",
      " [1 1 1]\n",
      " [1 1 1]]\n"
     ]
    }
   ],
   "source": [
    "a = np.arange(2,14).reshape((3,4))\n",
    "print(a)\n",
    "print(np.argmin(a))\n",
    "print(np.argmax(a,axis=0))\n",
    "print(a.mean())\n",
    "print(a.mean(axis = 0))\n",
    "print(np.mean(a,axis = 0))\n",
    "\n",
    "# 中位数\n",
    "print(np.median(a,axis = 1))\n",
    "print(np.cumsum(a))\n",
    "print(np.diff(a))"
   ]
  },
  {
   "cell_type": "code",
   "execution_count": 89,
   "metadata": {},
   "outputs": [
    {
     "name": "stdout",
     "output_type": "stream",
     "text": [
      "[[2 0 3]\n",
      " [1 0 0]]\n",
      "(array([0, 0, 1]), array([0, 2, 0]))\n",
      "[[0 2 3]\n",
      " [0 0 1]]\n",
      "[[2 1]\n",
      " [0 0]\n",
      " [3 0]]\n",
      "[[2 1]\n",
      " [0 0]\n",
      " [3 0]]\n",
      "[[2 1 2]\n",
      " [1 1 1]]\n"
     ]
    }
   ],
   "source": [
    "a = np.array([[2,0,3],[1,0,0]])\n",
    "print(a)\n",
    "print(np.nonzero(a))\n",
    "# 坐标00 01 02为非0\n",
    "print(np.sort(a)) # 只对一行进行排序\n",
    "print(np.transpose(a))\n",
    "print(a.T)\n",
    "print(np.clip(a,1,2)) # 设定最小最大，把超出范围的都拉到范围"
   ]
  },
  {
   "cell_type": "markdown",
   "metadata": {},
   "source": [
    "# 切片和索引\n"
   ]
  },
  {
   "cell_type": "code",
   "execution_count": 93,
   "metadata": {},
   "outputs": [
    {
     "name": "stdout",
     "output_type": "stream",
     "text": [
      "[[ 2  3  4]\n",
      " [11 45  9]\n",
      " [ 1  4  5]]\n",
      "9\n",
      "[11 45  9]\n"
     ]
    }
   ],
   "source": [
    "a = np.array([[2,3,4],[11,45,9],[1,4,5]])\n",
    "print(a)\n",
    "print(a[1][2])\n",
    "print(a[1][:])"
   ]
  },
  {
   "cell_type": "code",
   "execution_count": 133,
   "metadata": {},
   "outputs": [
    {
     "name": "stdout",
     "output_type": "stream",
     "text": [
      "1\n",
      "2\n",
      "3\n",
      "==========================\n",
      "1\n",
      "2\n",
      "3\n",
      "==========================\n",
      "[1 2 3]\n",
      "1\n",
      "2\n",
      "3\n",
      "==========================\n",
      "1\n",
      "2\n",
      "3\n"
     ]
    }
   ],
   "source": [
    "# for循环默认迭代行，如果想迭代列，T一下\n",
    "for row in a:\n",
    "    print(row)\n",
    "printl()\n",
    "for col in a.T:\n",
    "    print(col)\n",
    "printl()\n",
    "print(a.flatten())\n",
    "for item in a.flat:\n",
    "    print(item)\n",
    "printl()\n",
    "for item in a.flatten():\n",
    "    print(item)"
   ]
  },
  {
   "cell_type": "markdown",
   "metadata": {},
   "source": [
    "# 叠加 分割"
   ]
  },
  {
   "cell_type": "code",
   "execution_count": 132,
   "metadata": {},
   "outputs": [
    {
     "name": "stdout",
     "output_type": "stream",
     "text": [
      "[[1 2 3]\n",
      " [0 0 1]]\n",
      "[1 2 3 0 0 1]\n",
      "(3,)\n",
      "==========================\n",
      "[[1 2 3]]\n",
      "(1, 3)\n",
      "==========================\n",
      "[[1]\n",
      " [2]\n",
      " [3]]\n",
      "(3, 1)\n",
      "==========================\n",
      "[[1 2 3]]\n"
     ]
    }
   ],
   "source": [
    "a = np.array([1,2,3])\n",
    "b = np.array([0,0,1])\n",
    "print(np.vstack((a,b)))\n",
    "\n",
    "print(np.hstack((a,b)))\n",
    "print(a.shape)\n",
    "printl()\n",
    "print(a[np.newaxis,:])\n",
    "print(a[np.newaxis,:].shape)\n",
    "printl()\n",
    "print(a[:,np.newaxis])\n",
    "print(a[:,np.newaxis].shape)\n",
    "printl()\n",
    "print(a.reshape(1,3))"
   ]
  },
  {
   "cell_type": "code",
   "execution_count": 128,
   "metadata": {},
   "outputs": [
    {
     "name": "stdout",
     "output_type": "stream",
     "text": [
      "(3, 1)\n",
      "[[1]\n",
      " [2]\n",
      " [3]\n",
      " [0]\n",
      " [0]\n",
      " [1]\n",
      " [1]\n",
      " [2]\n",
      " [3]]\n",
      "[[1 0 1]\n",
      " [2 0 2]\n",
      " [3 1 3]]\n"
     ]
    }
   ],
   "source": [
    "a = np.array([1,2,3]).reshape(3,1)\n",
    "b = np.array([0,0,1]).reshape(3,1)\n",
    "print(a.shape)\n",
    "# axis 表示第几个纬度，就是shape中的第几个数，按照那个纬度叠加\n",
    "print(np.concatenate((a,b,a),axis = 0))\n",
    "print(np.concatenate((a,b,a),axis = 1))"
   ]
  },
  {
   "cell_type": "code",
   "execution_count": 136,
   "metadata": {},
   "outputs": [
    {
     "name": "stdout",
     "output_type": "stream",
     "text": [
      "[[ 0  1  2  3]\n",
      " [ 4  5  6  7]\n",
      " [ 8  9 10 11]]\n",
      "[array([[0, 1],\n",
      "       [4, 5],\n",
      "       [8, 9]]), array([[ 2,  3],\n",
      "       [ 6,  7],\n",
      "       [10, 11]])]\n",
      "==========================\n",
      "[array([[0, 1],\n",
      "       [4, 5],\n",
      "       [8, 9]]), array([[ 2],\n",
      "       [ 6],\n",
      "       [10]]), array([[ 3],\n",
      "       [ 7],\n",
      "       [11]])]\n"
     ]
    }
   ],
   "source": [
    "a = np.arange(12).reshape((3,4))\n",
    "print(a)\n",
    "print(np.split(a,2,axis = 1))\n",
    "printl()\n",
    "# 不对称也能分割\n",
    "print(np.array_split(a,3,axis = 1))"
   ]
  },
  {
   "cell_type": "markdown",
   "metadata": {},
   "source": [
    "# copy 问题\n",
    "copy是deepcopy"
   ]
  },
  {
   "cell_type": "code",
   "execution_count": 143,
   "metadata": {},
   "outputs": [
    {
     "name": "stdout",
     "output_type": "stream",
     "text": [
      "[[ 1 30  3]]\n",
      "[[1 2 3]]\n"
     ]
    }
   ],
   "source": [
    "a = np.array([[1,2,3]])\n",
    "b = a.copy() # deepcopy\n",
    "a[0][1] = 30\n",
    "print(a)\n",
    "print(b)"
   ]
  },
  {
   "cell_type": "markdown",
   "metadata": {},
   "source": [
    "切片是浅拷贝"
   ]
  },
  {
   "cell_type": "code",
   "execution_count": 144,
   "metadata": {},
   "outputs": [
    {
     "name": "stdout",
     "output_type": "stream",
     "text": [
      "[[ 1  2  3]\n",
      " [ 3  4 30]]\n",
      "[ 3  4 30]\n",
      "4645473216 4645325760\n"
     ]
    }
   ],
   "source": [
    "a = np.array([[1,2,3],[3,4,5]])\n",
    "b = a[1][:]\n",
    "a[1][2] = 30\n",
    "print(a)\n",
    "print(b)\n",
    "print(id(a),id(b))"
   ]
  },
  {
   "cell_type": "code",
   "execution_count": null,
   "metadata": {},
   "outputs": [],
   "source": []
  }
 ],
 "metadata": {
  "kernelspec": {
   "display_name": "Python 3",
   "language": "python",
   "name": "python3"
  },
  "language_info": {
   "codemirror_mode": {
    "name": "ipython",
    "version": 3
   },
   "file_extension": ".py",
   "mimetype": "text/x-python",
   "name": "python",
   "nbconvert_exporter": "python",
   "pygments_lexer": "ipython3",
   "version": "3.7.4"
  }
 },
 "nbformat": 4,
 "nbformat_minor": 2
}
