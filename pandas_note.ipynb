{
 "cells": [
  {
   "cell_type": "code",
   "execution_count": 19,
   "metadata": {},
   "outputs": [],
   "source": [
    "import pandas as pd\n",
    "import numpy as np\n",
    "def printl():\n",
    "    print(\"===================================================\")\n",
    "    \n",
    "def printt(a):\n",
    "    print(a)\n",
    "    print(\"===================================================\")\n",
    "    "
   ]
  },
  {
   "cell_type": "code",
   "execution_count": 4,
   "metadata": {},
   "outputs": [
    {
     "name": "stdout",
     "output_type": "stream",
     "text": [
      "0    11\n",
      "1    23\n",
      "2     3\n",
      "3     4\n",
      "4     5\n",
      "5     6\n",
      "dtype: int64\n",
      "DatetimeIndex(['2016-01-01', '2016-01-02', '2016-01-03', '2016-01-04',\n",
      "               '2016-01-05', '2016-01-06', '2016-01-07', '2016-01-08',\n",
      "               '2016-01-09'],\n",
      "              dtype='datetime64[ns]', freq='D')\n"
     ]
    }
   ],
   "source": [
    "s = pd.Series([11,23,3,4,5,6])\n",
    "print(s)\n",
    "dates = pd.date_range('20160101',periods = 9)\n",
    "print(dates)"
   ]
  },
  {
   "cell_type": "markdown",
   "metadata": {},
   "source": [
    "# 生成DataFrame"
   ]
  },
  {
   "cell_type": "code",
   "execution_count": 5,
   "metadata": {},
   "outputs": [
    {
     "name": "stdout",
     "output_type": "stream",
     "text": [
      "   a  b  c\n",
      "x  1  2  3\n",
      "y  3  4  5\n",
      "          0         1         2         3\n",
      "0  0.175746  0.928919  0.014420  0.801164\n",
      "1  0.113508  0.264037  0.077634  0.699755\n",
      "2  0.101721  0.108741  0.667871  0.498888\n",
      "3  0.192856  0.485149  0.729943  0.479246\n",
      "4  0.901790  0.055225  0.729820  0.175529\n",
      "5  0.436981  0.464985  0.404197  0.651083\n",
      "6  0.976525  0.772061  0.869944  0.833397\n",
      "7  0.837826  0.051673  0.709126  0.720463\n",
      "8  0.791106  0.886037  0.279140  0.576858\n",
      "   A    B     C\n",
      "0  1  3.0  love\n",
      "1  2  3.0  love\n",
      "2  3  3.0  love\n",
      "3  4  3.0  love\n",
      "===================================================\n",
      "A      int64\n",
      "B    float64\n",
      "C     object\n",
      "dtype: object\n",
      "===================================================\n",
      "RangeIndex(start=0, stop=4, step=1)\n",
      "===================================================\n",
      "Index(['A', 'B', 'C'], dtype='object')\n",
      "===================================================\n",
      "[[1 3.0 'love']\n",
      " [2 3.0 'love']\n",
      " [3 3.0 'love']\n",
      " [4 3.0 'love']]\n",
      "===================================================\n",
      "              a         b         c\n",
      "count  2.000000  2.000000  2.000000\n",
      "mean   2.000000  3.000000  4.000000\n",
      "std    1.414214  1.414214  1.414214\n",
      "min    1.000000  2.000000  3.000000\n",
      "25%    1.500000  2.500000  3.500000\n",
      "50%    2.000000  3.000000  4.000000\n",
      "75%    2.500000  3.500000  4.500000\n",
      "max    3.000000  4.000000  5.000000\n",
      "===================================================\n",
      "      0     1     2     3\n",
      "A     1     2     3     4\n",
      "B     3     3     3     3\n",
      "C  love  love  love  love\n",
      "===================================================\n"
     ]
    }
   ],
   "source": [
    "df = pd.DataFrame(np.array([[1,2,3],[3,4,5]]),index = ['x','y'], columns = ['a','b','c'])\n",
    "print(df)\n",
    "df1 = pd.DataFrame(np.random.random((9,4)))\n",
    "print(df1)\n",
    "# 用字典生成\n",
    "df3 = pd.DataFrame({\"A\":[1,2,3,4],\"B\":3.0,\"C\":\"love\"})\n",
    "print(df3)\n",
    "printl()\n",
    "# dtypes 是每一列的数据类型\n",
    "print(df3.dtypes)\n",
    "printl()\n",
    "print(df3.index)\n",
    "printl()\n",
    "print(df3.columns)\n",
    "printl()\n",
    "print(df3.values)\n",
    "printl()\n",
    "# 都是按列统计的\n",
    "print(df.describe())\n",
    "printl()\n",
    "print(df3.T)\n",
    "printl()\n",
    " "
   ]
  },
  {
   "cell_type": "markdown",
   "metadata": {},
   "source": [
    "# 整理排序"
   ]
  },
  {
   "cell_type": "code",
   "execution_count": 6,
   "metadata": {},
   "outputs": [
    {
     "name": "stdout",
     "output_type": "stream",
     "text": [
      "   A    B     C\n",
      "0  1  3.0  love\n",
      "1  2  3.0  love\n",
      "2  3  3.0  love\n",
      "3  4  3.0  love\n",
      "===================================================\n",
      "      C    B  A\n",
      "0  love  3.0  1\n",
      "1  love  3.0  2\n",
      "2  love  3.0  3\n",
      "3  love  3.0  4\n",
      "===================================================\n",
      "   A    B     C\n",
      "3  4  3.0  love\n",
      "2  3  3.0  love\n",
      "1  2  3.0  love\n",
      "0  1  3.0  love\n"
     ]
    }
   ],
   "source": [
    "df = pd.DataFrame({\"A\":[1,2,3,4],\"B\":3.0,\"C\":\"love\"})\n",
    "print(df)\n",
    "printl()\n",
    "print(df.sort_index(axis = 1,ascending = False))\n",
    "printl()\n",
    "print(df.sort_index(axis = 0,ascending = False))\n"
   ]
  },
  {
   "cell_type": "code",
   "execution_count": 7,
   "metadata": {},
   "outputs": [
    {
     "name": "stdout",
     "output_type": "stream",
     "text": [
      "   A    B     C\n",
      "0  5  3.0  love\n",
      "1  2  3.0  love\n",
      "2  3  3.0  love\n",
      "3  4  3.0  love\n",
      "===================================================\n",
      "   A    B     C\n",
      "0  5  3.0  love\n",
      "3  4  3.0  love\n",
      "2  3  3.0  love\n",
      "1  2  3.0  love\n"
     ]
    }
   ],
   "source": [
    "df = pd.DataFrame({\"A\":[5,2,3,4],\"B\":3.0,\"C\":\"love\"})\n",
    "print(df)\n",
    "printl()\n",
    "print(df.sort_values(by = \"A\",ascending = False))"
   ]
  },
  {
   "cell_type": "markdown",
   "metadata": {},
   "source": [
    "# 选择数据"
   ]
  },
  {
   "cell_type": "code",
   "execution_count": 8,
   "metadata": {},
   "outputs": [
    {
     "name": "stdout",
     "output_type": "stream",
     "text": [
      "            A   B   C\n",
      "2019-01-01  0   1   2\n",
      "2019-01-02  3   4   5\n",
      "2019-01-03  6   7   8\n",
      "2019-01-04  9  10  11\n",
      "===================================================\n",
      "2019-01-01    0\n",
      "2019-01-02    3\n",
      "2019-01-03    6\n",
      "2019-01-04    9\n",
      "Freq: D, Name: A, dtype: int64\n",
      "2019-01-01    0\n",
      "2019-01-02    3\n",
      "2019-01-03    6\n",
      "2019-01-04    9\n",
      "Freq: D, Name: A, dtype: int64\n",
      "===================================================\n",
      "            A  B  C\n",
      "2019-01-01  0  1  2\n",
      "2019-01-02  3  4  5\n",
      "2019-01-03  6  7  8\n",
      "===================================================\n",
      "            A  B  C\n",
      "2019-01-01  0  1  2\n",
      "2019-01-02  3  4  5\n",
      "===================================================\n",
      "            A  B  C\n",
      "2019-01-01  0  1  2\n"
     ]
    }
   ],
   "source": [
    "dates = pd.date_range('20190101',periods = 4)\n",
    "df = pd.DataFrame(np.arange(12).reshape((4,3)),index = dates,columns = ['A','B','C'])\n",
    "print(df)\n",
    "printl()\n",
    "# 后面直接跟[]只能取列\n",
    "print(df.A)\n",
    "print(df['A'])\n",
    "printl()\n",
    "# 切片取行\n",
    "print(df[0:3])\n",
    "printl()\n",
    "# 只能切片，不能单行\n",
    "print(df['20190101':'20190102'])\n",
    "printl()\n",
    "# 单行也要用切片的方式\n",
    "print(df['20190101':'20190101'])"
   ]
  },
  {
   "cell_type": "markdown",
   "metadata": {},
   "source": [
    "## 纯标签挑选 loc[ ]"
   ]
  },
  {
   "cell_type": "code",
   "execution_count": 9,
   "metadata": {},
   "outputs": [
    {
     "name": "stdout",
     "output_type": "stream",
     "text": [
      "            A   B   C\n",
      "2019-01-01  0   1   2\n",
      "2019-01-02  3   4   5\n",
      "2019-01-03  6   7   8\n",
      "2019-01-04  9  10  11\n",
      "===================================================\n",
      "7\n",
      "===================================================\n",
      "A    0\n",
      "B    1\n",
      "C    2\n",
      "Name: 2019-01-01 00:00:00, dtype: int64\n",
      "===================================================\n",
      "2019-01-01    0\n",
      "2019-01-02    3\n",
      "2019-01-03    6\n",
      "2019-01-04    9\n",
      "Freq: D, Name: A, dtype: int64\n",
      "===================================================\n",
      "2019-01-01    0\n",
      "2019-01-02    3\n",
      "2019-01-03    6\n",
      "2019-01-04    9\n",
      "Freq: D, Name: A, dtype: int64\n",
      "===================================================\n",
      "            A   B   C\n",
      "2019-01-01  0   1   2\n",
      "2019-01-02  3   4   5\n",
      "2019-01-03  6   7   8\n",
      "2019-01-04  9  10  11\n",
      "===================================================\n",
      "            A  B  C\n",
      "2019-01-01  0  1  2\n",
      "2019-01-02  3  4  5\n",
      "2019-01-03  6  7  8\n",
      "===================================================\n",
      "            A  B\n",
      "2019-01-01  0  1\n",
      "2019-01-02  3  4\n",
      "2019-01-03  6  7\n",
      "===================================================\n",
      "            A\n",
      "2019-01-01  0\n",
      "2019-01-02  3\n",
      "2019-01-03  6\n",
      "===================================================\n",
      "            A  C\n",
      "2019-01-01  0  2\n",
      "2019-01-02  3  5\n",
      "2019-01-03  6  8\n"
     ]
    }
   ],
   "source": [
    "dates = pd.date_range('20190101',periods = 4)\n",
    "df = pd.DataFrame(np.arange(12).reshape((4,3)),index = dates,columns = ['A','B','C'])\n",
    "print(df)\n",
    "printl()\n",
    "print(df.loc['20190103']['B'])\n",
    "printl()\n",
    "# loc只能取行\n",
    "print(df.loc['20190101'])\n",
    "printl()\n",
    "# 想要列的话，用切片方法\n",
    "# 这里相当于，先用loc取行，再在取到的切片中用 .A 或 [‘A’]\n",
    "print(df.loc[:][\"A\"])\n",
    "printl()\n",
    "print(df.loc[:].A)\n",
    "printl()\n",
    "print(df.loc[:][:])\n",
    "printl()\n",
    "print(df.loc['20190101':'20190103'])\n",
    "# 行列全部取任意的\n",
    "printl()\n",
    "print(df.loc['20190101':'20190103',[\"A\",'B']])\n",
    "printl()\n",
    "print(df.loc['20190101':'20190103',\"A\":'A'])\n",
    "printl()\n",
    "print(df.loc['20190101':'20190103',[\"A\",'C']])"
   ]
  },
  {
   "cell_type": "markdown",
   "metadata": {},
   "source": [
    "## 纯数字挑选 iloc[ ]\n"
   ]
  },
  {
   "cell_type": "code",
   "execution_count": 10,
   "metadata": {},
   "outputs": [
    {
     "name": "stdout",
     "output_type": "stream",
     "text": [
      "            A   B   C\n",
      "2019-01-01  0   1   2\n",
      "2019-01-02  3   4   5\n",
      "2019-01-03  6   7   8\n",
      "2019-01-04  9  10  11\n",
      "===================================================\n",
      "7\n",
      "===================================================\n",
      "            B  C\n",
      "2019-01-01  1  2\n",
      "2019-01-02  4  5\n",
      "===================================================\n",
      "            B  C\n",
      "2019-01-01  1  2\n",
      "2019-01-03  7  8\n"
     ]
    }
   ],
   "source": [
    "dates = pd.date_range('20190101',periods = 4)\n",
    "df = pd.DataFrame(np.arange(12).reshape((4,3)),index = dates,columns = ['A','B','C'])\n",
    "print(df)\n",
    "printl()\n",
    "print(df.iloc[2,1])\n",
    "printl()\n",
    "# 所有切片的尾巴是取不到的\n",
    "print(df.iloc[0:2,1:3])\n",
    "printl()\n",
    "print(df.iloc[[0,2],1:3])"
   ]
  },
  {
   "cell_type": "markdown",
   "metadata": {},
   "source": [
    "## boolean index"
   ]
  },
  {
   "cell_type": "code",
   "execution_count": 11,
   "metadata": {},
   "outputs": [
    {
     "name": "stdout",
     "output_type": "stream",
     "text": [
      "            A   B   C\n",
      "2019-01-01  0   1   2\n",
      "2019-01-02  3   4   5\n",
      "2019-01-03  6   7   8\n",
      "2019-01-04  9  10  11\n",
      "===================================================\n",
      "            A   B   C\n",
      "2019-01-03  6   7   8\n",
      "2019-01-04  9  10  11\n",
      "            A   B   C\n",
      "2019-01-03  6   7   8\n",
      "2019-01-04  9  10  11\n"
     ]
    }
   ],
   "source": [
    "dates = pd.date_range('20190101',periods = 4)\n",
    "df = pd.DataFrame(np.arange(12).reshape((4,3)),index = dates,columns = ['A','B','C'])\n",
    "print(df)\n",
    "printl()\n",
    "print(df[df.A>5])\n",
    "print(df[df.A>5])"
   ]
  },
  {
   "cell_type": "markdown",
   "metadata": {},
   "source": [
    "# 设置值"
   ]
  },
  {
   "cell_type": "code",
   "execution_count": 12,
   "metadata": {},
   "outputs": [
    {
     "name": "stdout",
     "output_type": "stream",
     "text": [
      "             A   B   C   D\n",
      "2019-01-01   0   1   2   3\n",
      "2019-01-02   4   5   6   7\n",
      "2019-01-03   8   9  10  11\n",
      "2019-01-04  12  13  14  15\n",
      "2019-01-05  16  17  18  19\n",
      "2019-01-06  20  21  22  23\n",
      "===================================================\n",
      "             A   B   C    D\n",
      "2019-01-01   0   1   2    3\n",
      "2019-01-02   4   5   6    7\n",
      "2019-01-03   8   9  10  111\n",
      "2019-01-04  12  13  14   15\n",
      "2019-01-05  16  17  18   19\n",
      "2019-01-06  20  21  22   23\n",
      "===================================================\n",
      "             A    B   C    D\n",
      "2019-01-01   0  111   2    3\n",
      "2019-01-02   4    5   6    7\n",
      "2019-01-03   8    9  10  111\n",
      "2019-01-04  12   13  14   15\n",
      "2019-01-05  16   17  18   19\n",
      "2019-01-06  20   21  22   23\n",
      "===================================================\n",
      "            A    B   C    D\n",
      "2019-01-01  0  111   2    3\n",
      "2019-01-02  0    5   6    7\n",
      "2019-01-03  0    9  10  111\n",
      "2019-01-04  0   13  14   15\n",
      "2019-01-05  0   17  18   19\n",
      "2019-01-06  0   21  22   23\n",
      "===================================================\n"
     ]
    }
   ],
   "source": [
    "dates = pd.date_range('20190101',periods = 6)\n",
    "df = pd.DataFrame(np.arange(24).reshape((6,4)),index = dates,columns = ['A','B','C','D'])\n",
    "print(df)\n",
    "printl()\n",
    "df.iloc[2,3] = 111\n",
    "print(df)\n",
    "printl()\n",
    "df.loc['20190101','B'] = 111\n",
    "print(df)\n",
    "printl()\n",
    "df.A[df.A>0] = 0\n",
    "print(df)\n",
    "printl()"
   ]
  },
  {
   "cell_type": "markdown",
   "metadata": {},
   "source": [
    "## 加一列"
   ]
  },
  {
   "cell_type": "code",
   "execution_count": 21,
   "metadata": {},
   "outputs": [
    {
     "name": "stdout",
     "output_type": "stream",
     "text": [
      "             A   B   C   D\n",
      "2019-01-01   0   1   2   3\n",
      "2019-01-02   4   5   6   7\n",
      "2019-01-03   8   9  10  11\n",
      "2019-01-04  12  13  14  15\n",
      "2019-01-05  16  17  18  19\n",
      "2019-01-06  20  21  22  23\n",
      "===================================================\n",
      "             A   B   C   D   F\n",
      "2019-01-01   0   1   2   3 NaN\n",
      "2019-01-02   4   5   6   7 NaN\n",
      "2019-01-03   8   9  10  11 NaN\n",
      "2019-01-04  12  13  14  15 NaN\n",
      "2019-01-05  16  17  18  19 NaN\n",
      "2019-01-06  20  21  22  23 NaN\n",
      "===================================================\n",
      "             A   B   C   D   F  G\n",
      "2019-01-01   0   1   2   3 NaN  1\n",
      "2019-01-02   4   5   6   7 NaN  2\n",
      "2019-01-03   8   9  10  11 NaN  3\n",
      "2019-01-04  12  13  14  15 NaN  4\n",
      "2019-01-05  16  17  18  19 NaN  5\n",
      "2019-01-06  20  21  22  23 NaN  6\n",
      "===================================================\n"
     ]
    }
   ],
   "source": [
    "dates = pd.date_range('20190101',periods = 6)\n",
    "df = pd.DataFrame(np.arange(24).reshape((6,4)),index = dates,columns = ['A','B','C','D'])\n",
    "myprint(df)\n",
    "# 加一列空白\n",
    "df['F'] = np.nan\n",
    "printt(df)\n",
    "# Series 加一列\n",
    "df['G'] = pd.Series([1,2,3,4,5,6],index = pd.date_range('20190101',periods = 6))\n",
    "printt(df)"
   ]
  },
  {
   "cell_type": "code",
   "execution_count": null,
   "metadata": {},
   "outputs": [],
   "source": []
  },
  {
   "cell_type": "code",
   "execution_count": null,
   "metadata": {},
   "outputs": [],
   "source": []
  }
 ],
 "metadata": {
  "kernelspec": {
   "display_name": "Python 3",
   "language": "python",
   "name": "python3"
  },
  "language_info": {
   "codemirror_mode": {
    "name": "ipython",
    "version": 3
   },
   "file_extension": ".py",
   "mimetype": "text/x-python",
   "name": "python",
   "nbconvert_exporter": "python",
   "pygments_lexer": "ipython3",
   "version": "3.7.4"
  }
 },
 "nbformat": 4,
 "nbformat_minor": 2
}
