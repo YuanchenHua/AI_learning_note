{
 "cells": [
  {
   "cell_type": "code",
   "execution_count": 2,
   "metadata": {},
   "outputs": [],
   "source": [
    "import pandas as pd\n",
    "import numpy as np\n",
    "def printl():\n",
    "    print(\"===================================================\")\n",
    "    \n",
    "def printt(a):\n",
    "    print(a)\n",
    "    print(\"===================================================\")\n",
    "    "
   ]
  },
  {
   "cell_type": "code",
   "execution_count": 3,
   "metadata": {},
   "outputs": [
    {
     "name": "stdout",
     "output_type": "stream",
     "text": [
      "0    11\n",
      "1    23\n",
      "2     3\n",
      "3     4\n",
      "4     5\n",
      "5     6\n",
      "dtype: int64\n",
      "DatetimeIndex(['2016-01-01', '2016-01-02', '2016-01-03', '2016-01-04',\n",
      "               '2016-01-05', '2016-01-06', '2016-01-07', '2016-01-08',\n",
      "               '2016-01-09'],\n",
      "              dtype='datetime64[ns]', freq='D')\n"
     ]
    }
   ],
   "source": [
    "s = pd.Series([11,23,3,4,5,6])\n",
    "print(s)\n",
    "dates = pd.date_range('20160101',periods = 9)\n",
    "print(dates)"
   ]
  },
  {
   "cell_type": "markdown",
   "metadata": {},
   "source": [
    "# 生成DataFrame"
   ]
  },
  {
   "cell_type": "code",
   "execution_count": 4,
   "metadata": {},
   "outputs": [
    {
     "name": "stdout",
     "output_type": "stream",
     "text": [
      "   a  b  c\n",
      "x  1  2  3\n",
      "y  3  4  5\n",
      "          0         1         2         3\n",
      "0  0.879196  0.833513  0.189818  0.214178\n",
      "1  0.883946  0.740824  0.339011  0.771602\n",
      "2  0.824656  0.501364  0.420458  0.272901\n",
      "3  0.687449  0.115265  0.639128  0.014072\n",
      "4  0.953958  0.644054  0.764525  0.230173\n",
      "5  0.498811  0.479034  0.672588  0.079437\n",
      "6  0.744131  0.869927  0.621508  0.143787\n",
      "7  0.394198  0.723790  0.569807  0.442966\n",
      "8  0.743081  0.582083  0.038902  0.783587\n",
      "   A    B     C\n",
      "0  1  3.0  love\n",
      "1  2  3.0  love\n",
      "2  3  3.0  love\n",
      "3  4  3.0  love\n",
      "===================================================\n",
      "A      int64\n",
      "B    float64\n",
      "C     object\n",
      "dtype: object\n",
      "===================================================\n",
      "RangeIndex(start=0, stop=4, step=1)\n",
      "===================================================\n",
      "Index(['A', 'B', 'C'], dtype='object')\n",
      "===================================================\n",
      "[[1 3.0 'love']\n",
      " [2 3.0 'love']\n",
      " [3 3.0 'love']\n",
      " [4 3.0 'love']]\n",
      "===================================================\n",
      "              a         b         c\n",
      "count  2.000000  2.000000  2.000000\n",
      "mean   2.000000  3.000000  4.000000\n",
      "std    1.414214  1.414214  1.414214\n",
      "min    1.000000  2.000000  3.000000\n",
      "25%    1.500000  2.500000  3.500000\n",
      "50%    2.000000  3.000000  4.000000\n",
      "75%    2.500000  3.500000  4.500000\n",
      "max    3.000000  4.000000  5.000000\n",
      "===================================================\n",
      "      0     1     2     3\n",
      "A     1     2     3     4\n",
      "B     3     3     3     3\n",
      "C  love  love  love  love\n",
      "===================================================\n"
     ]
    }
   ],
   "source": [
    "# 指定\n",
    "df = pd.DataFrame(np.array([[1,2,3],[3,4,5]]),index = ['x','y'], columns = ['a','b','c']) # columns = list('abc')\n",
    "print(df)\n",
    "# 随机生成\n",
    "df1 = pd.DataFrame(np.random.random((9,4)))\n",
    "print(df1)\n",
    "# 用字典生成\n",
    "df3 = pd.DataFrame({\"A\":[1,2,3,4],\"B\":3.0,\"C\":\"love\"})\n",
    "print(df3)\n",
    "printl()\n",
    "# dtypes 是每一列的数据类型\n",
    "print(df3.dtypes)\n",
    "printl()\n",
    "print(df3.index)\n",
    "printl()\n",
    "print(df3.columns)\n",
    "printl()\n",
    "print(df3.values)\n",
    "printl()\n",
    "# 都是按列统计的\n",
    "print(df.describe())\n",
    "printl()\n",
    "print(df3.T)\n",
    "printl()\n",
    " "
   ]
  },
  {
   "cell_type": "markdown",
   "metadata": {},
   "source": [
    "# 整理排序"
   ]
  },
  {
   "cell_type": "code",
   "execution_count": 5,
   "metadata": {},
   "outputs": [
    {
     "name": "stdout",
     "output_type": "stream",
     "text": [
      "   A    B     C\n",
      "0  1  3.0  love\n",
      "1  2  3.0  love\n",
      "2  3  3.0  love\n",
      "3  4  3.0  love\n",
      "===================================================\n",
      "      C    B  A\n",
      "0  love  3.0  1\n",
      "1  love  3.0  2\n",
      "2  love  3.0  3\n",
      "3  love  3.0  4\n",
      "===================================================\n",
      "   A    B     C\n",
      "3  4  3.0  love\n",
      "2  3  3.0  love\n",
      "1  2  3.0  love\n",
      "0  1  3.0  love\n"
     ]
    }
   ],
   "source": [
    "df = pd.DataFrame({\"A\":[1,2,3,4],\"B\":3.0,\"C\":\"love\"})\n",
    "print(df)\n",
    "printl()\n",
    "print(df.sort_index(axis = 1,ascending = False))\n",
    "printl()\n",
    "print(df.sort_index(axis = 0,ascending = False))\n"
   ]
  },
  {
   "cell_type": "code",
   "execution_count": 6,
   "metadata": {},
   "outputs": [
    {
     "name": "stdout",
     "output_type": "stream",
     "text": [
      "   A    B     C\n",
      "0  5  3.0  love\n",
      "1  2  3.0  love\n",
      "2  3  3.0  love\n",
      "3  4  3.0  love\n",
      "===================================================\n",
      "   A    B     C\n",
      "0  5  3.0  love\n",
      "3  4  3.0  love\n",
      "2  3  3.0  love\n",
      "1  2  3.0  love\n"
     ]
    }
   ],
   "source": [
    "df = pd.DataFrame({\"A\":[5,2,3,4],\"B\":3.0,\"C\":\"love\"})\n",
    "print(df)\n",
    "printl()\n",
    "print(df.sort_values(by = \"A\",ascending = False))"
   ]
  },
  {
   "cell_type": "markdown",
   "metadata": {},
   "source": [
    "# 选择数据"
   ]
  },
  {
   "cell_type": "code",
   "execution_count": 6,
   "metadata": {},
   "outputs": [
    {
     "name": "stdout",
     "output_type": "stream",
     "text": [
      "            A   B   C\n",
      "2019-01-01  0   1   2\n",
      "2019-01-02  3   4   5\n",
      "2019-01-03  6   7   8\n",
      "2019-01-04  9  10  11\n",
      "===================================================\n",
      "2019-01-01    0\n",
      "2019-01-02    3\n",
      "2019-01-03    6\n",
      "2019-01-04    9\n",
      "Freq: D, Name: A, dtype: int64\n",
      "2019-01-01    0\n",
      "2019-01-02    3\n",
      "2019-01-03    6\n",
      "2019-01-04    9\n",
      "Freq: D, Name: A, dtype: int64\n",
      "===================================================\n",
      "            A  B  C\n",
      "2019-01-01  0  1  2\n",
      "2019-01-02  3  4  5\n",
      "2019-01-03  6  7  8\n",
      "===================================================\n",
      "            A  B  C\n",
      "2019-01-01  0  1  2\n",
      "2019-01-02  3  4  5\n",
      "===================================================\n",
      "            A  B  C\n",
      "2019-01-01  0  1  2\n"
     ]
    }
   ],
   "source": [
    "dates = pd.date_range('20190101',periods = 4)\n",
    "df = pd.DataFrame(np.arange(12).reshape((4,3)),index = dates,columns = ['A','B','C'])\n",
    "print(df)\n",
    "printl()\n",
    "# 后面直接跟[]只能取列\n",
    "print(df.A)\n",
    "print(df['A'])\n",
    "printl()\n",
    "# 切片取行\n",
    "print(df[0:3])\n",
    "printl()\n",
    "# 只能切片，不能单行\n",
    "print(df['20190101':'20190102'])\n",
    "printl()\n",
    "# 单行也要用切片的方式\n",
    "print(df['20190101':'20190101'])"
   ]
  },
  {
   "cell_type": "markdown",
   "metadata": {},
   "source": [
    "## 纯标签挑选 loc[ ]"
   ]
  },
  {
   "cell_type": "code",
   "execution_count": 7,
   "metadata": {},
   "outputs": [
    {
     "name": "stdout",
     "output_type": "stream",
     "text": [
      "            A   B   C\n",
      "2019-01-01  0   1   2\n",
      "2019-01-02  3   4   5\n",
      "2019-01-03  6   7   8\n",
      "2019-01-04  9  10  11\n",
      "===================================================\n",
      "7\n",
      "===================================================\n",
      "A    0\n",
      "B    1\n",
      "C    2\n",
      "Name: 2019-01-01 00:00:00, dtype: int64\n",
      "===================================================\n",
      "2019-01-01    0\n",
      "2019-01-02    3\n",
      "2019-01-03    6\n",
      "2019-01-04    9\n",
      "Freq: D, Name: A, dtype: int64\n",
      "===================================================\n",
      "2019-01-01    0\n",
      "2019-01-02    3\n",
      "2019-01-03    6\n",
      "2019-01-04    9\n",
      "Freq: D, Name: A, dtype: int64\n",
      "===================================================\n",
      "            A   B   C\n",
      "2019-01-01  0   1   2\n",
      "2019-01-02  3   4   5\n",
      "2019-01-03  6   7   8\n",
      "2019-01-04  9  10  11\n",
      "===================================================\n",
      "            A  B  C\n",
      "2019-01-01  0  1  2\n",
      "2019-01-02  3  4  5\n",
      "2019-01-03  6  7  8\n",
      "===================================================\n",
      "            A  B\n",
      "2019-01-01  0  1\n",
      "2019-01-02  3  4\n",
      "2019-01-03  6  7\n",
      "===================================================\n",
      "            A\n",
      "2019-01-01  0\n",
      "2019-01-02  3\n",
      "2019-01-03  6\n",
      "===================================================\n",
      "            A  C\n",
      "2019-01-01  0  2\n",
      "2019-01-02  3  5\n",
      "2019-01-03  6  8\n"
     ]
    }
   ],
   "source": [
    "dates = pd.date_range('20190101',periods = 4)\n",
    "df = pd.DataFrame(np.arange(12).reshape((4,3)),index = dates,columns = ['A','B','C'])\n",
    "print(df)\n",
    "printl()\n",
    "print(df.loc['20190103']['B'])\n",
    "printl()\n",
    "# loc只能取行\n",
    "print(df.loc['20190101'])\n",
    "printl()\n",
    "# 想要列的话，用切片方法\n",
    "# 这里相当于，先用loc取行，再在取到的切片中用 .A 或 [‘A’]\n",
    "print(df.loc[:][\"A\"])\n",
    "printl()\n",
    "print(df.loc[:].A)\n",
    "printl()\n",
    "print(df.loc[:][:])\n",
    "printl()\n",
    "print(df.loc['20190101':'20190103'])\n",
    "# 行列全部取任意的\n",
    "printl()\n",
    "print(df.loc['20190101':'20190103',[\"A\",'B']])\n",
    "printl()\n",
    "print(df.loc['20190101':'20190103',\"A\":'A'])\n",
    "printl()\n",
    "print(df.loc['20190101':'20190103',[\"A\",'C']])"
   ]
  },
  {
   "cell_type": "markdown",
   "metadata": {},
   "source": [
    "## 纯数字挑选 iloc[ ]\n"
   ]
  },
  {
   "cell_type": "code",
   "execution_count": 8,
   "metadata": {},
   "outputs": [
    {
     "name": "stdout",
     "output_type": "stream",
     "text": [
      "            A   B   C\n",
      "2019-01-01  0   1   2\n",
      "2019-01-02  3   4   5\n",
      "2019-01-03  6   7   8\n",
      "2019-01-04  9  10  11\n",
      "===================================================\n",
      "7\n",
      "===================================================\n",
      "            B  C\n",
      "2019-01-01  1  2\n",
      "2019-01-02  4  5\n",
      "===================================================\n",
      "            B  C\n",
      "2019-01-01  1  2\n",
      "2019-01-03  7  8\n"
     ]
    }
   ],
   "source": [
    "dates = pd.date_range('20190101',periods = 4)\n",
    "df = pd.DataFrame(np.arange(12).reshape((4,3)),index = dates,columns = ['A','B','C'])\n",
    "print(df)\n",
    "printl()\n",
    "print(df.iloc[2,1])\n",
    "printl()\n",
    "# 所有切片的尾巴是取不到的\n",
    "print(df.iloc[0:2,1:3])\n",
    "printl()\n",
    "print(df.iloc[[0,2],1:3])"
   ]
  },
  {
   "cell_type": "markdown",
   "metadata": {},
   "source": [
    "## boolean index"
   ]
  },
  {
   "cell_type": "code",
   "execution_count": 7,
   "metadata": {},
   "outputs": [
    {
     "name": "stdout",
     "output_type": "stream",
     "text": [
      "            A   B   C\n",
      "2019-01-01  0   1   2\n",
      "2019-01-02  3   4   5\n",
      "2019-01-03  6   7   8\n",
      "2019-01-04  9  10  11\n",
      "===================================================\n",
      "            A   B   C\n",
      "2019-01-03  6   7   8\n",
      "2019-01-04  9  10  11\n"
     ]
    }
   ],
   "source": [
    "dates = pd.date_range('20190101',periods = 4)\n",
    "df = pd.DataFrame(np.arange(12).reshape((4,3)),index = dates,columns = ['A','B','C'])\n",
    "print(df)\n",
    "printl()\n",
    "print(df[df.A>5])"
   ]
  },
  {
   "cell_type": "markdown",
   "metadata": {},
   "source": [
    "# 设置值"
   ]
  },
  {
   "cell_type": "code",
   "execution_count": 10,
   "metadata": {},
   "outputs": [
    {
     "name": "stdout",
     "output_type": "stream",
     "text": [
      "             A   B   C   D\n",
      "2019-01-01   0   1   2   3\n",
      "2019-01-02   4   5   6   7\n",
      "2019-01-03   8   9  10  11\n",
      "2019-01-04  12  13  14  15\n",
      "2019-01-05  16  17  18  19\n",
      "2019-01-06  20  21  22  23\n",
      "===================================================\n",
      "             A   B   C    D\n",
      "2019-01-01   0   1   2    3\n",
      "2019-01-02   4   5   6    7\n",
      "2019-01-03   8   9  10  111\n",
      "2019-01-04  12  13  14   15\n",
      "2019-01-05  16  17  18   19\n",
      "2019-01-06  20  21  22   23\n",
      "===================================================\n",
      "             A    B   C    D\n",
      "2019-01-01   0  111   2    3\n",
      "2019-01-02   4    5   6    7\n",
      "2019-01-03   8    9  10  111\n",
      "2019-01-04  12   13  14   15\n",
      "2019-01-05  16   17  18   19\n",
      "2019-01-06  20   21  22   23\n",
      "===================================================\n",
      "            A    B   C    D\n",
      "2019-01-01  0  111   2    3\n",
      "2019-01-02  0    5   6    7\n",
      "2019-01-03  0    9  10  111\n",
      "2019-01-04  0   13  14   15\n",
      "2019-01-05  0   17  18   19\n",
      "2019-01-06  0   21  22   23\n",
      "===================================================\n"
     ]
    }
   ],
   "source": [
    "dates = pd.date_range('20190101',periods = 6)\n",
    "df = pd.DataFrame(np.arange(24).reshape((6,4)),index = dates,columns = ['A','B','C','D'])\n",
    "print(df)\n",
    "printl()\n",
    "df.iloc[2,3] = 111\n",
    "print(df)\n",
    "printl()\n",
    "df.loc['20190101','B'] = 111\n",
    "print(df)\n",
    "printl()\n",
    "df.A[df.A>0] = 0\n",
    "print(df)\n",
    "printl()"
   ]
  },
  {
   "cell_type": "markdown",
   "metadata": {},
   "source": [
    "## 加一列"
   ]
  },
  {
   "cell_type": "code",
   "execution_count": 24,
   "metadata": {},
   "outputs": [
    {
     "name": "stdout",
     "output_type": "stream",
     "text": [
      "             A   B   C   D\n",
      "2019-01-01   0   1   2   3\n",
      "2019-01-02   4   5   6   7\n",
      "2019-01-03   8   9  10  11\n",
      "2019-01-04  12  13  14  15\n",
      "2019-01-05  16  17  18  19\n",
      "2019-01-06  20  21  22  23\n",
      "===================================================\n",
      "             A   B   C   D   F\n",
      "2019-01-01   0   1   2   3 NaN\n",
      "2019-01-02   4   5   6   7 NaN\n",
      "2019-01-03   8   9  10  11 NaN\n",
      "2019-01-04  12  13  14  15 NaN\n",
      "2019-01-05  16  17  18  19 NaN\n",
      "2019-01-06  20  21  22  23 NaN\n",
      "===================================================\n",
      "             A   B   C   D   F  G\n",
      "2019-01-01   0   1   2   3 NaN  1\n",
      "2019-01-02   4   5   6   7 NaN  2\n",
      "2019-01-03   8   9  10  11 NaN  3\n",
      "2019-01-04  12  13  14  15 NaN  4\n",
      "2019-01-05  16  17  18  19 NaN  5\n",
      "2019-01-06  20  21  22  23 NaN  6\n",
      "===================================================\n"
     ]
    }
   ],
   "source": [
    "dates = pd.date_range('20190101',periods = 6)\n",
    "df = pd.DataFrame(np.arange(24).reshape((6,4)),index = dates,columns = ['A','B','C','D'])\n",
    "printt(df)\n",
    "# 加一列空白\n",
    "df['F'] = np.nan\n",
    "printt(df)\n",
    "# Series 加一列，就指定index\n",
    "df['G'] = pd.Series([1,2,3,4,5,6],index = pd.date_range('20190101',periods = 6))\n",
    "printt(df)"
   ]
  },
  {
   "cell_type": "markdown",
   "metadata": {},
   "source": [
    "## 加一行"
   ]
  },
  {
   "cell_type": "code",
   "execution_count": 29,
   "metadata": {},
   "outputs": [
    {
     "name": "stdout",
     "output_type": "stream",
     "text": [
      "             A   B   C   D\n",
      "2019-01-01   0   1   2   3\n",
      "2019-01-02   4   5   6   7\n",
      "2019-01-03   8   9  10  11\n",
      "2019-01-04  12  13  14  15\n",
      "2019-01-05  16  17  18  19\n",
      "2019-01-06  20  21  22  23\n",
      "===================================================\n",
      "                        A     B     C     D\n",
      "2019-01-01 00:00:00   0.0   1.0   2.0   3.0\n",
      "2019-01-02 00:00:00   4.0   5.0   6.0   7.0\n",
      "2019-01-03 00:00:00   8.0   9.0  10.0  11.0\n",
      "2019-01-04 00:00:00  12.0  13.0  14.0  15.0\n",
      "2019-01-05 00:00:00  16.0  17.0  18.0  19.0\n",
      "2019-01-06 00:00:00  20.0  21.0  22.0  23.0\n",
      "20190107              NaN   NaN   NaN   NaN\n",
      "===================================================\n",
      "      A     B     C     D\n",
      "0   0.0   1.0   2.0   3.0\n",
      "1   4.0   5.0   6.0   7.0\n",
      "2   8.0   9.0  10.0  11.0\n",
      "3  12.0  13.0  14.0  15.0\n",
      "4  16.0  17.0  18.0  19.0\n",
      "5  20.0  21.0  22.0  23.0\n",
      "6   NaN   NaN   NaN   NaN\n",
      "7   6.0   6.0   6.0   6.0\n",
      "===================================================\n"
     ]
    }
   ],
   "source": [
    "dates = pd.date_range('20190101',periods = 6)\n",
    "df = pd.DataFrame(np.arange(24).reshape((6,4)),index = dates,columns = ['A','B','C','D'])\n",
    "printt(df)\n",
    "df.loc['20190107'] = np.nan\n",
    "printt(df)\n",
    "# 新建一个DataFrame叠加上去\n",
    "df2 = pd.DataFrame([6,6,6,6]).T\n",
    "df2.columns = df.columns\n",
    "new_df = pd.concat((df,df2),ignore_index = True)\n",
    "printt(new_df)"
   ]
  },
  {
   "cell_type": "markdown",
   "metadata": {},
   "source": [
    "# 处理数据丢失"
   ]
  },
  {
   "cell_type": "code",
   "execution_count": 12,
   "metadata": {},
   "outputs": [
    {
     "name": "stdout",
     "output_type": "stream",
     "text": [
      "             A     B   C   D    E\n",
      "2019-01-01   0   1.0   2   3  1.0\n",
      "2019-01-02   4   5.0   6   7  2.0\n",
      "2019-01-03   8   NaN  10  11  3.0\n",
      "2019-01-04  12  13.0  14  15  NaN\n",
      "2019-01-05  16  17.0  18  19  5.0\n",
      "2019-01-06  20  21.0  22  23  6.0\n",
      "===================================================\n",
      "             A     B   C   D    E\n",
      "2019-01-01   0   1.0   2   3  1.0\n",
      "2019-01-02   4   5.0   6   7  2.0\n",
      "2019-01-05  16  17.0  18  19  5.0\n",
      "2019-01-06  20  21.0  22  23  6.0\n",
      "===================================================\n",
      "             A   C   D\n",
      "2019-01-01   0   2   3\n",
      "2019-01-02   4   6   7\n",
      "2019-01-03   8  10  11\n",
      "2019-01-04  12  14  15\n",
      "2019-01-05  16  18  19\n",
      "2019-01-06  20  22  23\n",
      "===================================================\n",
      "             A       B   C   D       E\n",
      "2019-01-01   0     1.0   2   3     1.0\n",
      "2019-01-02   4     5.0   6   7     2.0\n",
      "2019-01-03   8  1000.0  10  11     3.0\n",
      "2019-01-04  12    13.0  14  15  1000.0\n",
      "2019-01-05  16    17.0  18  19     5.0\n",
      "2019-01-06  20    21.0  22  23     6.0\n",
      "===================================================\n",
      "False\n",
      "===================================================\n"
     ]
    }
   ],
   "source": [
    "dates = pd.date_range('20190101',periods = 6)\n",
    "df = pd.DataFrame(np.arange(24).reshape((6,4)),index = dates,columns = ['A','B','C','D'])\n",
    "df['E'] = [1,2,3,np.nan,5,6]\n",
    "df.iloc[2,1] = np.nan\n",
    "printt(df)\n",
    "# 开始处理\n",
    "printt(df.dropna(axis = 0, how='any')) # 又一个nan，就丢掉整个  \"all\" 全部是nan才丢掉整个\n",
    "printt(df.dropna(axis = 1,how = 'any'))\n",
    "# 填补数据\n",
    "printt(df.fillna(axis = 1,value = 1000))\n",
    "# isnull()判断是否丢失的函数\n",
    "printt(np.all(df.isnull()))"
   ]
  },
  {
   "cell_type": "markdown",
   "metadata": {},
   "source": [
    "# 导入导出数据\n",
    "https://pandas.pydata.org/pandas-docs/stable/user_guide/io.html"
   ]
  },
  {
   "cell_type": "code",
   "execution_count": 13,
   "metadata": {},
   "outputs": [],
   "source": [
    "# df.to_pickle(\"a.pickle\")"
   ]
  },
  {
   "cell_type": "markdown",
   "metadata": {},
   "source": [
    "# 合并DataFrame\n",
    "## concat"
   ]
  },
  {
   "cell_type": "code",
   "execution_count": 14,
   "metadata": {},
   "outputs": [
    {
     "name": "stdout",
     "output_type": "stream",
     "text": [
      "     a    b    c    d    e\n",
      "0  0.0  0.0  0.0  0.0  0.0\n",
      "1  0.0  0.0  0.0  0.0  0.0\n",
      "2  0.0  0.0  0.0  0.0  0.0\n",
      "3  0.0  0.0  0.0  0.0  0.0\n",
      "0  1.0  1.0  1.0  1.0  1.0\n",
      "1  1.0  1.0  1.0  1.0  1.0\n",
      "2  1.0  1.0  1.0  1.0  1.0\n",
      "3  1.0  1.0  1.0  1.0  1.0\n",
      "0  2.0  2.0  2.0  2.0  2.0\n",
      "1  2.0  2.0  2.0  2.0  2.0\n",
      "2  2.0  2.0  2.0  2.0  2.0\n",
      "3  2.0  2.0  2.0  2.0  2.0\n",
      "===================================================\n",
      "      a    b    c    d    e\n",
      "0   0.0  0.0  0.0  0.0  0.0\n",
      "1   0.0  0.0  0.0  0.0  0.0\n",
      "2   0.0  0.0  0.0  0.0  0.0\n",
      "3   0.0  0.0  0.0  0.0  0.0\n",
      "4   1.0  1.0  1.0  1.0  1.0\n",
      "5   1.0  1.0  1.0  1.0  1.0\n",
      "6   1.0  1.0  1.0  1.0  1.0\n",
      "7   1.0  1.0  1.0  1.0  1.0\n",
      "8   2.0  2.0  2.0  2.0  2.0\n",
      "9   2.0  2.0  2.0  2.0  2.0\n",
      "10  2.0  2.0  2.0  2.0  2.0\n",
      "11  2.0  2.0  2.0  2.0  2.0\n",
      "===================================================\n"
     ]
    }
   ],
   "source": [
    "df1 = pd.DataFrame(np.ones((4,5))*0,columns = ['a','b','c','d','e'])\n",
    "df2 = pd.DataFrame(np.ones((4,5))*1,columns = ['a','b','c','d','e'])\n",
    "df3 = pd.DataFrame(np.ones((4,5))*2,columns = ['a','b','c','d','e'])\n",
    "# pd.concat()\n",
    "printt(pd.concat([df1,df2,df3],axis = 0)) # axis = 0 是列叠加\n",
    "printt(pd.concat([df1,df2,df3],axis = 0,ignore_index = True))\n"
   ]
  },
  {
   "cell_type": "code",
   "execution_count": 11,
   "metadata": {},
   "outputs": [
    {
     "name": "stdout",
     "output_type": "stream",
     "text": [
      "     a    b    c    d    f\n",
      "0  0.0  0.0  0.0  0.0  0.0\n",
      "1  0.0  0.0  0.0  0.0  0.0\n",
      "2  0.0  0.0  0.0  0.0  0.0\n",
      "3  0.0  0.0  0.0  0.0  0.0\n",
      "===================================================\n",
      "     a    b    c    d    e\n",
      "2  1.0  1.0  1.0  1.0  1.0\n",
      "3  1.0  1.0  1.0  1.0  1.0\n",
      "4  1.0  1.0  1.0  1.0  1.0\n",
      "5  1.0  1.0  1.0  1.0  1.0\n",
      "===================================================\n",
      "     a    b    c    d    f    e\n",
      "0  0.0  0.0  0.0  0.0  0.0  NaN\n",
      "1  0.0  0.0  0.0  0.0  0.0  NaN\n",
      "2  0.0  0.0  0.0  0.0  0.0  NaN\n",
      "3  0.0  0.0  0.0  0.0  0.0  NaN\n",
      "2  1.0  1.0  1.0  1.0  NaN  1.0\n",
      "3  1.0  1.0  1.0  1.0  NaN  1.0\n",
      "4  1.0  1.0  1.0  1.0  NaN  1.0\n",
      "5  1.0  1.0  1.0  1.0  NaN  1.0\n",
      "===================================================\n",
      "     a    b    c    d\n",
      "0  0.0  0.0  0.0  0.0\n",
      "1  0.0  0.0  0.0  0.0\n",
      "2  0.0  0.0  0.0  0.0\n",
      "3  0.0  0.0  0.0  0.0\n",
      "2  1.0  1.0  1.0  1.0\n",
      "3  1.0  1.0  1.0  1.0\n",
      "4  1.0  1.0  1.0  1.0\n",
      "5  1.0  1.0  1.0  1.0\n",
      "===================================================\n",
      "      a    b    c    d    e    f\n",
      "0   0.0  0.0  0.0  0.0  NaN  0.0\n",
      "1   0.0  0.0  0.0  0.0  NaN  0.0\n",
      "2   0.0  0.0  0.0  0.0  NaN  0.0\n",
      "3   0.0  0.0  0.0  0.0  NaN  0.0\n",
      "4   0.0  0.0  0.0  0.0  NaN  0.0\n",
      "5   0.0  0.0  0.0  0.0  NaN  0.0\n",
      "6   0.0  0.0  0.0  0.0  NaN  0.0\n",
      "7   0.0  0.0  0.0  0.0  NaN  0.0\n",
      "8   1.0  1.0  1.0  1.0  1.0  NaN\n",
      "9   1.0  1.0  1.0  1.0  1.0  NaN\n",
      "10  1.0  1.0  1.0  1.0  1.0  NaN\n",
      "11  1.0  1.0  1.0  1.0  1.0  NaN\n",
      "===================================================\n",
      "     5    a    b    c    d    f\n",
      "0  NaN  0.0  0.0  0.0  0.0  0.0\n",
      "1  NaN  0.0  0.0  0.0  0.0  0.0\n",
      "2  NaN  0.0  0.0  0.0  0.0  0.0\n",
      "3  NaN  0.0  0.0  0.0  0.0  0.0\n",
      "4  5.0  1.0  2.0  3.0  4.0  NaN\n",
      "===================================================\n"
     ]
    }
   ],
   "source": [
    "df1 = pd.DataFrame(np.ones((4,5))*0,columns = ['a','b','c','d','f'],index = [0,1,2,3])\n",
    "df2 = pd.DataFrame(np.ones((4,5))*1,columns = ['a','b','c','d','e'],index = [2,3,4,5])\n",
    "printt(df1)\n",
    "printt(df2)\n",
    "# join 方式\n",
    "printt(pd.concat([df1,df2],join='outer',sort=False))\n",
    "printt(pd.concat([df1,df2],join='inner',sort=False))\n",
    "# \n",
    "printt(df1.append([df1,df2],ignore_index = True,sort=True))\n",
    "# Series 是想加行就是行，想加列就是列，完全看操作这个Series 的函数\n",
    "# 自己不能通过指定是index还是columns来指定横竖，函数参数中只有 index\n",
    "s1 = pd.Series([1,2,3,4,5],index = ['a','b','c','d','5'])\n",
    "printt(df1.append(s1,ignore_index = True,sort=True))"
   ]
  },
  {
   "cell_type": "markdown",
   "metadata": {},
   "source": [
    "## merge"
   ]
  },
  {
   "cell_type": "code",
   "execution_count": 16,
   "metadata": {},
   "outputs": [
    {
     "name": "stdout",
     "output_type": "stream",
     "text": [
      "  key   A   B   C   D\n",
      "0  K0  A0  B0  C0  D0\n",
      "1  K1  A1  B1  C1  D1\n",
      "2  K2  A2  B2  C2  D2\n",
      "3  K3  A3  B3  C3  D3\n",
      "===================================================\n"
     ]
    }
   ],
   "source": [
    "left = pd.DataFrame({'key': ['K0', 'K1', 'K2', 'K3'],\n",
    "                     'A': ['A0', 'A1', 'A2', 'A3'],\n",
    "                     'B': ['B0', 'B1', 'B2', 'B3']})\n",
    "right = pd.DataFrame({'key': ['K0', 'K1', 'K2', 'K3'],\n",
    "                      'C': ['C0', 'C1', 'C2', 'C3'],\n",
    "                      'D': ['D0', 'D1', 'D2', 'D3']})\n",
    "printt(pd.merge(left,right,on = \"key\"))\n"
   ]
  },
  {
   "cell_type": "code",
   "execution_count": 17,
   "metadata": {},
   "outputs": [
    {
     "name": "stdout",
     "output_type": "stream",
     "text": [
      "  key1 key2   A   B   C   D\n",
      "0   K0   K0  A0  B0  C0  D0\n",
      "1   K1   K0  A2  B2  C1  D1\n",
      "2   K1   K0  A2  B2  C2  D2\n",
      "===================================================\n",
      "  key1 key2   A   B    C    D\n",
      "0   K0   K0  A0  B0   C0   D0\n",
      "1   K0   K1  A1  B1  NaN  NaN\n",
      "2   K1   K0  A2  B2   C1   D1\n",
      "3   K1   K0  A2  B2   C2   D2\n",
      "4   K2   K1  A3  B3  NaN  NaN\n",
      "===================================================\n"
     ]
    }
   ],
   "source": [
    "left = pd.DataFrame({'key1': ['K0', 'K0', 'K1', 'K2'],\n",
    "                     'key2': ['K0', 'K1', 'K0', 'K1'],\n",
    "                     'A': ['A0', 'A1', 'A2', 'A3'],\n",
    "                     'B': ['B0', 'B1', 'B2', 'B3']})\n",
    "right = pd.DataFrame({'key1': ['K0', 'K1', 'K1', 'K2'],\n",
    "                      'key2': ['K0', 'K0', 'K0', 'K0'],\n",
    "                      'C': ['C0', 'C1', 'C2', 'C3'],\n",
    "                      'D': ['D0', 'D1', 'D2', 'D3']})\n",
    "# how = ['left', 'right', 'outer', 'inner']\n",
    "# 以columns来merge\n",
    "printt(pd.merge(left, right, on=['key1', 'key2'], how='inner'))\n",
    "printt(pd.merge(left, right, on=['key1', 'key2'], how='left'))"
   ]
  },
  {
   "cell_type": "code",
   "execution_count": 18,
   "metadata": {},
   "outputs": [
    {
     "name": "stdout",
     "output_type": "stream",
     "text": [
      "     A   B\n",
      "K0  A0  B0\n",
      "K1  A1  B1\n",
      "K2  A2  B2\n",
      "===================================================\n",
      "     C   D\n",
      "K0  C0  D0\n",
      "K2  C2  D2\n",
      "K3  C3  D3\n",
      "===================================================\n",
      "      A    B    C    D\n",
      "K0   A0   B0   C0   D0\n",
      "K1   A1   B1  NaN  NaN\n",
      "K2   A2   B2   C2   D2\n",
      "K3  NaN  NaN   C3   D3\n",
      "===================================================\n",
      "     A   B   C   D\n",
      "K0  A0  B0  C0  D0\n",
      "K2  A2  B2  C2  D2\n",
      "===================================================\n"
     ]
    }
   ],
   "source": [
    "left = pd.DataFrame({'A': ['A0', 'A1', 'A2'],\n",
    "                     'B': ['B0', 'B1', 'B2']},\n",
    "                    index=['K0', 'K1', 'K2'])\n",
    "right = pd.DataFrame({'C': ['C0', 'C2', 'C3'],\n",
    "                      'D': ['D0', 'D2', 'D3']},\n",
    "                     index=['K0', 'K2', 'K3'])\n",
    "printt(left)\n",
    "printt(right)\n",
    "# 以index来merge\n",
    "printt(pd.merge(left, right, left_index=True, right_index=True, how='outer'))\n",
    "printt(pd.merge(left, right, left_index=True, right_index=True, how='inner'))"
   ]
  },
  {
   "cell_type": "code",
   "execution_count": 19,
   "metadata": {},
   "outputs": [
    {
     "name": "stdout",
     "output_type": "stream",
     "text": [
      "    k  age\n",
      "0  K0    1\n",
      "1  K1    2\n",
      "2  K2    3\n",
      "===================================================\n",
      "    k  age\n",
      "0  K0    4\n",
      "1  K0    5\n",
      "2  K3    6\n",
      "===================================================\n",
      "    k  age_boy  age_girl\n",
      "0  K0        1         4\n",
      "1  K0        1         5\n",
      "===================================================\n"
     ]
    }
   ],
   "source": [
    "# handle overlapping\n",
    "boys = pd.DataFrame({'k': ['K0', 'K1', 'K2'], 'age': [1, 2, 3]})\n",
    "girls = pd.DataFrame({'k': ['K0', 'K0', 'K3'], 'age': [4, 5, 6]})\n",
    "printt(boys)\n",
    "printt(girls)\n",
    "# on='k', suffixes=['_boy', '_girl']\n",
    "# 列名相同时，suffixes\n",
    "printt(pd.merge(boys, girls, on='k', suffixes=['_boy', '_girl'], how='inner'))\n"
   ]
  },
  {
   "cell_type": "markdown",
   "metadata": {},
   "source": [
    "# plot"
   ]
  },
  {
   "cell_type": "code",
   "execution_count": 14,
   "metadata": {},
   "outputs": [
    {
     "name": "stdout",
     "output_type": "stream",
     "text": [
      "          A         B         C         D\n",
      "0  0.074460  2.033553  0.279274 -0.250440\n",
      "1 -0.697981  0.242097  0.451080 -0.043022\n",
      "2 -0.900774 -0.213448 -0.974574 -2.014434\n",
      "3  0.410352 -0.121605 -2.828510 -0.906639\n",
      "4  4.165176  2.190254 -2.774589 -1.814824\n",
      "===================================================\n"
     ]
    },
    {
     "data": {
      "image/png": "[encoded data removed]",
      "text/plain": [
       "<Figure size 432x288 with 1 Axes>"
      ]
     },
     "metadata": {
      "needs_background": "light"
     },
     "output_type": "display_data"
    },
    {
     "data": {
      "image/png": "[encoded data removed]",
      "text/plain": [
       "<Figure size 432x288 with 1 Axes>"
      ]
     },
     "metadata": {
      "needs_background": "light"
     },
     "output_type": "display_data"
    },
    {
     "data": {
      "image/png": "[encoded data removed]",
      "text/plain": [
       "<Figure size 432x288 with 1 Axes>"
      ]
     },
     "metadata": {
      "needs_background": "light"
     },
     "output_type": "display_data"
    }
   ],
   "source": [
    "import matplotlib.pyplot as plt\n",
    "data = pd.Series(np.random.randn(1000), index=np.arange(1000))\n",
    "data = data.cumsum()\n",
    "# 图1\n",
    "data.plot()\n",
    "\n",
    "data = pd.DataFrame(np.random.randn(1000, 4), index=np.arange(1000), columns=list(\"ABCD\"))\n",
    "data = data.cumsum()\n",
    "# 表1\n",
    "printt(data.head(5))\n",
    "# 图2\n",
    "data.plot()\n",
    "# plot methods:\n",
    "# 'bar', 'hist', 'box', 'kde', 'area', scatter', hexbin', 'pie'\n",
    "# 图3\n",
    "ax = data.plot.scatter(x='A', y='B', color='DarkBlue', label=\"Class 1\")\n",
    "data.plot.scatter(x='A', y='C', color='LightGreen', label='Class 2', ax=ax)\n",
    "\n",
    "plt.show()"
   ]
  },
  {
   "cell_type": "code",
   "execution_count": null,
   "metadata": {},
   "outputs": [],
   "source": []
  }
 ],
 "metadata": {
  "kernelspec": {
   "display_name": "Python 3",
   "language": "python",
   "name": "python3"
  },
  "language_info": {
   "codemirror_mode": {
    "name": "ipython",
    "version": 3
   },
   "file_extension": ".py",
   "mimetype": "text/x-python",
   "name": "python",
   "nbconvert_exporter": "python",
   "pygments_lexer": "ipython3",
   "version": "3.7.4"
  }
 },
 "nbformat": 4,
 "nbformat_minor": 2
}
