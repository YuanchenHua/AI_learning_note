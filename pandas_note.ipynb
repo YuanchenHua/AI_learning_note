{
 "cells": [
  {
   "cell_type": "code",
   "execution_count": 1,
   "metadata": {},
   "outputs": [],
   "source": [
    "import pandas as pd\n",
    "import numpy as np\n",
    "def printl():\n",
    "    print(\"===================================================\")\n",
    "    \n",
    "def printt(a):\n",
    "    print(a)\n",
    "    print(\"===================================================\")\n",
    "    "
   ]
  },
  {
   "cell_type": "code",
   "execution_count": 2,
   "metadata": {},
   "outputs": [
    {
     "name": "stdout",
     "output_type": "stream",
     "text": [
      "0    11\n",
      "1    23\n",
      "2     3\n",
      "3     4\n",
      "4     5\n",
      "5     6\n",
      "dtype: int64\n",
      "DatetimeIndex(['2016-01-01', '2016-01-02', '2016-01-03', '2016-01-04',\n",
      "               '2016-01-05', '2016-01-06', '2016-01-07', '2016-01-08',\n",
      "               '2016-01-09'],\n",
      "              dtype='datetime64[ns]', freq='D')\n"
     ]
    }
   ],
   "source": [
    "s = pd.Series([11,23,3,4,5,6])\n",
    "print(s)\n",
    "dates = pd.date_range('20160101',periods = 9)\n",
    "print(dates)"
   ]
  },
  {
   "cell_type": "markdown",
   "metadata": {},
   "source": [
    "# 生成DataFrame"
   ]
  },
  {
   "cell_type": "code",
   "execution_count": 3,
   "metadata": {},
   "outputs": [
    {
     "name": "stdout",
     "output_type": "stream",
     "text": [
      "   a  b  c\n",
      "x  1  2  3\n",
      "y  3  4  5\n",
      "          0         1         2         3\n",
      "0  0.133524  0.927820  0.368204  0.216494\n",
      "1  0.308866  0.573651  0.158637  0.308619\n",
      "2  0.205728  0.576958  0.999646  0.573852\n",
      "3  0.976350  0.794042  0.573549  0.784192\n",
      "4  0.634256  0.379163  0.824597  0.395700\n",
      "5  0.007070  0.081241  0.397664  0.059875\n",
      "6  0.606546  0.247270  0.564123  0.015764\n",
      "7  0.628833  0.755346  0.724042  0.138644\n",
      "8  0.895368  0.292908  0.590313  0.880970\n",
      "   A    B     C\n",
      "0  1  3.0  love\n",
      "1  2  3.0  love\n",
      "2  3  3.0  love\n",
      "3  4  3.0  love\n",
      "===================================================\n",
      "A      int64\n",
      "B    float64\n",
      "C     object\n",
      "dtype: object\n",
      "===================================================\n",
      "RangeIndex(start=0, stop=4, step=1)\n",
      "===================================================\n",
      "Index(['A', 'B', 'C'], dtype='object')\n",
      "===================================================\n",
      "[[1 3.0 'love']\n",
      " [2 3.0 'love']\n",
      " [3 3.0 'love']\n",
      " [4 3.0 'love']]\n",
      "===================================================\n",
      "              a         b         c\n",
      "count  2.000000  2.000000  2.000000\n",
      "mean   2.000000  3.000000  4.000000\n",
      "std    1.414214  1.414214  1.414214\n",
      "min    1.000000  2.000000  3.000000\n",
      "25%    1.500000  2.500000  3.500000\n",
      "50%    2.000000  3.000000  4.000000\n",
      "75%    2.500000  3.500000  4.500000\n",
      "max    3.000000  4.000000  5.000000\n",
      "===================================================\n",
      "      0     1     2     3\n",
      "A     1     2     3     4\n",
      "B     3     3     3     3\n",
      "C  love  love  love  love\n",
      "===================================================\n"
     ]
    }
   ],
   "source": [
    "df = pd.DataFrame(np.array([[1,2,3],[3,4,5]]),index = ['x','y'], columns = ['a','b','c'])\n",
    "print(df)\n",
    "df1 = pd.DataFrame(np.random.random((9,4)))\n",
    "print(df1)\n",
    "# 用字典生成\n",
    "df3 = pd.DataFrame({\"A\":[1,2,3,4],\"B\":3.0,\"C\":\"love\"})\n",
    "print(df3)\n",
    "printl()\n",
    "# dtypes 是每一列的数据类型\n",
    "print(df3.dtypes)\n",
    "printl()\n",
    "print(df3.index)\n",
    "printl()\n",
    "print(df3.columns)\n",
    "printl()\n",
    "print(df3.values)\n",
    "printl()\n",
    "# 都是按列统计的\n",
    "print(df.describe())\n",
    "printl()\n",
    "print(df3.T)\n",
    "printl()\n",
    " "
   ]
  },
  {
   "cell_type": "markdown",
   "metadata": {},
   "source": [
    "# 整理排序"
   ]
  },
  {
   "cell_type": "code",
   "execution_count": 4,
   "metadata": {},
   "outputs": [
    {
     "name": "stdout",
     "output_type": "stream",
     "text": [
      "   A    B     C\n",
      "0  1  3.0  love\n",
      "1  2  3.0  love\n",
      "2  3  3.0  love\n",
      "3  4  3.0  love\n",
      "===================================================\n",
      "      C    B  A\n",
      "0  love  3.0  1\n",
      "1  love  3.0  2\n",
      "2  love  3.0  3\n",
      "3  love  3.0  4\n",
      "===================================================\n",
      "   A    B     C\n",
      "3  4  3.0  love\n",
      "2  3  3.0  love\n",
      "1  2  3.0  love\n",
      "0  1  3.0  love\n"
     ]
    }
   ],
   "source": [
    "df = pd.DataFrame({\"A\":[1,2,3,4],\"B\":3.0,\"C\":\"love\"})\n",
    "print(df)\n",
    "printl()\n",
    "print(df.sort_index(axis = 1,ascending = False))\n",
    "printl()\n",
    "print(df.sort_index(axis = 0,ascending = False))\n"
   ]
  },
  {
   "cell_type": "code",
   "execution_count": 5,
   "metadata": {},
   "outputs": [
    {
     "name": "stdout",
     "output_type": "stream",
     "text": [
      "   A    B     C\n",
      "0  5  3.0  love\n",
      "1  2  3.0  love\n",
      "2  3  3.0  love\n",
      "3  4  3.0  love\n",
      "===================================================\n",
      "   A    B     C\n",
      "0  5  3.0  love\n",
      "3  4  3.0  love\n",
      "2  3  3.0  love\n",
      "1  2  3.0  love\n"
     ]
    }
   ],
   "source": [
    "df = pd.DataFrame({\"A\":[5,2,3,4],\"B\":3.0,\"C\":\"love\"})\n",
    "print(df)\n",
    "printl()\n",
    "print(df.sort_values(by = \"A\",ascending = False))"
   ]
  },
  {
   "cell_type": "markdown",
   "metadata": {},
   "source": [
    "# 选择数据"
   ]
  },
  {
   "cell_type": "code",
   "execution_count": 6,
   "metadata": {},
   "outputs": [
    {
     "name": "stdout",
     "output_type": "stream",
     "text": [
      "            A   B   C\n",
      "2019-01-01  0   1   2\n",
      "2019-01-02  3   4   5\n",
      "2019-01-03  6   7   8\n",
      "2019-01-04  9  10  11\n",
      "===================================================\n",
      "2019-01-01    0\n",
      "2019-01-02    3\n",
      "2019-01-03    6\n",
      "2019-01-04    9\n",
      "Freq: D, Name: A, dtype: int64\n",
      "2019-01-01    0\n",
      "2019-01-02    3\n",
      "2019-01-03    6\n",
      "2019-01-04    9\n",
      "Freq: D, Name: A, dtype: int64\n",
      "===================================================\n",
      "            A  B  C\n",
      "2019-01-01  0  1  2\n",
      "2019-01-02  3  4  5\n",
      "2019-01-03  6  7  8\n",
      "===================================================\n",
      "            A  B  C\n",
      "2019-01-01  0  1  2\n",
      "2019-01-02  3  4  5\n",
      "===================================================\n",
      "            A  B  C\n",
      "2019-01-01  0  1  2\n"
     ]
    }
   ],
   "source": [
    "dates = pd.date_range('20190101',periods = 4)\n",
    "df = pd.DataFrame(np.arange(12).reshape((4,3)),index = dates,columns = ['A','B','C'])\n",
    "print(df)\n",
    "printl()\n",
    "# 后面直接跟[]只能取列\n",
    "print(df.A)\n",
    "print(df['A'])\n",
    "printl()\n",
    "# 切片取行\n",
    "print(df[0:3])\n",
    "printl()\n",
    "# 只能切片，不能单行\n",
    "print(df['20190101':'20190102'])\n",
    "printl()\n",
    "# 单行也要用切片的方式\n",
    "print(df['20190101':'20190101'])"
   ]
  },
  {
   "cell_type": "markdown",
   "metadata": {},
   "source": [
    "## 纯标签挑选 loc[ ]"
   ]
  },
  {
   "cell_type": "code",
   "execution_count": 7,
   "metadata": {},
   "outputs": [
    {
     "name": "stdout",
     "output_type": "stream",
     "text": [
      "            A   B   C\n",
      "2019-01-01  0   1   2\n",
      "2019-01-02  3   4   5\n",
      "2019-01-03  6   7   8\n",
      "2019-01-04  9  10  11\n",
      "===================================================\n",
      "7\n",
      "===================================================\n",
      "A    0\n",
      "B    1\n",
      "C    2\n",
      "Name: 2019-01-01 00:00:00, dtype: int64\n",
      "===================================================\n",
      "2019-01-01    0\n",
      "2019-01-02    3\n",
      "2019-01-03    6\n",
      "2019-01-04    9\n",
      "Freq: D, Name: A, dtype: int64\n",
      "===================================================\n",
      "2019-01-01    0\n",
      "2019-01-02    3\n",
      "2019-01-03    6\n",
      "2019-01-04    9\n",
      "Freq: D, Name: A, dtype: int64\n",
      "===================================================\n",
      "            A   B   C\n",
      "2019-01-01  0   1   2\n",
      "2019-01-02  3   4   5\n",
      "2019-01-03  6   7   8\n",
      "2019-01-04  9  10  11\n",
      "===================================================\n",
      "            A  B  C\n",
      "2019-01-01  0  1  2\n",
      "2019-01-02  3  4  5\n",
      "2019-01-03  6  7  8\n",
      "===================================================\n",
      "            A  B\n",
      "2019-01-01  0  1\n",
      "2019-01-02  3  4\n",
      "2019-01-03  6  7\n",
      "===================================================\n",
      "            A\n",
      "2019-01-01  0\n",
      "2019-01-02  3\n",
      "2019-01-03  6\n",
      "===================================================\n",
      "            A  C\n",
      "2019-01-01  0  2\n",
      "2019-01-02  3  5\n",
      "2019-01-03  6  8\n"
     ]
    }
   ],
   "source": [
    "dates = pd.date_range('20190101',periods = 4)\n",
    "df = pd.DataFrame(np.arange(12).reshape((4,3)),index = dates,columns = ['A','B','C'])\n",
    "print(df)\n",
    "printl()\n",
    "print(df.loc['20190103']['B'])\n",
    "printl()\n",
    "# loc只能取行\n",
    "print(df.loc['20190101'])\n",
    "printl()\n",
    "# 想要列的话，用切片方法\n",
    "# 这里相当于，先用loc取行，再在取到的切片中用 .A 或 [‘A’]\n",
    "print(df.loc[:][\"A\"])\n",
    "printl()\n",
    "print(df.loc[:].A)\n",
    "printl()\n",
    "print(df.loc[:][:])\n",
    "printl()\n",
    "print(df.loc['20190101':'20190103'])\n",
    "# 行列全部取任意的\n",
    "printl()\n",
    "print(df.loc['20190101':'20190103',[\"A\",'B']])\n",
    "printl()\n",
    "print(df.loc['20190101':'20190103',\"A\":'A'])\n",
    "printl()\n",
    "print(df.loc['20190101':'20190103',[\"A\",'C']])"
   ]
  },
  {
   "cell_type": "markdown",
   "metadata": {},
   "source": [
    "## 纯数字挑选 iloc[ ]\n"
   ]
  },
  {
   "cell_type": "code",
   "execution_count": 8,
   "metadata": {},
   "outputs": [
    {
     "name": "stdout",
     "output_type": "stream",
     "text": [
      "            A   B   C\n",
      "2019-01-01  0   1   2\n",
      "2019-01-02  3   4   5\n",
      "2019-01-03  6   7   8\n",
      "2019-01-04  9  10  11\n",
      "===================================================\n",
      "7\n",
      "===================================================\n",
      "            B  C\n",
      "2019-01-01  1  2\n",
      "2019-01-02  4  5\n",
      "===================================================\n",
      "            B  C\n",
      "2019-01-01  1  2\n",
      "2019-01-03  7  8\n"
     ]
    }
   ],
   "source": [
    "dates = pd.date_range('20190101',periods = 4)\n",
    "df = pd.DataFrame(np.arange(12).reshape((4,3)),index = dates,columns = ['A','B','C'])\n",
    "print(df)\n",
    "printl()\n",
    "print(df.iloc[2,1])\n",
    "printl()\n",
    "# 所有切片的尾巴是取不到的\n",
    "print(df.iloc[0:2,1:3])\n",
    "printl()\n",
    "print(df.iloc[[0,2],1:3])"
   ]
  },
  {
   "cell_type": "markdown",
   "metadata": {},
   "source": [
    "## boolean index"
   ]
  },
  {
   "cell_type": "code",
   "execution_count": 9,
   "metadata": {},
   "outputs": [
    {
     "name": "stdout",
     "output_type": "stream",
     "text": [
      "            A   B   C\n",
      "2019-01-01  0   1   2\n",
      "2019-01-02  3   4   5\n",
      "2019-01-03  6   7   8\n",
      "2019-01-04  9  10  11\n",
      "===================================================\n",
      "            A   B   C\n",
      "2019-01-03  6   7   8\n",
      "2019-01-04  9  10  11\n",
      "            A   B   C\n",
      "2019-01-03  6   7   8\n",
      "2019-01-04  9  10  11\n"
     ]
    }
   ],
   "source": [
    "dates = pd.date_range('20190101',periods = 4)\n",
    "df = pd.DataFrame(np.arange(12).reshape((4,3)),index = dates,columns = ['A','B','C'])\n",
    "print(df)\n",
    "printl()\n",
    "print(df[df.A>5])\n",
    "print(df[df.A>5])"
   ]
  },
  {
   "cell_type": "markdown",
   "metadata": {},
   "source": [
    "# 设置值"
   ]
  },
  {
   "cell_type": "code",
   "execution_count": 10,
   "metadata": {},
   "outputs": [
    {
     "name": "stdout",
     "output_type": "stream",
     "text": [
      "             A   B   C   D\n",
      "2019-01-01   0   1   2   3\n",
      "2019-01-02   4   5   6   7\n",
      "2019-01-03   8   9  10  11\n",
      "2019-01-04  12  13  14  15\n",
      "2019-01-05  16  17  18  19\n",
      "2019-01-06  20  21  22  23\n",
      "===================================================\n",
      "             A   B   C    D\n",
      "2019-01-01   0   1   2    3\n",
      "2019-01-02   4   5   6    7\n",
      "2019-01-03   8   9  10  111\n",
      "2019-01-04  12  13  14   15\n",
      "2019-01-05  16  17  18   19\n",
      "2019-01-06  20  21  22   23\n",
      "===================================================\n",
      "             A    B   C    D\n",
      "2019-01-01   0  111   2    3\n",
      "2019-01-02   4    5   6    7\n",
      "2019-01-03   8    9  10  111\n",
      "2019-01-04  12   13  14   15\n",
      "2019-01-05  16   17  18   19\n",
      "2019-01-06  20   21  22   23\n",
      "===================================================\n",
      "            A    B   C    D\n",
      "2019-01-01  0  111   2    3\n",
      "2019-01-02  0    5   6    7\n",
      "2019-01-03  0    9  10  111\n",
      "2019-01-04  0   13  14   15\n",
      "2019-01-05  0   17  18   19\n",
      "2019-01-06  0   21  22   23\n",
      "===================================================\n"
     ]
    }
   ],
   "source": [
    "dates = pd.date_range('20190101',periods = 6)\n",
    "df = pd.DataFrame(np.arange(24).reshape((6,4)),index = dates,columns = ['A','B','C','D'])\n",
    "print(df)\n",
    "printl()\n",
    "df.iloc[2,3] = 111\n",
    "print(df)\n",
    "printl()\n",
    "df.loc['20190101','B'] = 111\n",
    "print(df)\n",
    "printl()\n",
    "df.A[df.A>0] = 0\n",
    "print(df)\n",
    "printl()"
   ]
  },
  {
   "cell_type": "markdown",
   "metadata": {},
   "source": [
    "## 加一列"
   ]
  },
  {
   "cell_type": "code",
   "execution_count": 12,
   "metadata": {},
   "outputs": [
    {
     "name": "stdout",
     "output_type": "stream",
     "text": [
      "             A   B   C   D\n",
      "2019-01-01   0   1   2   3\n",
      "2019-01-02   4   5   6   7\n",
      "2019-01-03   8   9  10  11\n",
      "2019-01-04  12  13  14  15\n",
      "2019-01-05  16  17  18  19\n",
      "2019-01-06  20  21  22  23\n",
      "===================================================\n",
      "             A   B   C   D   F\n",
      "2019-01-01   0   1   2   3 NaN\n",
      "2019-01-02   4   5   6   7 NaN\n",
      "2019-01-03   8   9  10  11 NaN\n",
      "2019-01-04  12  13  14  15 NaN\n",
      "2019-01-05  16  17  18  19 NaN\n",
      "2019-01-06  20  21  22  23 NaN\n",
      "===================================================\n",
      "             A   B   C   D   F  G\n",
      "2019-01-01   0   1   2   3 NaN  1\n",
      "2019-01-02   4   5   6   7 NaN  2\n",
      "2019-01-03   8   9  10  11 NaN  3\n",
      "2019-01-04  12  13  14  15 NaN  4\n",
      "2019-01-05  16  17  18  19 NaN  5\n",
      "2019-01-06  20  21  22  23 NaN  6\n",
      "===================================================\n"
     ]
    }
   ],
   "source": [
    "dates = pd.date_range('20190101',periods = 6)\n",
    "df = pd.DataFrame(np.arange(24).reshape((6,4)),index = dates,columns = ['A','B','C','D'])\n",
    "printt(df)\n",
    "# 加一列空白\n",
    "df['F'] = np.nan\n",
    "printt(df)\n",
    "# Series 加一列\n",
    "df['G'] = pd.Series([1,2,3,4,5,6],index = pd.date_range('20190101',periods = 6))\n",
    "printt(df)"
   ]
  },
  {
   "cell_type": "markdown",
   "metadata": {},
   "source": [
    "# 处理数据丢失"
   ]
  },
  {
   "cell_type": "code",
   "execution_count": 29,
   "metadata": {},
   "outputs": [
    {
     "name": "stdout",
     "output_type": "stream",
     "text": [
      "             A     B   C   D    E\n",
      "2019-01-01   0   1.0   2   3  1.0\n",
      "2019-01-02   4   5.0   6   7  2.0\n",
      "2019-01-03   8   NaN  10  11  3.0\n",
      "2019-01-04  12  13.0  14  15  NaN\n",
      "2019-01-05  16  17.0  18  19  5.0\n",
      "2019-01-06  20  21.0  22  23  6.0\n",
      "===================================================\n",
      "             A     B   C   D    E\n",
      "2019-01-01   0   1.0   2   3  1.0\n",
      "2019-01-02   4   5.0   6   7  2.0\n",
      "2019-01-05  16  17.0  18  19  5.0\n",
      "2019-01-06  20  21.0  22  23  6.0\n",
      "===================================================\n",
      "             A   C   D\n",
      "2019-01-01   0   2   3\n",
      "2019-01-02   4   6   7\n",
      "2019-01-03   8  10  11\n",
      "2019-01-04  12  14  15\n",
      "2019-01-05  16  18  19\n",
      "2019-01-06  20  22  23\n",
      "===================================================\n",
      "             A       B   C   D       E\n",
      "2019-01-01   0     1.0   2   3     1.0\n",
      "2019-01-02   4     5.0   6   7     2.0\n",
      "2019-01-03   8  1000.0  10  11     3.0\n",
      "2019-01-04  12    13.0  14  15  1000.0\n",
      "2019-01-05  16    17.0  18  19     5.0\n",
      "2019-01-06  20    21.0  22  23     6.0\n",
      "===================================================\n",
      "False\n",
      "===================================================\n"
     ]
    }
   ],
   "source": [
    "dates = pd.date_range('20190101',periods = 6)\n",
    "df = pd.DataFrame(np.arange(24).reshape((6,4)),index = dates,columns = ['A','B','C','D'])\n",
    "df['E'] = [1,2,3,np.nan,5,6]\n",
    "df.iloc[2,1] = np.nan\n",
    "printt(df)\n",
    "printt(df.dropna(axis = 0, how='any')) # 又一个nan，就丢掉整个  \"all\" 全部是nan才丢掉整个\n",
    "printt(df.dropna(axis = 1,how = 'any'))\n",
    "# 填补数据\n",
    "printt(df.fillna(axis = 1,value = 1000))\n",
    "# isnull()判断是否丢失的函数\n",
    "printt(np.all(df.isnull()))"
   ]
  },
  {
   "cell_type": "markdown",
   "metadata": {},
   "source": [
    "# 导入导出数据\n",
    "https://pandas.pydata.org/pandas-docs/stable/user_guide/io.html"
   ]
  },
  {
   "cell_type": "code",
   "execution_count": 32,
   "metadata": {},
   "outputs": [],
   "source": [
    "# df.to_pickle(\"a.pickle\")"
   ]
  },
  {
   "cell_type": "markdown",
   "metadata": {},
   "source": [
    "# 合并DataFrame\n",
    "## concat"
   ]
  },
  {
   "cell_type": "code",
   "execution_count": 48,
   "metadata": {},
   "outputs": [
    {
     "name": "stdout",
     "output_type": "stream",
     "text": [
      "     a    b    c    d    e\n",
      "0  0.0  0.0  0.0  0.0  0.0\n",
      "1  0.0  0.0  0.0  0.0  0.0\n",
      "2  0.0  0.0  0.0  0.0  0.0\n",
      "3  0.0  0.0  0.0  0.0  0.0\n",
      "0  1.0  1.0  1.0  1.0  1.0\n",
      "1  1.0  1.0  1.0  1.0  1.0\n",
      "2  1.0  1.0  1.0  1.0  1.0\n",
      "3  1.0  1.0  1.0  1.0  1.0\n",
      "0  2.0  2.0  2.0  2.0  2.0\n",
      "1  2.0  2.0  2.0  2.0  2.0\n",
      "2  2.0  2.0  2.0  2.0  2.0\n",
      "3  2.0  2.0  2.0  2.0  2.0\n",
      "===================================================\n",
      "      a    b    c    d    e\n",
      "0   0.0  0.0  0.0  0.0  0.0\n",
      "1   0.0  0.0  0.0  0.0  0.0\n",
      "2   0.0  0.0  0.0  0.0  0.0\n",
      "3   0.0  0.0  0.0  0.0  0.0\n",
      "4   1.0  1.0  1.0  1.0  1.0\n",
      "5   1.0  1.0  1.0  1.0  1.0\n",
      "6   1.0  1.0  1.0  1.0  1.0\n",
      "7   1.0  1.0  1.0  1.0  1.0\n",
      "8   2.0  2.0  2.0  2.0  2.0\n",
      "9   2.0  2.0  2.0  2.0  2.0\n",
      "10  2.0  2.0  2.0  2.0  2.0\n",
      "11  2.0  2.0  2.0  2.0  2.0\n",
      "===================================================\n"
     ]
    }
   ],
   "source": [
    "df1 = pd.DataFrame(np.ones((4,5))*0,columns = ['a','b','c','d','e'])\n",
    "df2 = pd.DataFrame(np.ones((4,5))*1,columns = ['a','b','c','d','e'])\n",
    "df3 = pd.DataFrame(np.ones((4,5))*2,columns = ['a','b','c','d','e'])\n",
    "# pd.concat()\n",
    "printt(pd.concat([df1,df2,df3],axis = 0)) # axis = 0 是列叠加\n",
    "printt(pd.concat([df1,df2,df3],axis = 0,ignore_index = True))\n"
   ]
  },
  {
   "cell_type": "code",
   "execution_count": 62,
   "metadata": {},
   "outputs": [
    {
     "name": "stdout",
     "output_type": "stream",
     "text": [
      "     a    b    c    d    f\n",
      "0  0.0  0.0  0.0  0.0  0.0\n",
      "1  0.0  0.0  0.0  0.0  0.0\n",
      "2  0.0  0.0  0.0  0.0  0.0\n",
      "3  0.0  0.0  0.0  0.0  0.0\n",
      "===================================================\n",
      "     a    b    c    d    e\n",
      "2  1.0  1.0  1.0  1.0  1.0\n",
      "3  1.0  1.0  1.0  1.0  1.0\n",
      "4  1.0  1.0  1.0  1.0  1.0\n",
      "5  1.0  1.0  1.0  1.0  1.0\n",
      "===================================================\n",
      "     a    b    c    d    f    e\n",
      "0  0.0  0.0  0.0  0.0  0.0  NaN\n",
      "1  0.0  0.0  0.0  0.0  0.0  NaN\n",
      "2  0.0  0.0  0.0  0.0  0.0  NaN\n",
      "3  0.0  0.0  0.0  0.0  0.0  NaN\n",
      "2  1.0  1.0  1.0  1.0  NaN  1.0\n",
      "3  1.0  1.0  1.0  1.0  NaN  1.0\n",
      "4  1.0  1.0  1.0  1.0  NaN  1.0\n",
      "5  1.0  1.0  1.0  1.0  NaN  1.0\n",
      "===================================================\n",
      "     a    b    c    d\n",
      "0  0.0  0.0  0.0  0.0\n",
      "1  0.0  0.0  0.0  0.0\n",
      "2  0.0  0.0  0.0  0.0\n",
      "3  0.0  0.0  0.0  0.0\n",
      "2  1.0  1.0  1.0  1.0\n",
      "3  1.0  1.0  1.0  1.0\n",
      "4  1.0  1.0  1.0  1.0\n",
      "5  1.0  1.0  1.0  1.0\n",
      "===================================================\n",
      "      a    b    c    d    e    f\n",
      "0   0.0  0.0  0.0  0.0  NaN  0.0\n",
      "1   0.0  0.0  0.0  0.0  NaN  0.0\n",
      "2   0.0  0.0  0.0  0.0  NaN  0.0\n",
      "3   0.0  0.0  0.0  0.0  NaN  0.0\n",
      "4   0.0  0.0  0.0  0.0  NaN  0.0\n",
      "5   0.0  0.0  0.0  0.0  NaN  0.0\n",
      "6   0.0  0.0  0.0  0.0  NaN  0.0\n",
      "7   0.0  0.0  0.0  0.0  NaN  0.0\n",
      "8   1.0  1.0  1.0  1.0  1.0  NaN\n",
      "9   1.0  1.0  1.0  1.0  1.0  NaN\n",
      "10  1.0  1.0  1.0  1.0  1.0  NaN\n",
      "11  1.0  1.0  1.0  1.0  1.0  NaN\n",
      "===================================================\n",
      "     a    b    c    d    e    f\n",
      "0  0.0  0.0  0.0  0.0  NaN  0.0\n",
      "1  0.0  0.0  0.0  0.0  NaN  0.0\n",
      "2  0.0  0.0  0.0  0.0  NaN  0.0\n",
      "3  0.0  0.0  0.0  0.0  NaN  0.0\n",
      "4  1.0  2.0  3.0  4.0  5.0  NaN\n",
      "===================================================\n"
     ]
    }
   ],
   "source": [
    "df1 = pd.DataFrame(np.ones((4,5))*0,columns = ['a','b','c','d','f'],index = [0,1,2,3])\n",
    "df2 = pd.DataFrame(np.ones((4,5))*1,columns = ['a','b','c','d','e'],index = [2,3,4,5])\n",
    "printt(df1)\n",
    "printt(df2)\n",
    "# join 方式\n",
    "printt(pd.concat([df1,df2],join='outer',sort=False))\n",
    "printt(pd.concat([df1,df2],join='inner',sort=False))\n",
    "# \n",
    "printt(df1.append([df1,df2],ignore_index = True,sort=True))\n",
    "s1 = pd.Series([1,2,3,4,5],index = ['a','b','c','d','e'])\n",
    "printt(df1.append(s1,ignore_index = True,sort=True))"
   ]
  },
  {
   "cell_type": "markdown",
   "metadata": {},
   "source": [
    "## merge"
   ]
  },
  {
   "cell_type": "code",
   "execution_count": 63,
   "metadata": {},
   "outputs": [
    {
     "name": "stdout",
     "output_type": "stream",
     "text": [
      "  key   A   B\n",
      "0  K0  A0  B0\n",
      "1  K1  A1  B1\n",
      "2  K2  A2  B2\n",
      "3  K3  A3  B3\n",
      "  key   C   D\n",
      "0  K0  C0  D0\n",
      "1  K1  C1  D1\n",
      "2  K2  C2  D2\n",
      "3  K3  C3  D3\n",
      "  key   A   B   C   D\n",
      "0  K0  A0  B0  C0  D0\n",
      "1  K1  A1  B1  C1  D1\n",
      "2  K2  A2  B2  C2  D2\n",
      "3  K3  A3  B3  C3  D3\n",
      "  key1 key2   A   B\n",
      "0   K0   K0  A0  B0\n",
      "1   K0   K1  A1  B1\n",
      "2   K1   K0  A2  B2\n",
      "3   K2   K1  A3  B3\n",
      "  key1 key2   C   D\n",
      "0   K0   K0  C0  D0\n",
      "1   K1   K0  C1  D1\n",
      "2   K1   K0  C2  D2\n",
      "3   K2   K0  C3  D3\n",
      "  key1 key2   A   B    C    D\n",
      "0   K0   K0  A0  B0   C0   D0\n",
      "1   K0   K1  A1  B1  NaN  NaN\n",
      "2   K1   K0  A2  B2   C1   D1\n",
      "3   K1   K0  A2  B2   C2   D2\n",
      "4   K2   K1  A3  B3  NaN  NaN\n",
      "   col1 col_left\n",
      "0     0        a\n",
      "1     1        b\n",
      "   col1  col_right\n",
      "0     1          2\n",
      "1     2          2\n",
      "2     2          2\n",
      "     A   B\n",
      "K0  A0  B0\n",
      "K1  A1  B1\n",
      "K2  A2  B2\n",
      "     C   D\n",
      "K0  C0  D0\n",
      "K2  C2  D2\n",
      "K3  C3  D3\n",
      "    k  age_boy  age_girl\n",
      "0  K0        1         4\n",
      "1  K0        1         5\n"
     ]
    }
   ],
   "source": [
    "left = pd.DataFrame({'key': ['K0', 'K1', 'K2', 'K3'],\n",
    "                                  'A': ['A0', 'A1', 'A2', 'A3'],\n",
    "                                  'B': ['B0', 'B1', 'B2', 'B3']})\n",
    "right = pd.DataFrame({'key': ['K0', 'K1', 'K2', 'K3'],\n",
    "                                    'C': ['C0', 'C1', 'C2', 'C3'],\n",
    "                                    'D': ['D0', 'D1', 'D2', 'D3']})\n",
    "print(left)\n",
    "print(right)\n",
    "res = pd.merge(left, right, on='key')\n",
    "print(res)\n",
    "\n",
    "# consider two keys\n",
    "left = pd.DataFrame({'key1': ['K0', 'K0', 'K1', 'K2'],\n",
    "                             'key2': ['K0', 'K1', 'K0', 'K1'],\n",
    "                             'A': ['A0', 'A1', 'A2', 'A3'],\n",
    "                             'B': ['B0', 'B1', 'B2', 'B3']})\n",
    "right = pd.DataFrame({'key1': ['K0', 'K1', 'K1', 'K2'],\n",
    "                              'key2': ['K0', 'K0', 'K0', 'K0'],\n",
    "                              'C': ['C0', 'C1', 'C2', 'C3'],\n",
    "                              'D': ['D0', 'D1', 'D2', 'D3']})\n",
    "print(left)\n",
    "print(right)\n",
    "res = pd.merge(left, right, on=['key1', 'key2'], how='inner')  # default for how='inner'\n",
    "# how = ['left', 'right', 'outer', 'inner']\n",
    "res = pd.merge(left, right, on=['key1', 'key2'], how='left')\n",
    "print(res)\n",
    "\n",
    "# indicator\n",
    "df1 = pd.DataFrame({'col1':[0,1], 'col_left':['a','b']})\n",
    "df2 = pd.DataFrame({'col1':[1,2,2],'col_right':[2,2,2]})\n",
    "print(df1)\n",
    "print(df2)\n",
    "res = pd.merge(df1, df2, on='col1', how='outer', indicator=True)\n",
    "# give the indicator a custom name\n",
    "res = pd.merge(df1, df2, on='col1', how='outer', indicator='indicator_column')\n",
    "\n",
    "\n",
    "# merged by index\n",
    "left = pd.DataFrame({'A': ['A0', 'A1', 'A2'],\n",
    "                                  'B': ['B0', 'B1', 'B2']},\n",
    "                                  index=['K0', 'K1', 'K2'])\n",
    "right = pd.DataFrame({'C': ['C0', 'C2', 'C3'],\n",
    "                                     'D': ['D0', 'D2', 'D3']},\n",
    "                                      index=['K0', 'K2', 'K3'])\n",
    "print(left)\n",
    "print(right)\n",
    "# left_index and right_index\n",
    "res = pd.merge(left, right, left_index=True, right_index=True, how='outer')\n",
    "res = pd.merge(left, right, left_index=True, right_index=True, how='inner')\n",
    "\n",
    "# handle overlapping\n",
    "boys = pd.DataFrame({'k': ['K0', 'K1', 'K2'], 'age': [1, 2, 3]})\n",
    "girls = pd.DataFrame({'k': ['K0', 'K0', 'K3'], 'age': [4, 5, 6]})\n",
    "res = pd.merge(boys, girls, on='k', suffixes=['_boy', '_girl'], how='inner')\n",
    "print(res)"
   ]
  },
  {
   "cell_type": "code",
   "execution_count": null,
   "metadata": {},
   "outputs": [],
   "source": []
  }
 ],
 "metadata": {
  "kernelspec": {
   "display_name": "Python 3",
   "language": "python",
   "name": "python3"
  },
  "language_info": {
   "codemirror_mode": {
    "name": "ipython",
    "version": 3
   },
   "file_extension": ".py",
   "mimetype": "text/x-python",
   "name": "python",
   "nbconvert_exporter": "python",
   "pygments_lexer": "ipython3",
   "version": "3.7.4"
  }
 },
 "nbformat": 4,
 "nbformat_minor": 2
}
